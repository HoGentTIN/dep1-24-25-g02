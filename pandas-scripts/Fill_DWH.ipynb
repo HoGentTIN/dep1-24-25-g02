{
 "cells": [
  {
   "cell_type": "markdown",
   "metadata": {},
   "source": [
    "1: DimDate Table"
   ]
  },
  {
   "cell_type": "code",
   "execution_count": 6,
   "metadata": {
    "ExecuteTime": {
     "end_time": "2025-03-10T15:02:26.979313600Z",
     "start_time": "2025-03-10T15:02:22.685071200Z"
    }
   },
   "outputs": [
    {
     "name": "stdout",
     "output_type": "stream",
     "text": [
      "Requirement already satisfied: sqlalchemy in c:\\users\\jaakd\\pycharmprojects\\dep1-24-25-g02\\venv\\lib\\site-packages (2.0.38)\n",
      "Requirement already satisfied: greenlet!=0.4.17 in c:\\users\\jaakd\\pycharmprojects\\dep1-24-25-g02\\venv\\lib\\site-packages (from sqlalchemy) (3.1.1)\n",
      "Requirement already satisfied: typing-extensions>=4.6.0 in c:\\users\\jaakd\\pycharmprojects\\dep1-24-25-g02\\venv\\lib\\site-packages (from sqlalchemy) (4.12.2)\n",
      "Note: you may need to restart the kernel to use updated packages.\n"
     ]
    },
    {
     "name": "stderr",
     "output_type": "stream",
     "text": [
      "\n",
      "[notice] A new release of pip available: 22.3.1 -> 25.0.1\n",
      "[notice] To update, run: python.exe -m pip install --upgrade pip\n"
     ]
    },
    {
     "name": "stdout",
     "output_type": "stream",
     "text": [
      "Requirement already satisfied: pyodbc in c:\\users\\jaakd\\pycharmprojects\\dep1-24-25-g02\\venv\\lib\\site-packages (5.2.0)\n",
      "Note: you may need to restart the kernel to use updated packages.\n"
     ]
    },
    {
     "name": "stderr",
     "output_type": "stream",
     "text": [
      "\n",
      "[notice] A new release of pip available: 22.3.1 -> 25.0.1\n",
      "[notice] To update, run: python.exe -m pip install --upgrade pip\n"
     ]
    }
   ],
   "source": [
    "%pip install --upgrade sqlalchemy\n",
    "%pip install --upgrade pyodbc"
   ]
  },
  {
   "cell_type": "code",
   "execution_count": 2,
   "metadata": {
    "ExecuteTime": {
     "end_time": "2025-03-10T15:19:39.450931800Z",
     "start_time": "2025-03-10T15:19:39.391387700Z"
    }
   },
   "outputs": [
    {
     "name": "stdout",
     "output_type": "stream",
     "text": [
      "['SQL Server', 'SQL Server Native Client 11.0', 'SQL Server Native Client RDA 11.0', 'ODBC Driver 17 for SQL Server', 'ODBC Driver 18 for SQL Server', 'Microsoft Access Driver (*.mdb, *.accdb)', 'Microsoft Excel Driver (*.xls, *.xlsx, *.xlsm, *.xlsb)', 'Microsoft Access Text Driver (*.txt, *.csv)', 'Microsoft Access dBASE Driver (*.dbf, *.ndx, *.mdx)']\n"
     ]
    }
   ],
   "source": [
    "import pyodbc\n",
    "print(pyodbc.drivers())"
   ]
  },
  {
   "cell_type": "code",
   "execution_count": 3,
   "metadata": {
    "ExecuteTime": {
     "end_time": "2025-03-10T15:19:46.071553600Z",
     "start_time": "2025-03-10T15:19:40.315479300Z"
    }
   },
   "outputs": [],
   "source": [
    "import re\n",
    "import pandas as pd\n",
    "from sqlalchemy import create_engine"
   ]
  },
  {
   "cell_type": "code",
   "execution_count": 4,
   "metadata": {
    "ExecuteTime": {
     "end_time": "2025-03-10T15:19:46.228577Z",
     "start_time": "2025-03-10T15:19:46.065225500Z"
    }
   },
   "outputs": [],
   "source": [
    "# Gegevens voor de verbinding\n",
    "server = r\"localhost\"  # Servernaam of IP-adres van je SQL Server\n",
    "database = \"DEP1_DWH\"  # Naam van je database\n",
    "\n",
    "# Maak de verbindingsstring met Windows Authenticatie (Integrated Security)\n",
    "engine = create_engine(\"mssql+pyodbc://@{}/{}?driver=ODBC+Driver+17+for+SQL+Server\".format(server, database))"
   ]
  },
  {
   "cell_type": "code",
   "execution_count": 10,
   "metadata": {
    "ExecuteTime": {
     "end_time": "2025-03-10T15:02:29.377779300Z",
     "start_time": "2025-03-10T15:02:27.004503300Z"
    }
   },
   "outputs": [
    {
     "data": {
      "text/plain": "80"
     },
     "execution_count": 10,
     "metadata": {},
     "output_type": "execute_result"
    }
   ],
   "source": [
    "# Maak een range van datums\n",
    "date_list = pd.date_range(start=\"01-01-2010\", end=\"31-12-2025\", freq='D')\n",
    "\n",
    "months_translation = {\n",
    "    'January': 'Januari', 'February': 'Februari', 'March': 'Maart', 'April': 'April',\n",
    "    'May': 'Mei', 'June': 'Juni', 'July': 'Juli', 'August': 'Augustus', \n",
    "    'September': 'September', 'October': 'Oktober', 'November': 'November', 'December': 'December'\n",
    "}\n",
    "\n",
    "days_translation = {\n",
    "    'Monday': 'Maandag', 'Tuesday': 'Dinsdag', 'Wednesday': 'Woensdag', 'Thursday': 'Donderdag',\n",
    "    'Friday': 'Vrijdag', 'Saturday': 'Zaterdag', 'Sunday': 'Zondag'\n",
    "}\n",
    "\n",
    "dim_date_df = pd.DataFrame({\n",
    "    'DateKey': date_list.strftime('%Y%m%d').astype(int),  # YYYYMMDD als key\n",
    "    'FullDate': date_list.date,  # Volledige datum\n",
    "    'MonthNameDutch': date_list.strftime('%B').map(months_translation),  # Maandnaam (kan vertaald worden)\n",
    "    'MonthNameEN': date_list.strftime('%B'),  # Maandnaam in Engels\n",
    "    'DayNameDutch': date_list.strftime('%A').map(days_translation),  # Dagnaam in Nederlands\n",
    "    'DayNameEN': date_list.strftime('%A'),  # Dagnaam in Engels\n",
    "    'QuarterName': 'Q' + date_list.quarter.astype(str),  # Kwartaal als 'Q1', 'Q2', ...\n",
    "    'QuarterNumber': date_list.quarter  # Kwartaalnummer (1-4)\n",
    "})\n",
    "\n",
    "# Schrijf naar SQL Server\n",
    "dim_date_df.to_sql('DimDate', con=engine, if_exists='append', index=False)"
   ]
  },
  {
   "cell_type": "code",
   "execution_count": 11,
   "metadata": {
    "ExecuteTime": {
     "end_time": "2025-03-10T15:02:29.400230700Z",
     "start_time": "2025-03-10T15:02:29.377779300Z"
    }
   },
   "outputs": [
    {
     "data": {
      "text/plain": "    DateKey    FullDate MonthNameDutch MonthNameEN DayNameDutch DayNameEN  \\\n0  20100101  2010-01-01        Januari     January      Vrijdag    Friday   \n1  20100102  2010-01-02        Januari     January     Zaterdag  Saturday   \n2  20100103  2010-01-03        Januari     January       Zondag    Sunday   \n3  20100104  2010-01-04        Januari     January      Maandag    Monday   \n4  20100105  2010-01-05        Januari     January      Dinsdag   Tuesday   \n\n  QuarterName  QuarterNumber  \n0          Q1              1  \n1          Q1              1  \n2          Q1              1  \n3          Q1              1  \n4          Q1              1  ",
      "text/html": "<div>\n<style scoped>\n    .dataframe tbody tr th:only-of-type {\n        vertical-align: middle;\n    }\n\n    .dataframe tbody tr th {\n        vertical-align: top;\n    }\n\n    .dataframe thead th {\n        text-align: right;\n    }\n</style>\n<table border=\"1\" class=\"dataframe\">\n  <thead>\n    <tr style=\"text-align: right;\">\n      <th></th>\n      <th>DateKey</th>\n      <th>FullDate</th>\n      <th>MonthNameDutch</th>\n      <th>MonthNameEN</th>\n      <th>DayNameDutch</th>\n      <th>DayNameEN</th>\n      <th>QuarterName</th>\n      <th>QuarterNumber</th>\n    </tr>\n  </thead>\n  <tbody>\n    <tr>\n      <th>0</th>\n      <td>20100101</td>\n      <td>2010-01-01</td>\n      <td>Januari</td>\n      <td>January</td>\n      <td>Vrijdag</td>\n      <td>Friday</td>\n      <td>Q1</td>\n      <td>1</td>\n    </tr>\n    <tr>\n      <th>1</th>\n      <td>20100102</td>\n      <td>2010-01-02</td>\n      <td>Januari</td>\n      <td>January</td>\n      <td>Zaterdag</td>\n      <td>Saturday</td>\n      <td>Q1</td>\n      <td>1</td>\n    </tr>\n    <tr>\n      <th>2</th>\n      <td>20100103</td>\n      <td>2010-01-03</td>\n      <td>Januari</td>\n      <td>January</td>\n      <td>Zondag</td>\n      <td>Sunday</td>\n      <td>Q1</td>\n      <td>1</td>\n    </tr>\n    <tr>\n      <th>3</th>\n      <td>20100104</td>\n      <td>2010-01-04</td>\n      <td>Januari</td>\n      <td>January</td>\n      <td>Maandag</td>\n      <td>Monday</td>\n      <td>Q1</td>\n      <td>1</td>\n    </tr>\n    <tr>\n      <th>4</th>\n      <td>20100105</td>\n      <td>2010-01-05</td>\n      <td>Januari</td>\n      <td>January</td>\n      <td>Dinsdag</td>\n      <td>Tuesday</td>\n      <td>Q1</td>\n      <td>1</td>\n    </tr>\n  </tbody>\n</table>\n</div>"
     },
     "execution_count": 11,
     "metadata": {},
     "output_type": "execute_result"
    }
   ],
   "source": [
    "dim_date_df.head()"
   ]
  },
  {
   "cell_type": "markdown",
   "metadata": {},
   "source": [
    "2: DimTime Table"
   ]
  },
  {
   "cell_type": "code",
   "execution_count": 12,
   "metadata": {
    "ExecuteTime": {
     "end_time": "2025-03-10T15:02:29.817846600Z",
     "start_time": "2025-03-10T15:02:29.396147600Z"
    }
   },
   "outputs": [
    {
     "data": {
      "text/plain": "183"
     },
     "execution_count": 12,
     "metadata": {},
     "output_type": "execute_result"
    }
   ],
   "source": [
    "def generate_dim_time():\n",
    "    time_data = []\n",
    "\n",
    "    for hour in range(0, 24):\n",
    "        for minute in range(0, 60):\n",
    "            am_pm = 'AM' if hour < 12 else 'PM'\n",
    "            hour_12 = hour if 1 <= hour <= 12 else (12 if hour == 0 or hour == 24 else hour - 12)\n",
    "            time_key = f\"{hour:02}{minute:02}\"\n",
    "            full_time = f\"{hour:02}:{minute:02}:00\"\n",
    "            \n",
    "            time_data.append({\n",
    "                \"TimeKey\": time_key,\n",
    "                \"Hour\": hour_12,\n",
    "                \"Minutes\": minute,\n",
    "                \"FullTime\": full_time,\n",
    "                \"TimeAM_PM\": am_pm\n",
    "            })\n",
    "    \n",
    "    return pd.DataFrame(time_data)\n",
    "\n",
    "# Data genereren\n",
    "dim_time_df = generate_dim_time()\n",
    "\n",
    "# Data naar SQL Server schrijven\n",
    "dim_time_df.to_sql(\"DimTime\", con=engine, if_exists=\"append\", index=False)"
   ]
  },
  {
   "cell_type": "code",
   "execution_count": 13,
   "metadata": {
    "ExecuteTime": {
     "end_time": "2025-03-10T15:02:29.821154500Z",
     "start_time": "2025-03-10T15:02:29.809093200Z"
    }
   },
   "outputs": [
    {
     "data": {
      "text/plain": "  TimeKey  Hour  Minutes  FullTime TimeAM_PM\n0    0000    12        0  00:00:00        AM\n1    0001    12        1  00:01:00        AM\n2    0002    12        2  00:02:00        AM\n3    0003    12        3  00:03:00        AM\n4    0004    12        4  00:04:00        AM",
      "text/html": "<div>\n<style scoped>\n    .dataframe tbody tr th:only-of-type {\n        vertical-align: middle;\n    }\n\n    .dataframe tbody tr th {\n        vertical-align: top;\n    }\n\n    .dataframe thead th {\n        text-align: right;\n    }\n</style>\n<table border=\"1\" class=\"dataframe\">\n  <thead>\n    <tr style=\"text-align: right;\">\n      <th></th>\n      <th>TimeKey</th>\n      <th>Hour</th>\n      <th>Minutes</th>\n      <th>FullTime</th>\n      <th>TimeAM_PM</th>\n    </tr>\n  </thead>\n  <tbody>\n    <tr>\n      <th>0</th>\n      <td>0000</td>\n      <td>12</td>\n      <td>0</td>\n      <td>00:00:00</td>\n      <td>AM</td>\n    </tr>\n    <tr>\n      <th>1</th>\n      <td>0001</td>\n      <td>12</td>\n      <td>1</td>\n      <td>00:01:00</td>\n      <td>AM</td>\n    </tr>\n    <tr>\n      <th>2</th>\n      <td>0002</td>\n      <td>12</td>\n      <td>2</td>\n      <td>00:02:00</td>\n      <td>AM</td>\n    </tr>\n    <tr>\n      <th>3</th>\n      <td>0003</td>\n      <td>12</td>\n      <td>3</td>\n      <td>00:03:00</td>\n      <td>AM</td>\n    </tr>\n    <tr>\n      <th>4</th>\n      <td>0004</td>\n      <td>12</td>\n      <td>4</td>\n      <td>00:04:00</td>\n      <td>AM</td>\n    </tr>\n  </tbody>\n</table>\n</div>"
     },
     "execution_count": 13,
     "metadata": {},
     "output_type": "execute_result"
    }
   ],
   "source": [
    "dim_time_df.head()"
   ]
  },
  {
   "cell_type": "markdown",
   "metadata": {},
   "source": [
    "3: DimWeatherStation Table"
   ]
  },
  {
   "cell_type": "code",
   "execution_count": 14,
   "metadata": {
    "ExecuteTime": {
     "end_time": "2025-03-10T15:02:29.969653100Z",
     "start_time": "2025-03-10T15:02:29.821154500Z"
    }
   },
   "outputs": [
    {
     "data": {
      "text/plain": "8"
     },
     "execution_count": 14,
     "metadata": {},
     "output_type": "execute_result"
    }
   ],
   "source": [
    "# Lees de CSV voor weerstations\n",
    "weather_station_df = pd.read_csv('../data/input/aws_station.csv')\n",
    "\n",
    "# Verwerk de kolommen\n",
    "weather_station_df.rename(columns={\n",
    "    \"code\": \"WeatherStationID\",\n",
    "    \"name\": \"WeatherStationName\",\n",
    "    \"altitude\": \"Altitude\",\n",
    "    \"the_geom\": \"Coordinates\"\n",
    "}, inplace=True)\n",
    "\n",
    "\n",
    "\n",
    "# Functie om Latitude en Longitude te extraheren uit 'the_geom' kolom\n",
    "def extract_lat_lon(geom):\n",
    "    match = re.search(r\"POINT \\(([\\d\\.-]+) ([\\d\\.-]+)\\)\", geom)\n",
    "    if match:\n",
    "        lon, lat = match.groups()\n",
    "        return float(lat), float(lon)\n",
    "    return None, None\n",
    "\n",
    "# Latitude en Longitude kolommen toevoegen\n",
    "weather_station_df[\"Latitude\"], weather_station_df[\"Longitude\"] = zip(*weather_station_df[\"Coordinates\"].apply(extract_lat_lon))\n",
    "\n",
    "# Onnodige kolom verwijderen\n",
    "weather_station_df.drop(columns=[\"Coordinates\"], inplace=True)\n",
    "weather_station_df = weather_station_df.drop(['FID', 'date_begin', 'date_end'], axis = 1)\n",
    "\n",
    "# Data naar SQL Server schrijven\n",
    "weather_station_df.to_sql(\"DimWeatherStation\", con=engine, if_exists=\"append\", index=False)"
   ]
  },
  {
   "cell_type": "code",
   "execution_count": 15,
   "metadata": {
    "ExecuteTime": {
     "end_time": "2025-03-10T15:02:29.969653100Z",
     "start_time": "2025-03-10T15:02:29.900715200Z"
    }
   },
   "outputs": [],
   "source": [
    "\n",
    "\n",
    "# Add a unique key column (starting from 1)\n",
    "weather_station_df.insert(0, 'WeatherStationKey', range(0, len(weather_station_df)))\n",
    "\n"
   ]
  },
  {
   "cell_type": "code",
   "execution_count": 16,
   "metadata": {
    "ExecuteTime": {
     "end_time": "2025-03-10T15:02:29.990230100Z",
     "start_time": "2025-03-10T15:02:29.908683700Z"
    }
   },
   "outputs": [
    {
     "data": {
      "text/plain": "   WeatherStationKey  WeatherStationID WeatherStationName  Altitude  Latitude  \\\n0                  0              6472             HUMAIN     295.3     5.255   \n1                  1              6438           STABROEK       4.0     4.364   \n2                  2              6464              RETIE      21.5     5.027   \n3                  3              6447              UCCLE     100.6     4.358   \n4                  4              6434              MELLE      15.0     3.816   \n\n   Longitude  \n0     50.194  \n1     51.325  \n2     51.221  \n3     50.797  \n4     50.980  ",
      "text/html": "<div>\n<style scoped>\n    .dataframe tbody tr th:only-of-type {\n        vertical-align: middle;\n    }\n\n    .dataframe tbody tr th {\n        vertical-align: top;\n    }\n\n    .dataframe thead th {\n        text-align: right;\n    }\n</style>\n<table border=\"1\" class=\"dataframe\">\n  <thead>\n    <tr style=\"text-align: right;\">\n      <th></th>\n      <th>WeatherStationKey</th>\n      <th>WeatherStationID</th>\n      <th>WeatherStationName</th>\n      <th>Altitude</th>\n      <th>Latitude</th>\n      <th>Longitude</th>\n    </tr>\n  </thead>\n  <tbody>\n    <tr>\n      <th>0</th>\n      <td>0</td>\n      <td>6472</td>\n      <td>HUMAIN</td>\n      <td>295.3</td>\n      <td>5.255</td>\n      <td>50.194</td>\n    </tr>\n    <tr>\n      <th>1</th>\n      <td>1</td>\n      <td>6438</td>\n      <td>STABROEK</td>\n      <td>4.0</td>\n      <td>4.364</td>\n      <td>51.325</td>\n    </tr>\n    <tr>\n      <th>2</th>\n      <td>2</td>\n      <td>6464</td>\n      <td>RETIE</td>\n      <td>21.5</td>\n      <td>5.027</td>\n      <td>51.221</td>\n    </tr>\n    <tr>\n      <th>3</th>\n      <td>3</td>\n      <td>6447</td>\n      <td>UCCLE</td>\n      <td>100.6</td>\n      <td>4.358</td>\n      <td>50.797</td>\n    </tr>\n    <tr>\n      <th>4</th>\n      <td>4</td>\n      <td>6434</td>\n      <td>MELLE</td>\n      <td>15.0</td>\n      <td>3.816</td>\n      <td>50.980</td>\n    </tr>\n  </tbody>\n</table>\n</div>"
     },
     "execution_count": 16,
     "metadata": {},
     "output_type": "execute_result"
    }
   ],
   "source": [
    "weather_station_df.head()"
   ]
  },
  {
   "cell_type": "markdown",
   "metadata": {},
   "source": [
    "4: FactWeather Table"
   ]
  },
  {
   "cell_type": "code",
   "execution_count": 18,
   "metadata": {
    "ExecuteTime": {
     "end_time": "2025-03-10T15:03:18.037897700Z",
     "start_time": "2025-03-10T15:03:17.710791600Z"
    }
   },
   "outputs": [
    {
     "data": {
      "text/plain": "(                                       FID              the_geom  code  \\\n 0  aws_1day.fid--55b99fcb_194dc70ea36_71e2  POINT (51.348 3.202)  6418   \n 1  aws_1day.fid--55b99fcb_194dc70ea36_71e3  POINT (51.075 4.525)  6439   \n 2  aws_1day.fid--55b99fcb_194dc70ea36_71e4  POINT (51.325 4.364)  6438   \n 3  aws_1day.fid--55b99fcb_194dc70ea36_71e5   POINT (50.916 5.45)  6477   \n 4  aws_1day.fid--55b99fcb_194dc70ea36_71e6  POINT (50.797 4.358)  6447   \n \n              timestamp  precip_quantity  temp_avg  temp_max  temp_min  \\\n 0  2020-10-14T00:00:00             0.31     11.29     12.80     10.00   \n 1  2020-10-14T00:00:00             0.00      8.94     12.23      5.15   \n 2  2020-10-14T00:00:00             0.00      9.06     12.33      5.91   \n 3  2020-10-15T00:00:00             0.00      9.40     11.16      7.92   \n 4  2020-10-16T00:00:00             0.00      9.01     10.72      5.62   \n \n    temp_grass_pt100_avg  temp_soil_avg  ...  temp_soil_avg_50cm  \\\n 0                   NaN            NaN  ...                 NaN   \n 1                  9.18           8.90  ...               13.21   \n 2                  8.93           8.88  ...               12.83   \n 3                  9.70           9.33  ...               11.53   \n 4                  9.88           9.42  ...               12.23   \n \n    wind_speed_10m  wind_speed_avg_30m  wind_gusts_speed  \\\n 0            7.74                 NaN             13.79   \n 1            2.60                 NaN              7.16   \n 2            3.00                 NaN              8.96   \n 3            3.53                 NaN              8.73   \n 4             NaN                2.67              6.87   \n \n    humidity_rel_shelter_avg  pressure  sun_duration  short_wave_from_sky_avg  \\\n 0                     75.37   1017.57         82.33                      NaN   \n 1                     86.44   1017.32         11.75                    61.83   \n 2                     86.75   1018.37         33.08                    63.74   \n 3                     82.62   1015.69         15.67                    56.01   \n 4                     82.88   1010.36           NaN                    51.23   \n \n    sun_int_avg                                           qc_flags  \n 0        25.30  {\"validated\":{\"PRECIP_QUANTITY\":false,\"TEMP_AV...  \n 1        10.52  {\"validated\":{\"PRECIP_QUANTITY\":true,\"TEMP_AVG...  \n 2        19.22  {\"validated\":{\"PRECIP_QUANTITY\":true,\"TEMP_AVG...  \n 3        10.12  {\"validated\":{\"PRECIP_QUANTITY\":true,\"TEMP_AVG...  \n 4          NaN  {\"validated\":{\"PRECIP_QUANTITY\":true,\"TEMP_AVG...  \n \n [5 rows x 23 columns],\n Index(['FID', 'the_geom', 'code', 'timestamp', 'precip_quantity', 'temp_avg',\n        'temp_max', 'temp_min', 'temp_grass_pt100_avg', 'temp_soil_avg',\n        'temp_soil_avg_5cm', 'temp_soil_avg_10cm', 'temp_soil_avg_20cm',\n        'temp_soil_avg_50cm', 'wind_speed_10m', 'wind_speed_avg_30m',\n        'wind_gusts_speed', 'humidity_rel_shelter_avg', 'pressure',\n        'sun_duration', 'short_wave_from_sky_avg', 'sun_int_avg', 'qc_flags'],\n       dtype='object'))"
     },
     "execution_count": 18,
     "metadata": {},
     "output_type": "execute_result"
    }
   ],
   "source": [
    "\n",
    "# Load the CSV file\n",
    "file_path = \"../data/input/aws_1day.csv\"\n",
    "\n",
    "weather_data_df = pd.read_csv(file_path)\n",
    "\n",
    "weather_data_df.head(), weather_data_df.columns"
   ]
  },
  {
   "cell_type": "code",
   "execution_count": 19,
   "metadata": {
    "ExecuteTime": {
     "end_time": "2025-03-10T15:03:18.971044800Z",
     "start_time": "2025-03-10T15:03:18.915625100Z"
    }
   },
   "outputs": [
    {
     "data": {
      "text/plain": "   code            timestamp  precip_quantity  temp_avg  temp_max  temp_min  \\\n0  6418  2020-10-14T00:00:00             0.31     11.29     12.80     10.00   \n1  6439  2020-10-14T00:00:00             0.00      8.94     12.23      5.15   \n2  6438  2020-10-14T00:00:00             0.00      9.06     12.33      5.91   \n3  6477  2020-10-15T00:00:00             0.00      9.40     11.16      7.92   \n4  6447  2020-10-16T00:00:00             0.00      9.01     10.72      5.62   \n\n   temp_grass_pt100_avg  temp_soil_avg  temp_soil_avg_5cm  temp_soil_avg_10cm  \\\n0                   NaN            NaN                NaN                 NaN   \n1                  9.18           8.90               9.41                9.99   \n2                  8.93           8.88               9.32                9.61   \n3                  9.70           9.33               9.32                9.54   \n4                  9.88           9.42               9.64               10.05   \n\n   temp_soil_avg_20cm  temp_soil_avg_50cm  wind_speed_10m  wind_speed_avg_30m  \\\n0                 NaN                 NaN            7.74                 NaN   \n1               11.20               13.21            2.60                 NaN   \n2                9.84               12.83            3.00                 NaN   \n3                9.10               11.53            3.53                 NaN   \n4               10.65               12.23             NaN                2.67   \n\n   wind_gusts_speed  humidity_rel_shelter_avg  pressure  sun_duration  \\\n0             13.79                     75.37   1017.57         82.33   \n1              7.16                     86.44   1017.32         11.75   \n2              8.96                     86.75   1018.37         33.08   \n3              8.73                     82.62   1015.69         15.67   \n4              6.87                     82.88   1010.36           NaN   \n\n   short_wave_from_sky_avg  sun_int_avg  \n0                      NaN        25.30  \n1                    61.83        10.52  \n2                    63.74        19.22  \n3                    56.01        10.12  \n4                    51.23          NaN  ",
      "text/html": "<div>\n<style scoped>\n    .dataframe tbody tr th:only-of-type {\n        vertical-align: middle;\n    }\n\n    .dataframe tbody tr th {\n        vertical-align: top;\n    }\n\n    .dataframe thead th {\n        text-align: right;\n    }\n</style>\n<table border=\"1\" class=\"dataframe\">\n  <thead>\n    <tr style=\"text-align: right;\">\n      <th></th>\n      <th>code</th>\n      <th>timestamp</th>\n      <th>precip_quantity</th>\n      <th>temp_avg</th>\n      <th>temp_max</th>\n      <th>temp_min</th>\n      <th>temp_grass_pt100_avg</th>\n      <th>temp_soil_avg</th>\n      <th>temp_soil_avg_5cm</th>\n      <th>temp_soil_avg_10cm</th>\n      <th>temp_soil_avg_20cm</th>\n      <th>temp_soil_avg_50cm</th>\n      <th>wind_speed_10m</th>\n      <th>wind_speed_avg_30m</th>\n      <th>wind_gusts_speed</th>\n      <th>humidity_rel_shelter_avg</th>\n      <th>pressure</th>\n      <th>sun_duration</th>\n      <th>short_wave_from_sky_avg</th>\n      <th>sun_int_avg</th>\n    </tr>\n  </thead>\n  <tbody>\n    <tr>\n      <th>0</th>\n      <td>6418</td>\n      <td>2020-10-14T00:00:00</td>\n      <td>0.31</td>\n      <td>11.29</td>\n      <td>12.80</td>\n      <td>10.00</td>\n      <td>NaN</td>\n      <td>NaN</td>\n      <td>NaN</td>\n      <td>NaN</td>\n      <td>NaN</td>\n      <td>NaN</td>\n      <td>7.74</td>\n      <td>NaN</td>\n      <td>13.79</td>\n      <td>75.37</td>\n      <td>1017.57</td>\n      <td>82.33</td>\n      <td>NaN</td>\n      <td>25.30</td>\n    </tr>\n    <tr>\n      <th>1</th>\n      <td>6439</td>\n      <td>2020-10-14T00:00:00</td>\n      <td>0.00</td>\n      <td>8.94</td>\n      <td>12.23</td>\n      <td>5.15</td>\n      <td>9.18</td>\n      <td>8.90</td>\n      <td>9.41</td>\n      <td>9.99</td>\n      <td>11.20</td>\n      <td>13.21</td>\n      <td>2.60</td>\n      <td>NaN</td>\n      <td>7.16</td>\n      <td>86.44</td>\n      <td>1017.32</td>\n      <td>11.75</td>\n      <td>61.83</td>\n      <td>10.52</td>\n    </tr>\n    <tr>\n      <th>2</th>\n      <td>6438</td>\n      <td>2020-10-14T00:00:00</td>\n      <td>0.00</td>\n      <td>9.06</td>\n      <td>12.33</td>\n      <td>5.91</td>\n      <td>8.93</td>\n      <td>8.88</td>\n      <td>9.32</td>\n      <td>9.61</td>\n      <td>9.84</td>\n      <td>12.83</td>\n      <td>3.00</td>\n      <td>NaN</td>\n      <td>8.96</td>\n      <td>86.75</td>\n      <td>1018.37</td>\n      <td>33.08</td>\n      <td>63.74</td>\n      <td>19.22</td>\n    </tr>\n    <tr>\n      <th>3</th>\n      <td>6477</td>\n      <td>2020-10-15T00:00:00</td>\n      <td>0.00</td>\n      <td>9.40</td>\n      <td>11.16</td>\n      <td>7.92</td>\n      <td>9.70</td>\n      <td>9.33</td>\n      <td>9.32</td>\n      <td>9.54</td>\n      <td>9.10</td>\n      <td>11.53</td>\n      <td>3.53</td>\n      <td>NaN</td>\n      <td>8.73</td>\n      <td>82.62</td>\n      <td>1015.69</td>\n      <td>15.67</td>\n      <td>56.01</td>\n      <td>10.12</td>\n    </tr>\n    <tr>\n      <th>4</th>\n      <td>6447</td>\n      <td>2020-10-16T00:00:00</td>\n      <td>0.00</td>\n      <td>9.01</td>\n      <td>10.72</td>\n      <td>5.62</td>\n      <td>9.88</td>\n      <td>9.42</td>\n      <td>9.64</td>\n      <td>10.05</td>\n      <td>10.65</td>\n      <td>12.23</td>\n      <td>NaN</td>\n      <td>2.67</td>\n      <td>6.87</td>\n      <td>82.88</td>\n      <td>1010.36</td>\n      <td>NaN</td>\n      <td>51.23</td>\n      <td>NaN</td>\n    </tr>\n  </tbody>\n</table>\n</div>"
     },
     "execution_count": 19,
     "metadata": {},
     "output_type": "execute_result"
    }
   ],
   "source": [
    "weather_data_df = weather_data_df.drop(['FID', 'the_geom', 'qc_flags'], axis = 1)\n",
    "weather_data_df.head()"
   ]
  },
  {
   "cell_type": "code",
   "execution_count": 20,
   "metadata": {
    "ExecuteTime": {
     "end_time": "2025-03-10T15:03:19.653387400Z",
     "start_time": "2025-03-10T15:03:19.606589200Z"
    }
   },
   "outputs": [
    {
     "data": {
      "text/plain": "   code            timestamp  precip_quantity  temp_avg  temp_max  temp_min  \\\n0  6418  2020-10-14T00:00:00             0.31     11.29     12.80     10.00   \n1  6439  2020-10-14T00:00:00             0.00      8.94     12.23      5.15   \n2  6438  2020-10-14T00:00:00             0.00      9.06     12.33      5.91   \n3  6447  2020-10-16T00:00:00             0.00      9.01     10.72      5.62   \n4  6464  2020-10-17T00:00:00             0.00      7.97     13.09      4.00   \n\n   temp_grass_pt100_avg  temp_soil_avg  temp_soil_avg_5cm  temp_soil_avg_10cm  \\\n0                   NaN            NaN                NaN                 NaN   \n1                  9.18           8.90               9.41                9.99   \n2                  8.93           8.88               9.32                9.61   \n3                  9.88           9.42               9.64               10.05   \n4                  8.66           9.96              10.23               10.32   \n\n   ...  pressure  sun_duration  short_wave_from_sky_avg  sun_int_avg  \\\n0  ...   1017.57         82.33                      NaN        25.30   \n1  ...   1017.32         11.75                    61.83        10.52   \n2  ...   1018.37         33.08                    63.74        19.22   \n3  ...   1010.36           NaN                    51.23          NaN   \n4  ...   1019.12        219.67                    93.01        89.48   \n\n   WeatherStationKey  WeatherStationID    WeatherStationName  Altitude  \\\n0                  7              6418             ZEEBRUGGE      12.1   \n1                  6              6439  SINT-KATELIJNE-WAVER       8.3   \n2                  1              6438              STABROEK       4.0   \n3                  3              6447                 UCCLE     100.6   \n4                  2              6464                 RETIE      21.5   \n\n   Latitude  Longitude  \n0     3.202     51.348  \n1     4.525     51.075  \n2     4.364     51.325  \n3     4.358     50.797  \n4     5.027     51.221  \n\n[5 rows x 26 columns]",
      "text/html": "<div>\n<style scoped>\n    .dataframe tbody tr th:only-of-type {\n        vertical-align: middle;\n    }\n\n    .dataframe tbody tr th {\n        vertical-align: top;\n    }\n\n    .dataframe thead th {\n        text-align: right;\n    }\n</style>\n<table border=\"1\" class=\"dataframe\">\n  <thead>\n    <tr style=\"text-align: right;\">\n      <th></th>\n      <th>code</th>\n      <th>timestamp</th>\n      <th>precip_quantity</th>\n      <th>temp_avg</th>\n      <th>temp_max</th>\n      <th>temp_min</th>\n      <th>temp_grass_pt100_avg</th>\n      <th>temp_soil_avg</th>\n      <th>temp_soil_avg_5cm</th>\n      <th>temp_soil_avg_10cm</th>\n      <th>...</th>\n      <th>pressure</th>\n      <th>sun_duration</th>\n      <th>short_wave_from_sky_avg</th>\n      <th>sun_int_avg</th>\n      <th>WeatherStationKey</th>\n      <th>WeatherStationID</th>\n      <th>WeatherStationName</th>\n      <th>Altitude</th>\n      <th>Latitude</th>\n      <th>Longitude</th>\n    </tr>\n  </thead>\n  <tbody>\n    <tr>\n      <th>0</th>\n      <td>6418</td>\n      <td>2020-10-14T00:00:00</td>\n      <td>0.31</td>\n      <td>11.29</td>\n      <td>12.80</td>\n      <td>10.00</td>\n      <td>NaN</td>\n      <td>NaN</td>\n      <td>NaN</td>\n      <td>NaN</td>\n      <td>...</td>\n      <td>1017.57</td>\n      <td>82.33</td>\n      <td>NaN</td>\n      <td>25.30</td>\n      <td>7</td>\n      <td>6418</td>\n      <td>ZEEBRUGGE</td>\n      <td>12.1</td>\n      <td>3.202</td>\n      <td>51.348</td>\n    </tr>\n    <tr>\n      <th>1</th>\n      <td>6439</td>\n      <td>2020-10-14T00:00:00</td>\n      <td>0.00</td>\n      <td>8.94</td>\n      <td>12.23</td>\n      <td>5.15</td>\n      <td>9.18</td>\n      <td>8.90</td>\n      <td>9.41</td>\n      <td>9.99</td>\n      <td>...</td>\n      <td>1017.32</td>\n      <td>11.75</td>\n      <td>61.83</td>\n      <td>10.52</td>\n      <td>6</td>\n      <td>6439</td>\n      <td>SINT-KATELIJNE-WAVER</td>\n      <td>8.3</td>\n      <td>4.525</td>\n      <td>51.075</td>\n    </tr>\n    <tr>\n      <th>2</th>\n      <td>6438</td>\n      <td>2020-10-14T00:00:00</td>\n      <td>0.00</td>\n      <td>9.06</td>\n      <td>12.33</td>\n      <td>5.91</td>\n      <td>8.93</td>\n      <td>8.88</td>\n      <td>9.32</td>\n      <td>9.61</td>\n      <td>...</td>\n      <td>1018.37</td>\n      <td>33.08</td>\n      <td>63.74</td>\n      <td>19.22</td>\n      <td>1</td>\n      <td>6438</td>\n      <td>STABROEK</td>\n      <td>4.0</td>\n      <td>4.364</td>\n      <td>51.325</td>\n    </tr>\n    <tr>\n      <th>3</th>\n      <td>6447</td>\n      <td>2020-10-16T00:00:00</td>\n      <td>0.00</td>\n      <td>9.01</td>\n      <td>10.72</td>\n      <td>5.62</td>\n      <td>9.88</td>\n      <td>9.42</td>\n      <td>9.64</td>\n      <td>10.05</td>\n      <td>...</td>\n      <td>1010.36</td>\n      <td>NaN</td>\n      <td>51.23</td>\n      <td>NaN</td>\n      <td>3</td>\n      <td>6447</td>\n      <td>UCCLE</td>\n      <td>100.6</td>\n      <td>4.358</td>\n      <td>50.797</td>\n    </tr>\n    <tr>\n      <th>4</th>\n      <td>6464</td>\n      <td>2020-10-17T00:00:00</td>\n      <td>0.00</td>\n      <td>7.97</td>\n      <td>13.09</td>\n      <td>4.00</td>\n      <td>8.66</td>\n      <td>9.96</td>\n      <td>10.23</td>\n      <td>10.32</td>\n      <td>...</td>\n      <td>1019.12</td>\n      <td>219.67</td>\n      <td>93.01</td>\n      <td>89.48</td>\n      <td>2</td>\n      <td>6464</td>\n      <td>RETIE</td>\n      <td>21.5</td>\n      <td>5.027</td>\n      <td>51.221</td>\n    </tr>\n  </tbody>\n</table>\n<p>5 rows × 26 columns</p>\n</div>"
     },
     "execution_count": 20,
     "metadata": {},
     "output_type": "execute_result"
    }
   ],
   "source": [
    "weather_data_df = weather_data_df.merge(weather_station_df, how='inner', left_on=\"code\", right_on='WeatherStationID')\n",
    "weather_data_df.head()"
   ]
  },
  {
   "cell_type": "code",
   "execution_count": 21,
   "metadata": {
    "ExecuteTime": {
     "end_time": "2025-03-10T15:03:20.086304100Z",
     "start_time": "2025-03-10T15:03:20.049123400Z"
    }
   },
   "outputs": [
    {
     "data": {
      "text/plain": "   code            timestamp  precip_quantity  temp_avg  temp_max  temp_min  \\\n0  6418  2020-10-14T00:00:00             0.31     11.29     12.80     10.00   \n1  6439  2020-10-14T00:00:00             0.00      8.94     12.23      5.15   \n2  6438  2020-10-14T00:00:00             0.00      9.06     12.33      5.91   \n3  6447  2020-10-16T00:00:00             0.00      9.01     10.72      5.62   \n4  6464  2020-10-17T00:00:00             0.00      7.97     13.09      4.00   \n\n   temp_grass_pt100_avg  temp_soil_avg  temp_soil_avg_5cm  temp_soil_avg_10cm  \\\n0                   NaN            NaN                NaN                 NaN   \n1                  9.18           8.90               9.41                9.99   \n2                  8.93           8.88               9.32                9.61   \n3                  9.88           9.42               9.64               10.05   \n4                  8.66           9.96              10.23               10.32   \n\n   ...  temp_soil_avg_50cm  wind_speed_10m  wind_speed_avg_30m  \\\n0  ...                 NaN            7.74                 NaN   \n1  ...               13.21            2.60                 NaN   \n2  ...               12.83            3.00                 NaN   \n3  ...               12.23             NaN                2.67   \n4  ...               12.35            0.46                 NaN   \n\n   wind_gusts_speed  humidity_rel_shelter_avg  pressure  sun_duration  \\\n0             13.79                     75.37   1017.57         82.33   \n1              7.16                     86.44   1017.32         11.75   \n2              8.96                     86.75   1018.37         33.08   \n3              6.87                     82.88   1010.36           NaN   \n4              2.97                     87.16   1019.12        219.67   \n\n   short_wave_from_sky_avg  sun_int_avg  WeatherStationKey  \n0                      NaN        25.30                  7  \n1                    61.83        10.52                  6  \n2                    63.74        19.22                  1  \n3                    51.23          NaN                  3  \n4                    93.01        89.48                  2  \n\n[5 rows x 21 columns]",
      "text/html": "<div>\n<style scoped>\n    .dataframe tbody tr th:only-of-type {\n        vertical-align: middle;\n    }\n\n    .dataframe tbody tr th {\n        vertical-align: top;\n    }\n\n    .dataframe thead th {\n        text-align: right;\n    }\n</style>\n<table border=\"1\" class=\"dataframe\">\n  <thead>\n    <tr style=\"text-align: right;\">\n      <th></th>\n      <th>code</th>\n      <th>timestamp</th>\n      <th>precip_quantity</th>\n      <th>temp_avg</th>\n      <th>temp_max</th>\n      <th>temp_min</th>\n      <th>temp_grass_pt100_avg</th>\n      <th>temp_soil_avg</th>\n      <th>temp_soil_avg_5cm</th>\n      <th>temp_soil_avg_10cm</th>\n      <th>...</th>\n      <th>temp_soil_avg_50cm</th>\n      <th>wind_speed_10m</th>\n      <th>wind_speed_avg_30m</th>\n      <th>wind_gusts_speed</th>\n      <th>humidity_rel_shelter_avg</th>\n      <th>pressure</th>\n      <th>sun_duration</th>\n      <th>short_wave_from_sky_avg</th>\n      <th>sun_int_avg</th>\n      <th>WeatherStationKey</th>\n    </tr>\n  </thead>\n  <tbody>\n    <tr>\n      <th>0</th>\n      <td>6418</td>\n      <td>2020-10-14T00:00:00</td>\n      <td>0.31</td>\n      <td>11.29</td>\n      <td>12.80</td>\n      <td>10.00</td>\n      <td>NaN</td>\n      <td>NaN</td>\n      <td>NaN</td>\n      <td>NaN</td>\n      <td>...</td>\n      <td>NaN</td>\n      <td>7.74</td>\n      <td>NaN</td>\n      <td>13.79</td>\n      <td>75.37</td>\n      <td>1017.57</td>\n      <td>82.33</td>\n      <td>NaN</td>\n      <td>25.30</td>\n      <td>7</td>\n    </tr>\n    <tr>\n      <th>1</th>\n      <td>6439</td>\n      <td>2020-10-14T00:00:00</td>\n      <td>0.00</td>\n      <td>8.94</td>\n      <td>12.23</td>\n      <td>5.15</td>\n      <td>9.18</td>\n      <td>8.90</td>\n      <td>9.41</td>\n      <td>9.99</td>\n      <td>...</td>\n      <td>13.21</td>\n      <td>2.60</td>\n      <td>NaN</td>\n      <td>7.16</td>\n      <td>86.44</td>\n      <td>1017.32</td>\n      <td>11.75</td>\n      <td>61.83</td>\n      <td>10.52</td>\n      <td>6</td>\n    </tr>\n    <tr>\n      <th>2</th>\n      <td>6438</td>\n      <td>2020-10-14T00:00:00</td>\n      <td>0.00</td>\n      <td>9.06</td>\n      <td>12.33</td>\n      <td>5.91</td>\n      <td>8.93</td>\n      <td>8.88</td>\n      <td>9.32</td>\n      <td>9.61</td>\n      <td>...</td>\n      <td>12.83</td>\n      <td>3.00</td>\n      <td>NaN</td>\n      <td>8.96</td>\n      <td>86.75</td>\n      <td>1018.37</td>\n      <td>33.08</td>\n      <td>63.74</td>\n      <td>19.22</td>\n      <td>1</td>\n    </tr>\n    <tr>\n      <th>3</th>\n      <td>6447</td>\n      <td>2020-10-16T00:00:00</td>\n      <td>0.00</td>\n      <td>9.01</td>\n      <td>10.72</td>\n      <td>5.62</td>\n      <td>9.88</td>\n      <td>9.42</td>\n      <td>9.64</td>\n      <td>10.05</td>\n      <td>...</td>\n      <td>12.23</td>\n      <td>NaN</td>\n      <td>2.67</td>\n      <td>6.87</td>\n      <td>82.88</td>\n      <td>1010.36</td>\n      <td>NaN</td>\n      <td>51.23</td>\n      <td>NaN</td>\n      <td>3</td>\n    </tr>\n    <tr>\n      <th>4</th>\n      <td>6464</td>\n      <td>2020-10-17T00:00:00</td>\n      <td>0.00</td>\n      <td>7.97</td>\n      <td>13.09</td>\n      <td>4.00</td>\n      <td>8.66</td>\n      <td>9.96</td>\n      <td>10.23</td>\n      <td>10.32</td>\n      <td>...</td>\n      <td>12.35</td>\n      <td>0.46</td>\n      <td>NaN</td>\n      <td>2.97</td>\n      <td>87.16</td>\n      <td>1019.12</td>\n      <td>219.67</td>\n      <td>93.01</td>\n      <td>89.48</td>\n      <td>2</td>\n    </tr>\n  </tbody>\n</table>\n<p>5 rows × 21 columns</p>\n</div>"
     },
     "execution_count": 21,
     "metadata": {},
     "output_type": "execute_result"
    }
   ],
   "source": [
    "weather_data_df = weather_data_df.drop(['WeatherStationName', 'Latitude', 'Longitude', 'Altitude', 'WeatherStationID'], axis = 1)\n",
    "weather_data_df.head()"
   ]
  },
  {
   "cell_type": "code",
   "execution_count": 22,
   "metadata": {
    "ExecuteTime": {
     "end_time": "2025-03-10T15:03:20.296011200Z",
     "start_time": "2025-03-10T15:03:20.229066800Z"
    }
   },
   "outputs": [
    {
     "data": {
      "text/plain": "   code            timestamp  precip_quantity  temp_avg  temp_max  temp_min  \\\n0  6418  2020-10-14T00:00:00             0.31     11.29     12.80     10.00   \n1  6439  2020-10-14T00:00:00             0.00      8.94     12.23      5.15   \n2  6438  2020-10-14T00:00:00             0.00      9.06     12.33      5.91   \n3  6447  2020-10-16T00:00:00             0.00      9.01     10.72      5.62   \n4  6464  2020-10-17T00:00:00             0.00      7.97     13.09      4.00   \n\n   temp_grass_pt100_avg  temp_soil_avg  temp_soil_avg_5cm  temp_soil_avg_10cm  \\\n0                   NaN            NaN                NaN                 NaN   \n1                  9.18           8.90               9.41                9.99   \n2                  8.93           8.88               9.32                9.61   \n3                  9.88           9.42               9.64               10.05   \n4                  8.66           9.96              10.23               10.32   \n\n   ...  short_wave_from_sky_avg  sun_int_avg  WeatherStationKey   DateKey  \\\n0  ...                      NaN        25.30                  7  20201014   \n1  ...                    61.83        10.52                  6  20201014   \n2  ...                    63.74        19.22                  1  20201014   \n3  ...                    51.23          NaN                  3  20201016   \n4  ...                    93.01        89.48                  2  20201017   \n\n       Time  TimeKey  Hour  Minutes  FullTime  TimeAM_PM  \n0  00:00:00     0000    12        0  00:00:00         AM  \n1  00:00:00     0000    12        0  00:00:00         AM  \n2  00:00:00     0000    12        0  00:00:00         AM  \n3  00:00:00     0000    12        0  00:00:00         AM  \n4  00:00:00     0000    12        0  00:00:00         AM  \n\n[5 rows x 28 columns]",
      "text/html": "<div>\n<style scoped>\n    .dataframe tbody tr th:only-of-type {\n        vertical-align: middle;\n    }\n\n    .dataframe tbody tr th {\n        vertical-align: top;\n    }\n\n    .dataframe thead th {\n        text-align: right;\n    }\n</style>\n<table border=\"1\" class=\"dataframe\">\n  <thead>\n    <tr style=\"text-align: right;\">\n      <th></th>\n      <th>code</th>\n      <th>timestamp</th>\n      <th>precip_quantity</th>\n      <th>temp_avg</th>\n      <th>temp_max</th>\n      <th>temp_min</th>\n      <th>temp_grass_pt100_avg</th>\n      <th>temp_soil_avg</th>\n      <th>temp_soil_avg_5cm</th>\n      <th>temp_soil_avg_10cm</th>\n      <th>...</th>\n      <th>short_wave_from_sky_avg</th>\n      <th>sun_int_avg</th>\n      <th>WeatherStationKey</th>\n      <th>DateKey</th>\n      <th>Time</th>\n      <th>TimeKey</th>\n      <th>Hour</th>\n      <th>Minutes</th>\n      <th>FullTime</th>\n      <th>TimeAM_PM</th>\n    </tr>\n  </thead>\n  <tbody>\n    <tr>\n      <th>0</th>\n      <td>6418</td>\n      <td>2020-10-14T00:00:00</td>\n      <td>0.31</td>\n      <td>11.29</td>\n      <td>12.80</td>\n      <td>10.00</td>\n      <td>NaN</td>\n      <td>NaN</td>\n      <td>NaN</td>\n      <td>NaN</td>\n      <td>...</td>\n      <td>NaN</td>\n      <td>25.30</td>\n      <td>7</td>\n      <td>20201014</td>\n      <td>00:00:00</td>\n      <td>0000</td>\n      <td>12</td>\n      <td>0</td>\n      <td>00:00:00</td>\n      <td>AM</td>\n    </tr>\n    <tr>\n      <th>1</th>\n      <td>6439</td>\n      <td>2020-10-14T00:00:00</td>\n      <td>0.00</td>\n      <td>8.94</td>\n      <td>12.23</td>\n      <td>5.15</td>\n      <td>9.18</td>\n      <td>8.90</td>\n      <td>9.41</td>\n      <td>9.99</td>\n      <td>...</td>\n      <td>61.83</td>\n      <td>10.52</td>\n      <td>6</td>\n      <td>20201014</td>\n      <td>00:00:00</td>\n      <td>0000</td>\n      <td>12</td>\n      <td>0</td>\n      <td>00:00:00</td>\n      <td>AM</td>\n    </tr>\n    <tr>\n      <th>2</th>\n      <td>6438</td>\n      <td>2020-10-14T00:00:00</td>\n      <td>0.00</td>\n      <td>9.06</td>\n      <td>12.33</td>\n      <td>5.91</td>\n      <td>8.93</td>\n      <td>8.88</td>\n      <td>9.32</td>\n      <td>9.61</td>\n      <td>...</td>\n      <td>63.74</td>\n      <td>19.22</td>\n      <td>1</td>\n      <td>20201014</td>\n      <td>00:00:00</td>\n      <td>0000</td>\n      <td>12</td>\n      <td>0</td>\n      <td>00:00:00</td>\n      <td>AM</td>\n    </tr>\n    <tr>\n      <th>3</th>\n      <td>6447</td>\n      <td>2020-10-16T00:00:00</td>\n      <td>0.00</td>\n      <td>9.01</td>\n      <td>10.72</td>\n      <td>5.62</td>\n      <td>9.88</td>\n      <td>9.42</td>\n      <td>9.64</td>\n      <td>10.05</td>\n      <td>...</td>\n      <td>51.23</td>\n      <td>NaN</td>\n      <td>3</td>\n      <td>20201016</td>\n      <td>00:00:00</td>\n      <td>0000</td>\n      <td>12</td>\n      <td>0</td>\n      <td>00:00:00</td>\n      <td>AM</td>\n    </tr>\n    <tr>\n      <th>4</th>\n      <td>6464</td>\n      <td>2020-10-17T00:00:00</td>\n      <td>0.00</td>\n      <td>7.97</td>\n      <td>13.09</td>\n      <td>4.00</td>\n      <td>8.66</td>\n      <td>9.96</td>\n      <td>10.23</td>\n      <td>10.32</td>\n      <td>...</td>\n      <td>93.01</td>\n      <td>89.48</td>\n      <td>2</td>\n      <td>20201017</td>\n      <td>00:00:00</td>\n      <td>0000</td>\n      <td>12</td>\n      <td>0</td>\n      <td>00:00:00</td>\n      <td>AM</td>\n    </tr>\n  </tbody>\n</table>\n<p>5 rows × 28 columns</p>\n</div>"
     },
     "execution_count": 22,
     "metadata": {},
     "output_type": "execute_result"
    }
   ],
   "source": [
    "# We converteren timestamp naar DateKey.\n",
    "weather_data_df['DateKey'] = weather_data_df['timestamp'].str[0:4] + weather_data_df['timestamp'].str[5:7] + weather_data_df['timestamp'].str[8:10]\n",
    "# DimTime toevoegen: eerst veld toevoegen, dan de waarden mergen.\n",
    "weather_data_df['Time'] = weather_data_df['timestamp'].str[-8:]\n",
    "weather_data_df = weather_data_df.merge(dim_time_df, how='inner', left_on=\"Time\", right_on='FullTime')\n",
    "\n",
    "# weather_data_df = weather_data_df.drop(['timestamp', 'Hour', 'Minutes', 'FullTime', 'TimeAM_PM'], axis = 1)\n",
    "\n",
    "weather_data_df.head()"
   ]
  },
  {
   "cell_type": "code",
   "execution_count": 23,
   "metadata": {
    "ExecuteTime": {
     "end_time": "2025-03-10T15:03:20.441926500Z",
     "start_time": "2025-03-10T15:03:20.386678200Z"
    }
   },
   "outputs": [
    {
     "data": {
      "text/plain": "    DateKey TimeKey  WeatherStationKey  PrecipQuantity  TempAvg  TempMax  \\\n0  20201014    0000                  7            0.31    11.29    12.80   \n1  20201014    0000                  6            0.00     8.94    12.23   \n2  20201014    0000                  1            0.00     9.06    12.33   \n3  20201016    0000                  3            0.00     9.01    10.72   \n4  20201017    0000                  2            0.00     7.97    13.09   \n\n   TempMin  TempGrassPt100Avg  TempSoilAvg  TempSoilAvg5cm  ...  \\\n0    10.00                NaN          NaN             NaN  ...   \n1     5.15               9.18         8.90            9.41  ...   \n2     5.91               8.93         8.88            9.32  ...   \n3     5.62               9.88         9.42            9.64  ...   \n4     4.00               8.66         9.96           10.23  ...   \n\n   TempSoilAvg20cm  TempSoilAvg50cm  WindSpeed10m  WindSpeedAvg30m  \\\n0              NaN              NaN          7.74              NaN   \n1            11.20            13.21          2.60              NaN   \n2             9.84            12.83          3.00              NaN   \n3            10.65            12.23           NaN             2.67   \n4            10.82            12.35          0.46              NaN   \n\n   WindGustsSpeed  HumidityRelShelterAvg  Pressure  SunDuration  \\\n0           13.79                  75.37   1017.57        82.33   \n1            7.16                  86.44   1017.32        11.75   \n2            8.96                  86.75   1018.37        33.08   \n3            6.87                  82.88   1010.36          NaN   \n4            2.97                  87.16   1019.12       219.67   \n\n   ShortWaveFromSkyAvg  SunIntAvg  \n0                  NaN      25.30  \n1                61.83      10.52  \n2                63.74      19.22  \n3                51.23        NaN  \n4                93.01      89.48  \n\n[5 rows x 21 columns]",
      "text/html": "<div>\n<style scoped>\n    .dataframe tbody tr th:only-of-type {\n        vertical-align: middle;\n    }\n\n    .dataframe tbody tr th {\n        vertical-align: top;\n    }\n\n    .dataframe thead th {\n        text-align: right;\n    }\n</style>\n<table border=\"1\" class=\"dataframe\">\n  <thead>\n    <tr style=\"text-align: right;\">\n      <th></th>\n      <th>DateKey</th>\n      <th>TimeKey</th>\n      <th>WeatherStationKey</th>\n      <th>PrecipQuantity</th>\n      <th>TempAvg</th>\n      <th>TempMax</th>\n      <th>TempMin</th>\n      <th>TempGrassPt100Avg</th>\n      <th>TempSoilAvg</th>\n      <th>TempSoilAvg5cm</th>\n      <th>...</th>\n      <th>TempSoilAvg20cm</th>\n      <th>TempSoilAvg50cm</th>\n      <th>WindSpeed10m</th>\n      <th>WindSpeedAvg30m</th>\n      <th>WindGustsSpeed</th>\n      <th>HumidityRelShelterAvg</th>\n      <th>Pressure</th>\n      <th>SunDuration</th>\n      <th>ShortWaveFromSkyAvg</th>\n      <th>SunIntAvg</th>\n    </tr>\n  </thead>\n  <tbody>\n    <tr>\n      <th>0</th>\n      <td>20201014</td>\n      <td>0000</td>\n      <td>7</td>\n      <td>0.31</td>\n      <td>11.29</td>\n      <td>12.80</td>\n      <td>10.00</td>\n      <td>NaN</td>\n      <td>NaN</td>\n      <td>NaN</td>\n      <td>...</td>\n      <td>NaN</td>\n      <td>NaN</td>\n      <td>7.74</td>\n      <td>NaN</td>\n      <td>13.79</td>\n      <td>75.37</td>\n      <td>1017.57</td>\n      <td>82.33</td>\n      <td>NaN</td>\n      <td>25.30</td>\n    </tr>\n    <tr>\n      <th>1</th>\n      <td>20201014</td>\n      <td>0000</td>\n      <td>6</td>\n      <td>0.00</td>\n      <td>8.94</td>\n      <td>12.23</td>\n      <td>5.15</td>\n      <td>9.18</td>\n      <td>8.90</td>\n      <td>9.41</td>\n      <td>...</td>\n      <td>11.20</td>\n      <td>13.21</td>\n      <td>2.60</td>\n      <td>NaN</td>\n      <td>7.16</td>\n      <td>86.44</td>\n      <td>1017.32</td>\n      <td>11.75</td>\n      <td>61.83</td>\n      <td>10.52</td>\n    </tr>\n    <tr>\n      <th>2</th>\n      <td>20201014</td>\n      <td>0000</td>\n      <td>1</td>\n      <td>0.00</td>\n      <td>9.06</td>\n      <td>12.33</td>\n      <td>5.91</td>\n      <td>8.93</td>\n      <td>8.88</td>\n      <td>9.32</td>\n      <td>...</td>\n      <td>9.84</td>\n      <td>12.83</td>\n      <td>3.00</td>\n      <td>NaN</td>\n      <td>8.96</td>\n      <td>86.75</td>\n      <td>1018.37</td>\n      <td>33.08</td>\n      <td>63.74</td>\n      <td>19.22</td>\n    </tr>\n    <tr>\n      <th>3</th>\n      <td>20201016</td>\n      <td>0000</td>\n      <td>3</td>\n      <td>0.00</td>\n      <td>9.01</td>\n      <td>10.72</td>\n      <td>5.62</td>\n      <td>9.88</td>\n      <td>9.42</td>\n      <td>9.64</td>\n      <td>...</td>\n      <td>10.65</td>\n      <td>12.23</td>\n      <td>NaN</td>\n      <td>2.67</td>\n      <td>6.87</td>\n      <td>82.88</td>\n      <td>1010.36</td>\n      <td>NaN</td>\n      <td>51.23</td>\n      <td>NaN</td>\n    </tr>\n    <tr>\n      <th>4</th>\n      <td>20201017</td>\n      <td>0000</td>\n      <td>2</td>\n      <td>0.00</td>\n      <td>7.97</td>\n      <td>13.09</td>\n      <td>4.00</td>\n      <td>8.66</td>\n      <td>9.96</td>\n      <td>10.23</td>\n      <td>...</td>\n      <td>10.82</td>\n      <td>12.35</td>\n      <td>0.46</td>\n      <td>NaN</td>\n      <td>2.97</td>\n      <td>87.16</td>\n      <td>1019.12</td>\n      <td>219.67</td>\n      <td>93.01</td>\n      <td>89.48</td>\n    </tr>\n  </tbody>\n</table>\n<p>5 rows × 21 columns</p>\n</div>"
     },
     "execution_count": 23,
     "metadata": {},
     "output_type": "execute_result"
    }
   ],
   "source": [
    "# we hernoemen de kolommen volgens de namen die in de DWH zitten. \n",
    "weather_data_df = weather_data_df.rename(columns={\"precip_quantity\": \"PrecipQuantity\",\"temp_avg\": \"TempAvg\",\"temp_max\": \"TempMax\",\"temp_min\": \"TempMin\",\n",
    "                                                  \"temp_grass_pt100_avg\": \"TempGrassPt100Avg\",\"temp_soil_avg\": \"TempSoilAvg\",\"temp_soil_avg_5cm\": \"TempSoilAvg5cm\",\n",
    "                                                  \"temp_soil_avg_10cm\": \"TempSoilAvg10cm\",\"temp_soil_avg_20cm\": \"TempSoilAvg20cm\",\n",
    "                                                  \"temp_soil_avg_50cm\": \"TempSoilAvg50cm\",\"wind_speed_10m\": \"WindSpeed10m\",\n",
    "                                                  \"wind_speed_avg_30m\": \"WindSpeedAvg30m\",\"wind_gusts_speed\": \"WindGustsSpeed\",\n",
    "                                                  \"humidity_rel_shelter_avg\": \"HumidityRelShelterAvg\",\"pressure\": \"Pressure\",\"sun_duration\": \"SunDuration\",\n",
    "                                                  \"short_wave_from_sky_avg\": \"ShortWaveFromSkyAvg\",\"sun_int_avg\": \"SunIntAvg\"})\n",
    "\n",
    "weather_data_df = weather_data_df.reindex(columns=[\"DateKey\", \"TimeKey\", \"WeatherStationKey\", \"PrecipQuantity\", \"TempAvg\", \"TempMax\", \"TempMin\",\n",
    "                                                    \"TempGrassPt100Avg\", \"TempSoilAvg\", \"TempSoilAvg5cm\", \"TempSoilAvg10cm\", \n",
    "                                                    \"TempSoilAvg20cm\", \"TempSoilAvg50cm\", \"WindSpeed10m\", \"WindSpeedAvg30m\", \n",
    "                                                    \"WindGustsSpeed\", \"HumidityRelShelterAvg\", \"Pressure\", \"SunDuration\", \"ShortWaveFromSkyAvg\", \n",
    "                                                    \"SunIntAvg\"])\n",
    "\n",
    "weather_data_df.head()"
   ]
  },
  {
   "cell_type": "code",
   "execution_count": 24,
   "metadata": {
    "ExecuteTime": {
     "end_time": "2025-03-10T15:04:26.577677700Z",
     "start_time": "2025-03-10T15:03:20.522257800Z"
    }
   },
   "outputs": [
    {
     "data": {
      "text/plain": "53"
     },
     "execution_count": 24,
     "metadata": {},
     "output_type": "execute_result"
    }
   ],
   "source": [
    "# Data naar SQL Server schrijven\n",
    "weather_data_df.to_sql(\"FactWeather\", con=engine, if_exists=\"append\", index=False)"
   ]
  },
  {
   "cell_type": "markdown",
   "metadata": {},
   "source": [
    "5: FactBelpex Table"
   ]
  },
  {
   "cell_type": "code",
   "execution_count": 25,
   "metadata": {
    "ExecuteTime": {
     "end_time": "2025-03-10T15:04:28.293255800Z",
     "start_time": "2025-03-10T15:04:26.588927Z"
    }
   },
   "outputs": [
    {
     "data": {
      "text/plain": "213"
     },
     "execution_count": 25,
     "metadata": {},
     "output_type": "execute_result"
    }
   ],
   "source": [
    "from datetime import datetime\n",
    "\n",
    "# Read the CSV with proper headers and separator\n",
    "belpex_df = pd.read_csv('../data/input/BelpexFilter.csv', encoding='Windows-1252', sep=';', names=['Date', 'BelpexPrice'], skiprows=1)\n",
    "\n",
    "# Clean and convert 'BelpexPrice'\n",
    "belpex_df['BelpexPrice'] = belpex_df['BelpexPrice'].str.replace('€', '', regex=False).str.replace(',', '.', regex=False).str.strip()\n",
    "belpex_df['BelpexPrice'] = pd.to_numeric(belpex_df['BelpexPrice'], errors='coerce')\n",
    "\n",
    "# Parse 'Date' into DateKey and FullTime using datetime\n",
    "belpex_df['Date'] = belpex_df['Date'].str.strip()  # Remove extra spaces\n",
    "belpex_df['DateKey'] = belpex_df['Date'].apply(lambda x: datetime.strptime(x.split()[0], '%d/%m/%Y').strftime('%Y%m%d'))\n",
    "belpex_df['FullTime'] = belpex_df['Date'].apply(lambda x: x.split()[1])  # Extract time part\n",
    "\n",
    "# Merge with DimTime to get TimeKey\n",
    "belpex_df = belpex_df.merge(dim_time_df[['FullTime', 'TimeKey']], how='inner', on='FullTime')\n",
    "\n",
    "# Drop unnecessary columns\n",
    "belpex_df = belpex_df.drop(['FullTime', 'Date'], axis=1)\n",
    "\n",
    "# Write to SQL Server\n",
    "belpex_df.to_sql('FactBelpex', con=engine, if_exists='append', index=False)"
   ]
  },
  {
   "cell_type": "markdown",
   "metadata": {},
   "source": [
    "##### 6: FactNetworkCosts"
   ]
  },
  {
   "cell_type": "code",
   "execution_count": 26,
   "metadata": {
    "ExecuteTime": {
     "end_time": "2025-03-10T15:04:28.352190100Z",
     "start_time": "2025-03-10T15:04:28.294883300Z"
    }
   },
   "outputs": [
    {
     "data": {
      "text/plain": "          Van         Tot     Intercommunale  \\\n0  01/01/2023  31/12/2023  Fluvius Antwerpen   \n1  01/01/2023  31/12/2023    Fluvius Limburg   \n2  01/01/2023  31/12/2023       Fluvius West   \n3  01/01/2023  31/12/2023          Gaselwest   \n4  01/01/2023  31/12/2023              Imewo   \n\n   Capaciteitstarief_Digitale_meter  Afnametarief_Digitale_meter_Normaal  \\\n0                           40.0309                              3.74193   \n1                           37.6491                              3.94475   \n2                           41.0824                              3.81831   \n3                           48.7615                              4.98204   \n4                           43.5071                              4.01029   \n\n   Afnametarief_Digitale_meter_Exclusief_nacht  \\\n0                                      2.60192   \n1                                      2.81516   \n2                                      2.72467   \n3                                      3.36755   \n4                                      2.82576   \n\n   Capaciteitstarief_Klassieke_meter  Afnametarief_Klassieke_meter_Normaal  \\\n0                           100.0746                               5.70831   \n1                            94.1280                               6.08459   \n2                           102.7034                               6.10955   \n3                           121.9000                               7.40908   \n4                           108.7666                               6.23503   \n\n   Afnametarief_Klassieke_meter_Exclusief_nacht  Prosumententarief  \\\n0                                       4.56830              38.56   \n1                                       4.95500              41.11   \n2                                       5.01591              41.28   \n3                                       5.79459              50.05   \n4                                       5.05050              42.12   \n\n   Tarief_databeheer_Jaar_en_maandgelezen_meters  \\\n0                                          13.39   \n1                                          13.39   \n2                                          13.39   \n3                                          13.39   \n4                                          13.39   \n\n   Tarief_databeheer_Kwartiergelezen_meters   DateKey  \n0                                     14.53  20230101  \n1                                     14.53  20230101  \n2                                     14.53  20230101  \n3                                     14.53  20230101  \n4                                     14.53  20230101  ",
      "text/html": "<div>\n<style scoped>\n    .dataframe tbody tr th:only-of-type {\n        vertical-align: middle;\n    }\n\n    .dataframe tbody tr th {\n        vertical-align: top;\n    }\n\n    .dataframe thead th {\n        text-align: right;\n    }\n</style>\n<table border=\"1\" class=\"dataframe\">\n  <thead>\n    <tr style=\"text-align: right;\">\n      <th></th>\n      <th>Van</th>\n      <th>Tot</th>\n      <th>Intercommunale</th>\n      <th>Capaciteitstarief_Digitale_meter</th>\n      <th>Afnametarief_Digitale_meter_Normaal</th>\n      <th>Afnametarief_Digitale_meter_Exclusief_nacht</th>\n      <th>Capaciteitstarief_Klassieke_meter</th>\n      <th>Afnametarief_Klassieke_meter_Normaal</th>\n      <th>Afnametarief_Klassieke_meter_Exclusief_nacht</th>\n      <th>Prosumententarief</th>\n      <th>Tarief_databeheer_Jaar_en_maandgelezen_meters</th>\n      <th>Tarief_databeheer_Kwartiergelezen_meters</th>\n      <th>DateKey</th>\n    </tr>\n  </thead>\n  <tbody>\n    <tr>\n      <th>0</th>\n      <td>01/01/2023</td>\n      <td>31/12/2023</td>\n      <td>Fluvius Antwerpen</td>\n      <td>40.0309</td>\n      <td>3.74193</td>\n      <td>2.60192</td>\n      <td>100.0746</td>\n      <td>5.70831</td>\n      <td>4.56830</td>\n      <td>38.56</td>\n      <td>13.39</td>\n      <td>14.53</td>\n      <td>20230101</td>\n    </tr>\n    <tr>\n      <th>1</th>\n      <td>01/01/2023</td>\n      <td>31/12/2023</td>\n      <td>Fluvius Limburg</td>\n      <td>37.6491</td>\n      <td>3.94475</td>\n      <td>2.81516</td>\n      <td>94.1280</td>\n      <td>6.08459</td>\n      <td>4.95500</td>\n      <td>41.11</td>\n      <td>13.39</td>\n      <td>14.53</td>\n      <td>20230101</td>\n    </tr>\n    <tr>\n      <th>2</th>\n      <td>01/01/2023</td>\n      <td>31/12/2023</td>\n      <td>Fluvius West</td>\n      <td>41.0824</td>\n      <td>3.81831</td>\n      <td>2.72467</td>\n      <td>102.7034</td>\n      <td>6.10955</td>\n      <td>5.01591</td>\n      <td>41.28</td>\n      <td>13.39</td>\n      <td>14.53</td>\n      <td>20230101</td>\n    </tr>\n    <tr>\n      <th>3</th>\n      <td>01/01/2023</td>\n      <td>31/12/2023</td>\n      <td>Gaselwest</td>\n      <td>48.7615</td>\n      <td>4.98204</td>\n      <td>3.36755</td>\n      <td>121.9000</td>\n      <td>7.40908</td>\n      <td>5.79459</td>\n      <td>50.05</td>\n      <td>13.39</td>\n      <td>14.53</td>\n      <td>20230101</td>\n    </tr>\n    <tr>\n      <th>4</th>\n      <td>01/01/2023</td>\n      <td>31/12/2023</td>\n      <td>Imewo</td>\n      <td>43.5071</td>\n      <td>4.01029</td>\n      <td>2.82576</td>\n      <td>108.7666</td>\n      <td>6.23503</td>\n      <td>5.05050</td>\n      <td>42.12</td>\n      <td>13.39</td>\n      <td>14.53</td>\n      <td>20230101</td>\n    </tr>\n  </tbody>\n</table>\n</div>"
     },
     "execution_count": 26,
     "metadata": {},
     "output_type": "execute_result"
    }
   ],
   "source": [
    "from datetime import datetime\n",
    "\n",
    "\n",
    "csv_file_path = \"../data/input/Distributiekosten.csv\"\n",
    "df_distributiekosten = pd.read_csv(csv_file_path)\n",
    "\n",
    "# Datum omzetten naar DateKey (YYYYMMDD)\n",
    "df_distributiekosten[\"DateKey\"] = df_distributiekosten[\"Van\"].apply(lambda x: datetime.strptime(x, \"%d/%m/%Y\").strftime(\"%Y%m%d\"))\n",
    "\n",
    "df_distributiekosten.head()\n"
   ]
  },
  {
   "cell_type": "code",
   "execution_count": 27,
   "metadata": {
    "ExecuteTime": {
     "end_time": "2025-03-10T15:04:28.353410Z",
     "start_time": "2025-03-10T15:04:28.330704100Z"
    }
   },
   "outputs": [
    {
     "data": {
      "text/plain": "          Van         Tot    NetworkOperator  CapacityTariff_DigitalMeter  \\\n0  01/01/2023  31/12/2023  Fluvius Antwerpen                      40.0309   \n1  01/01/2023  31/12/2023    Fluvius Limburg                      37.6491   \n2  01/01/2023  31/12/2023       Fluvius West                      41.0824   \n3  01/01/2023  31/12/2023          Gaselwest                      48.7615   \n4  01/01/2023  31/12/2023              Imewo                      43.5071   \n\n   ConsumptionTariff_DigitalMeter_Normal  \\\n0                                3.74193   \n1                                3.94475   \n2                                3.81831   \n3                                4.98204   \n4                                4.01029   \n\n   ConsumptionTariff_DigitalMeter_ExclusiveNight  CapacityTariff_ClassicMeter  \\\n0                                        2.60192                     100.0746   \n1                                        2.81516                      94.1280   \n2                                        2.72467                     102.7034   \n3                                        3.36755                     121.9000   \n4                                        2.82576                     108.7666   \n\n   ConsumptionTariff_ClassicMeter_Normal  \\\n0                                5.70831   \n1                                6.08459   \n2                                6.10955   \n3                                7.40908   \n4                                6.23503   \n\n   ConsumptionTariff_ClassicMeter_ExclusiveNight  ProsumerTariff  \\\n0                                        4.56830           38.56   \n1                                        4.95500           41.11   \n2                                        5.01591           41.28   \n3                                        5.79459           50.05   \n4                                        5.05050           42.12   \n\n   DataManagementTariff_YearlyMonthlyReadMeters  \\\n0                                         13.39   \n1                                         13.39   \n2                                         13.39   \n3                                         13.39   \n4                                         13.39   \n\n   DataManagementTariff_QuarterlyReadMeters   DateKey  \n0                                     14.53  20230101  \n1                                     14.53  20230101  \n2                                     14.53  20230101  \n3                                     14.53  20230101  \n4                                     14.53  20230101  ",
      "text/html": "<div>\n<style scoped>\n    .dataframe tbody tr th:only-of-type {\n        vertical-align: middle;\n    }\n\n    .dataframe tbody tr th {\n        vertical-align: top;\n    }\n\n    .dataframe thead th {\n        text-align: right;\n    }\n</style>\n<table border=\"1\" class=\"dataframe\">\n  <thead>\n    <tr style=\"text-align: right;\">\n      <th></th>\n      <th>Van</th>\n      <th>Tot</th>\n      <th>NetworkOperator</th>\n      <th>CapacityTariff_DigitalMeter</th>\n      <th>ConsumptionTariff_DigitalMeter_Normal</th>\n      <th>ConsumptionTariff_DigitalMeter_ExclusiveNight</th>\n      <th>CapacityTariff_ClassicMeter</th>\n      <th>ConsumptionTariff_ClassicMeter_Normal</th>\n      <th>ConsumptionTariff_ClassicMeter_ExclusiveNight</th>\n      <th>ProsumerTariff</th>\n      <th>DataManagementTariff_YearlyMonthlyReadMeters</th>\n      <th>DataManagementTariff_QuarterlyReadMeters</th>\n      <th>DateKey</th>\n    </tr>\n  </thead>\n  <tbody>\n    <tr>\n      <th>0</th>\n      <td>01/01/2023</td>\n      <td>31/12/2023</td>\n      <td>Fluvius Antwerpen</td>\n      <td>40.0309</td>\n      <td>3.74193</td>\n      <td>2.60192</td>\n      <td>100.0746</td>\n      <td>5.70831</td>\n      <td>4.56830</td>\n      <td>38.56</td>\n      <td>13.39</td>\n      <td>14.53</td>\n      <td>20230101</td>\n    </tr>\n    <tr>\n      <th>1</th>\n      <td>01/01/2023</td>\n      <td>31/12/2023</td>\n      <td>Fluvius Limburg</td>\n      <td>37.6491</td>\n      <td>3.94475</td>\n      <td>2.81516</td>\n      <td>94.1280</td>\n      <td>6.08459</td>\n      <td>4.95500</td>\n      <td>41.11</td>\n      <td>13.39</td>\n      <td>14.53</td>\n      <td>20230101</td>\n    </tr>\n    <tr>\n      <th>2</th>\n      <td>01/01/2023</td>\n      <td>31/12/2023</td>\n      <td>Fluvius West</td>\n      <td>41.0824</td>\n      <td>3.81831</td>\n      <td>2.72467</td>\n      <td>102.7034</td>\n      <td>6.10955</td>\n      <td>5.01591</td>\n      <td>41.28</td>\n      <td>13.39</td>\n      <td>14.53</td>\n      <td>20230101</td>\n    </tr>\n    <tr>\n      <th>3</th>\n      <td>01/01/2023</td>\n      <td>31/12/2023</td>\n      <td>Gaselwest</td>\n      <td>48.7615</td>\n      <td>4.98204</td>\n      <td>3.36755</td>\n      <td>121.9000</td>\n      <td>7.40908</td>\n      <td>5.79459</td>\n      <td>50.05</td>\n      <td>13.39</td>\n      <td>14.53</td>\n      <td>20230101</td>\n    </tr>\n    <tr>\n      <th>4</th>\n      <td>01/01/2023</td>\n      <td>31/12/2023</td>\n      <td>Imewo</td>\n      <td>43.5071</td>\n      <td>4.01029</td>\n      <td>2.82576</td>\n      <td>108.7666</td>\n      <td>6.23503</td>\n      <td>5.05050</td>\n      <td>42.12</td>\n      <td>13.39</td>\n      <td>14.53</td>\n      <td>20230101</td>\n    </tr>\n  </tbody>\n</table>\n</div>"
     },
     "execution_count": 27,
     "metadata": {},
     "output_type": "execute_result"
    }
   ],
   "source": [
    "# Kolommen hernoemen\n",
    "column_mapping = {\n",
    "    \"Capaciteitstarief_Digitale_meter\": \"CapacityTariff_DigitalMeter\",\n",
    "    \"Afnametarief_Digitale_meter_Normaal\": \"ConsumptionTariff_DigitalMeter_Normal\",\n",
    "    \"Afnametarief_Digitale_meter_Exclusief_nacht\": \"ConsumptionTariff_DigitalMeter_ExclusiveNight\",\n",
    "    \"Capaciteitstarief_Klassieke_meter\": \"CapacityTariff_ClassicMeter\",\n",
    "    \"Afnametarief_Klassieke_meter_Normaal\": \"ConsumptionTariff_ClassicMeter_Normal\",\n",
    "    \"Afnametarief_Klassieke_meter_Exclusief_nacht\": \"ConsumptionTariff_ClassicMeter_ExclusiveNight\",\n",
    "    \"Prosumententarief\": \"ProsumerTariff\",\n",
    "    \"Tarief_databeheer_Jaar_en_maandgelezen_meters\": \"DataManagementTariff_YearlyMonthlyReadMeters\",\n",
    "    \"Tarief_databeheer_Kwartiergelezen_meters\": \"DataManagementTariff_QuarterlyReadMeters\",\n",
    "    \"Intercommunale\": \"NetworkOperator\"\n",
    "}\n",
    "df_distributiekosten = df_distributiekosten.rename(columns=column_mapping)\n",
    "\n",
    "df_distributiekosten.head()"
   ]
  },
  {
   "cell_type": "code",
   "execution_count": 28,
   "metadata": {
    "ExecuteTime": {
     "end_time": "2025-03-10T15:04:28.618673300Z",
     "start_time": "2025-03-10T15:04:28.349602300Z"
    }
   },
   "outputs": [
    {
     "data": {
      "text/plain": "28"
     },
     "execution_count": 28,
     "metadata": {},
     "output_type": "execute_result"
    }
   ],
   "source": [
    "columns = [\n",
    "    \"DateKey\", \"NetworkOperator\", \"CapacityTariff_DigitalMeter\",\n",
    "    \"ConsumptionTariff_DigitalMeter_Normal\", \"ConsumptionTariff_DigitalMeter_ExclusiveNight\",\n",
    "    \"CapacityTariff_ClassicMeter\", \"ConsumptionTariff_ClassicMeter_Normal\",\n",
    "    \"ConsumptionTariff_ClassicMeter_ExclusiveNight\", \"ProsumerTariff\",\n",
    "    \"DataManagementTariff_YearlyMonthlyReadMeters\", \"DataManagementTariff_QuarterlyReadMeters\"\n",
    "]\n",
    "df_distributiekosten = df_distributiekosten[columns]\n",
    "\n",
    "df_distributiekosten.to_sql('FactNetworkCosts', con=engine, if_exists='append', index=False)\n",
    "\n"
   ]
  },
  {
   "cell_type": "markdown",
   "metadata": {},
   "source": [
    "6: Verbruikersdata\n",
    "\n"
   ]
  },
  {
   "cell_type": "code",
   "execution_count": 29,
   "metadata": {
    "ExecuteTime": {
     "end_time": "2025-03-10T15:05:05.938750400Z",
     "start_time": "2025-03-10T15:04:28.429649800Z"
    }
   },
   "outputs": [],
   "source": [
    "# dowmload de dataset: https://opendata.fluvius.be/explore/dataset/1_50-verbruiksprofielen-dm-elek-kwartierwaarden-voor-een-volledig-jaar/information/\n",
    "# Lees de CSV met alle verbruikersdata in een pandas dataframe.\n",
    "csv_file_path = \"../data/input/P6269_1_50_DMK_Sample_Elek.csv\"\n",
    "df_verbruikersdata = pd.read_csv(csv_file_path, sep=';', encoding='utf-8')"
   ]
  },
  {
   "cell_type": "code",
   "execution_count": 30,
   "metadata": {
    "ExecuteTime": {
     "end_time": "2025-03-10T15:05:05.975272100Z",
     "start_time": "2025-03-10T15:05:05.967806200Z"
    }
   },
   "outputs": [],
   "source": [
    "# Hernoem kolom om te matchen met tabel in sql server\n",
    "df_verbruikersdata.rename(columns={\n",
    "    'PV-Installatie_Indicator': 'PV_Installatie_Indicator',\n",
    "}, inplace=True)"
   ]
  },
  {
   "cell_type": "code",
   "execution_count": null,
   "metadata": {
    "is_executing": true,
    "ExecuteTime": {
     "start_time": "2025-03-10T15:05:05.973694400Z"
    }
   },
   "outputs": [],
   "source": [
    "\n",
    "df_verbruikersdata.to_sql('DimUser_Staging', con=engine, if_exists='append', index=False, chunksize=5000)\n",
    "\n",
    "# Laatste stap, voer sql script uit: ../DWH/Staging_To_DimUser.sql"
   ]
  },
  {
   "cell_type": "markdown",
   "metadata": {},
   "source": [
    "7: Overige Tabellen\n",
    "\n",
    "- Voor de overige tabellen, volg dezelfde logica:\n",
    "    - Lees de CSV’s.\n",
    "    - Voeg de benodigde foreign keys toe.\n",
    "    - Schrijf de data weg naar de juiste tabellen via bulk-insert of andere batch methoden."
   ]
  },
  {
   "cell_type": "code",
   "execution_count": null,
   "metadata": {
    "is_executing": true
   },
   "outputs": [],
   "source": []
  },
  {
   "cell_type": "markdown",
   "metadata": {},
   "source": [
    "Algemeen:\n",
    "Voor alle bulk-insert taken moet je zorgen voor een efficiënte schrijfmethode naar SQL Server, bijvoorbeeld:\n",
    "\n",
    "- to_sql() in combinatie met een SQLAlchemy engine.\n",
    "- Bulk-insert via pyodbc of tools zoals bcp.\n",
    "- Gebruik maken van BULK INSERT in SQL Server voor het snel inladen van grote datasets."
   ]
  },
  {
   "cell_type": "code",
   "execution_count": null,
   "outputs": [],
   "source": [],
   "metadata": {
    "collapsed": false,
    "is_executing": true
   }
  },
  {
   "cell_type": "markdown",
   "source": [
    "Voeg contract types toe:"
   ],
   "metadata": {
    "collapsed": false
   }
  },
  {
   "cell_type": "code",
   "execution_count": 6,
   "outputs": [
    {
     "data": {
      "text/plain": "3"
     },
     "execution_count": 6,
     "metadata": {},
     "output_type": "execute_result"
    }
   ],
   "source": [
    "# Maak een dataframe voor DimEnergyContract\n",
    "contract_types = [\n",
    "    {'ContractType': 'Vast'},\n",
    "    {'ContractType': 'Variabel'},\n",
    "    {'ContractType': 'Dynamisch'}\n",
    "]\n",
    "\n",
    "# Maak een dataframe\n",
    "dim_energy_contract_df = pd.DataFrame(contract_types)\n",
    "\n",
    "# Schrijf naar SQL Server\n",
    "dim_energy_contract_df.to_sql('DimEnergyContract', con=engine, if_exists='append', index=False)\n"
   ],
   "metadata": {
    "collapsed": false,
    "ExecuteTime": {
     "end_time": "2025-03-10T15:23:58.685337200Z",
     "start_time": "2025-03-10T15:23:58.643859100Z"
    }
   }
  },
  {
   "cell_type": "code",
   "execution_count": null,
   "outputs": [],
   "source": [],
   "metadata": {
    "collapsed": false
   }
  }
 ],
 "metadata": {
  "kernelspec": {
   "display_name": "Python 3",
   "language": "python",
   "name": "python3"
  },
  "language_info": {
   "codemirror_mode": {
    "name": "ipython",
    "version": 3
   },
   "file_extension": ".py",
   "mimetype": "text/x-python",
   "name": "python",
   "nbconvert_exporter": "python",
   "pygments_lexer": "ipython3",
   "version": "3.13.2"
  }
 },
 "nbformat": 4,
 "nbformat_minor": 2
}
