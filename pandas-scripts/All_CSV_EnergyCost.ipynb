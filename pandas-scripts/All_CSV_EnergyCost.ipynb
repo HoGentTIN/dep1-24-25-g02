{
 "cells": [
  {
   "cell_type": "code",
   "execution_count": 1,
   "metadata": {},
   "outputs": [],
   "source": [
    "import re\n",
    "import pandas as pd\n",
    "from sqlalchemy import create_engine"
   ]
  },
  {
   "cell_type": "code",
   "execution_count": 2,
   "metadata": {},
   "outputs": [],
   "source": [
    "# Gegevens voor de verbinding\n",
    "server = \"ARES\"  # Servernaam of IP-adres van je SQL Server\n",
    "database = \"DEP1_DWH\"  # Naam van je database\n",
    "\n",
    "# Maak de verbindingsstring met Windows Authenticatie (Integrated Security)\n",
    "engine = create_engine(\"mssql+pyodbc://@{}/{}?driver=ODBC+Driver+17+for+SQL+Server\".format(server, database))"
   ]
  },
  {
   "cell_type": "code",
   "execution_count": null,
   "metadata": {},
   "outputs": [],
   "source": [
    "df1 = pd.read_csv(\"../automatisatie/tarieven_to_csv/DATS24/dats24.csv\", delimiter=\";\")\n",
    "df2 = pd.read_csv(\"../automatisatie/tarieven_to_csv/ENECO/eneco.csv\", delimiter=\",\")\n",
    "df3 = pd.read_csv(\"../automatisatie/tarieven_to_csv/LUMINUS/luminus.csv\", delimiter=\",\")\n",
    "df4 = pd.read_csv(\"../automatisatie/tarieven_to_csv/OCTA+/DYNAMIC/octaplus_dynamic.csv\", delimiter=\";\")\n",
    "df5 = pd.read_csv(\"../automatisatie/tarieven_to_csv/OCTA+/ECO CLEAR/octaplus_ecoclear.csv\", delimiter=\";\")\n",
    "df6 = pd.read_csv(\"../automatisatie/tarieven_to_csv/OCTA+/SMART VARIABEL/octaplus_smartvariabel.csv\", delimiter=\";\")\n",
    "df7 = pd.read_csv(\"../automatisatie/tarieven_to_csv/TOTALENERGIES/pixel_edrive.csv\", delimiter=\";\")\n",
    "\n",
    "df = pd.concat([df1, df2, df3, df4, df5, df6, df7], ignore_index=True)\n",
    "\n",
    "df.head()"
   ]
  }
 ],
 "metadata": {
  "kernelspec": {
   "display_name": "Python 3",
   "language": "python",
   "name": "python3"
  },
  "language_info": {
   "codemirror_mode": {
    "name": "ipython",
    "version": 3
   },
   "file_extension": ".py",
   "mimetype": "text/x-python",
   "name": "python",
   "nbconvert_exporter": "python",
   "pygments_lexer": "ipython3",
   "version": "3.12.6"
  }
 },
 "nbformat": 4,
 "nbformat_minor": 2
}
