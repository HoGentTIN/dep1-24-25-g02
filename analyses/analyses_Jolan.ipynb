{
 "cells": [
  {
   "cell_type": "markdown",
   "metadata": {},
   "source": [
    "Groep 02 <br>\n",
    "Jolan Grégoire 202399739 <br>\n",
    "Gemaakte analyses:\n",
    "- Gemakkelijk 1\n",
    "- Gemiddeld 3\n",
    "- Gevorderd 1"
   ]
  },
  {
   "cell_type": "code",
   "execution_count": 1,
   "metadata": {},
   "outputs": [],
   "source": [
    "import numpy as np\n",
    "import seaborn as sns\n",
    "import scipy.stats as stats\n",
    "import matplotlib.pyplot as plt\n",
    "import pandas as pd"
   ]
  },
  {
   "cell_type": "code",
   "execution_count": 2,
   "metadata": {},
   "outputs": [],
   "source": [
    "from sqlalchemy import create_engine\n",
    "\n",
    "# Gegevens voor de verbinding\n",
    "server = \"ARES\"  # Servernaam of IP-adres van je SQL Server\n",
    "database = \"DEP1_DWH\"  # Naam van je database\n",
    "\n",
    "# Maak de verbindingsstring met Windows Authenticatie (Integrated Security)\n",
    "engine = create_engine(\"mssql+pyodbc://@{}/{}?driver=ODBC+Driver+17+for+SQL+Server\".format(server, database))"
   ]
  },
  {
   "cell_type": "markdown",
   "metadata": {},
   "source": [
    "<h3>Gemakkelijk 1</h3>"
   ]
  },
  {
   "cell_type": "markdown",
   "metadata": {},
   "source": [
    "DEEL 1"
   ]
  },
  {
   "cell_type": "markdown",
   "metadata": {},
   "source": [
    "-- Stap 1: Voeg de kolom toe aan DimUser"
   ]
  },
  {
   "cell_type": "markdown",
   "metadata": {},
   "source": [
    "``` sql\n",
    "ALTER TABLE DimUser \n",
    "ADD UserType VARCHAR(100);\n",
    "```"
   ]
  },
  {
   "cell_type": "markdown",
   "metadata": {},
   "source": [
    "-- Stap 2: Update de kolom met de juiste waarden <br>"
   ]
  },
  {
   "cell_type": "markdown",
   "metadata": {},
   "source": [
    "``` sql\n",
    "UPDATE DimUser\n",
    "SET UserType = \n",
    "    CASE \n",
    "        WHEN PVInstallationIndicator = 1 AND ElectricVehicleIndicator = 0 AND HeatPumpIndicator = 0 \n",
    "        THEN 'Met zonnepanelen'\n",
    "        WHEN PVInstallationIndicator = 0 AND ElectricVehicleIndicator = 0 AND HeatPumpIndicator = 0 \n",
    "        THEN 'Zonder zonnepanelen'\n",
    "        WHEN PVInstallationIndicator = 1 AND ElectricVehicleIndicator = 0 AND HeatPumpIndicator = 1 \n",
    "        THEN 'Met warmtepomp en met zonnepanelen'\n",
    "        WHEN PVInstallationIndicator = 1 AND ElectricVehicleIndicator = 1 AND HeatPumpIndicator = 0 \n",
    "        THEN 'Met zonnepanelen en een thuisopladend elektrisch voertuig'\n",
    "        WHEN PVInstallationIndicator = 0 AND ElectricVehicleIndicator = 1 AND HeatPumpIndicator = 0 \n",
    "        THEN 'Zonder zonnepanelen en met een thuisopladend elektrisch voertuig'\n",
    "    END;\n",
    "```"
   ]
  },
  {
   "cell_type": "markdown",
   "metadata": {},
   "source": [
    "controle:\n",
    "``` sql\n",
    "SELECT UserType, COUNT(*) \n",
    "FROM DimUser \n",
    "GROUP BY UserType;\n",
    "```"
   ]
  },
  {
   "cell_type": "code",
   "execution_count": 3,
   "metadata": {},
   "outputs": [
    {
     "data": {
      "text/html": [
       "<div>\n",
       "<style scoped>\n",
       "    .dataframe tbody tr th:only-of-type {\n",
       "        vertical-align: middle;\n",
       "    }\n",
       "\n",
       "    .dataframe tbody tr th {\n",
       "        vertical-align: top;\n",
       "    }\n",
       "\n",
       "    .dataframe thead th {\n",
       "        text-align: right;\n",
       "    }\n",
       "</style>\n",
       "<table border=\"1\" class=\"dataframe\">\n",
       "  <thead>\n",
       "    <tr style=\"text-align: right;\">\n",
       "      <th></th>\n",
       "      <th>UserType</th>\n",
       "      <th>NumberOfUsers</th>\n",
       "    </tr>\n",
       "  </thead>\n",
       "  <tbody>\n",
       "    <tr>\n",
       "      <th>0</th>\n",
       "      <td>Met zonnepanelen</td>\n",
       "      <td>300</td>\n",
       "    </tr>\n",
       "    <tr>\n",
       "      <th>1</th>\n",
       "      <td>Met warmtepomp en met zonnepanelen</td>\n",
       "      <td>300</td>\n",
       "    </tr>\n",
       "    <tr>\n",
       "      <th>2</th>\n",
       "      <td>Met zonnepanelen en een thuisopladend elektris...</td>\n",
       "      <td>300</td>\n",
       "    </tr>\n",
       "    <tr>\n",
       "      <th>3</th>\n",
       "      <td>Zonder zonnepanelen</td>\n",
       "      <td>300</td>\n",
       "    </tr>\n",
       "    <tr>\n",
       "      <th>4</th>\n",
       "      <td>Zonder zonnepanelen en met een thuisopladend e...</td>\n",
       "      <td>100</td>\n",
       "    </tr>\n",
       "  </tbody>\n",
       "</table>\n",
       "</div>"
      ],
      "text/plain": [
       "                                            UserType  NumberOfUsers\n",
       "0                                   Met zonnepanelen            300\n",
       "1                 Met warmtepomp en met zonnepanelen            300\n",
       "2  Met zonnepanelen en een thuisopladend elektris...            300\n",
       "3                                Zonder zonnepanelen            300\n",
       "4  Zonder zonnepanelen en met een thuisopladend e...            100"
      ]
     },
     "execution_count": 3,
     "metadata": {},
     "output_type": "execute_result"
    }
   ],
   "source": [
    "sql = \"SELECT UserType, COUNT(UserKey) AS NumberOfUsers FROM DimUser GROUP BY UserType\"\n",
    "df = pd.read_sql(sql, con=engine)\n",
    "df.head()"
   ]
  },
  {
   "cell_type": "code",
   "execution_count": 4,
   "metadata": {},
   "outputs": [
    {
     "data": {
      "text/plain": [
       "<Axes: xlabel='UserType', ylabel='NumberOfUsers'>"
      ]
     },
     "execution_count": 4,
     "metadata": {},
     "output_type": "execute_result"
    },
    {
     "data": {
      "image/png": "[encoded data removed]",
      "text/plain": [
       "<Figure size 640x480 with 1 Axes>"
      ]
     },
     "metadata": {},
     "output_type": "display_data"
    }
   ],
   "source": [
    "sns.barplot(x=\"UserType\", y=\"NumberOfUsers\", data=df)"
   ]
  },
  {
   "cell_type": "markdown",
   "metadata": {},
   "source": [
    "DEEL 2"
   ]
  },
  {
   "cell_type": "markdown",
   "metadata": {},
   "source": [
    "``` sql\n",
    "CREATE TABLE DEP1_DWH.FactTable (\n",
    "    UserKey INT NOT NULL,\n",
    "    Year INT NOT NULL,\n",
    "    Month INT NOT NULL,\n",
    "    StartDateKey INT NOT NULL,\n",
    "    StartDate DATE NOT NULL,\n",
    "    MonthVolumeUsage DECIMAL(18,6) NOT NULL,\n",
    "    MonthVolumeInjection DECIMAL(18,6) NOT NULL,\n",
    "    MonthPeak DECIMAL(18,6) NOT NULL,\n",
    "    MonthVolumeUsageDay DECIMAL(18,6) NOT NULL,\n",
    "    MonthVolumeInjectionDay DECIMAL(18,6) NOT NULL,\n",
    "    MonthVolumeUsageNight DECIMAL(18,6) NOT NULL,\n",
    "    MonthVolumeInjectionNight DECIMAL(18,6) NOT NULL,\n",
    "    PRIMARY KEY (Month)\n",
    ");\n",
    "```"
   ]
  },
  {
   "cell_type": "markdown",
   "metadata": {},
   "source": [
    "<h3>Gemiddeld 3</h3>"
   ]
  },
  {
   "cell_type": "code",
   "execution_count": 5,
   "metadata": {},
   "outputs": [
    {
     "name": "stdout",
     "output_type": "stream",
     "text": [
      "   Season  ConsumptionVolume_kWh\n",
      "0  Autumn              332355.14\n",
      "1  Spring              313286.24\n",
      "2  Summer              253664.81\n",
      "3  Winter              505424.84\n"
     ]
    }
   ],
   "source": [
    "query = '''\n",
    "SELECT fe.DateKey, fe.ConsumptionVolume_kWh\n",
    "FROM FactEnergyUsage fe\n",
    "JOIN DimUser u ON fe.UserKey = u.UserKey\n",
    "WHERE u.UserType = 'Zonder zonnepanelen'\n",
    "'''\n",
    "#AND fe.DateKey BETWEEN 20240101 AND 20241231\n",
    "\n",
    "df = pd.read_sql(query, con=engine)\n",
    "\n",
    "df['DateKey'] = pd.to_datetime(df['DateKey'], format='%Y%m%d')\n",
    "df['Month'] = df['DateKey'].dt.month\n",
    "\n",
    "season_mapping = {\n",
    "    12: 'Winter', 1: 'Winter', 2: 'Winter',\n",
    "    3: 'Spring', 4: 'Spring', 5: 'Spring',\n",
    "    6: 'Summer', 7: 'Summer', 8: 'Summer',\n",
    "    9: 'Autumn', 10: 'Autumn', 11: 'Autumn'\n",
    "}\n",
    "\n",
    "df['Season'] = df['Month'].map(season_mapping)\n",
    "seasonal_consumption = df.groupby('Season')['ConsumptionVolume_kWh'].sum().reset_index()\n",
    "\n",
    "print(seasonal_consumption)"
   ]
  },
  {
   "cell_type": "code",
   "execution_count": 6,
   "metadata": {},
   "outputs": [
    {
     "data": {
      "image/png": "[encoded data removed]",
      "text/plain": [
       "<Figure size 800x500 with 1 Axes>"
      ]
     },
     "metadata": {},
     "output_type": "display_data"
    },
    {
     "name": "stdout",
     "output_type": "stream",
     "text": [
      "   Season  ConsumptionVolume_kWh\n",
      "1  Spring              313286.24\n",
      "2  Summer              253664.81\n",
      "0  Autumn              332355.14\n",
      "3  Winter              505424.84\n"
     ]
    }
   ],
   "source": [
    "season_order = ['Spring', 'Summer', 'Autumn', 'Winter']\n",
    "seasonal_consumption['Season'] = pd.Categorical(seasonal_consumption['Season'], categories=season_order, ordered=True)\n",
    "seasonal_consumption = seasonal_consumption.sort_values('Season')\n",
    "\n",
    "# Barplot maken\n",
    "plt.figure(figsize=(8, 5))\n",
    "plt.bar(seasonal_consumption['Season'], seasonal_consumption['ConsumptionVolume_kWh'], color=['green', 'yellow', 'orange', 'blue'])\n",
    "plt.xlabel('Season')\n",
    "plt.ylabel('Total Consumption (kWh)')\n",
    "plt.title('Energy Consumption per Season')\n",
    "plt.show()\n",
    "\n",
    "print(seasonal_consumption)"
   ]
  },
  {
   "cell_type": "markdown",
   "metadata": {},
   "source": [
    "<h3>Gevorderd 1</h3>"
   ]
  },
  {
   "cell_type": "markdown",
   "metadata": {},
   "source": [
    "Voorlopig een extra user want weet niet of wij iets hebben van piekvermogen in dwh."
   ]
  },
  {
   "cell_type": "code",
   "execution_count": 7,
   "metadata": {},
   "outputs": [
    {
     "name": "stdout",
     "output_type": "stream",
     "text": [
      "  Van (datum) Van (tijdstip) Tot (datum) Tot (tijdstip)  EAN-code  Meter  \\\n",
      "0  01-02-2024       00:00:00  01-03-2024       00:00:00      1301    NaN   \n",
      "1  01-03-2024       00:00:00  01-04-2024       00:00:00      1301    NaN   \n",
      "2  01-04-2024       00:00:00  01-05-2024       00:00:00      1301    NaN   \n",
      "3  01-05-2024       00:00:00  01-06-2024       00:00:00      1301    NaN   \n",
      "4  01-06-2024       00:00:00  01-07-2024       00:00:00      1301    NaN   \n",
      "\n",
      "        Metertype      Register Volume Eenheid Validatiestatus Omschrijving  \n",
      "0  Digitale meter  Piekvermogen  4,349      kW      Uitgelezen          NaN  \n",
      "1  Digitale meter  Piekvermogen  3,950      kW      Uitgelezen          NaN  \n",
      "2  Digitale meter  Piekvermogen  9,308      kW      Uitgelezen          NaN  \n",
      "3  Digitale meter  Piekvermogen  3,532      kW      Uitgelezen          NaN  \n",
      "4  Digitale meter  Piekvermogen  4,456      kW      Uitgelezen          NaN  \n"
     ]
    },
    {
     "name": "stderr",
     "output_type": "stream",
     "text": [
      "<>:2: SyntaxWarning: invalid escape sequence '\\d'\n",
      "<>:3: SyntaxWarning: invalid escape sequence '\\d'\n",
      "<>:4: SyntaxWarning: invalid escape sequence '\\d'\n",
      "<>:2: SyntaxWarning: invalid escape sequence '\\d'\n",
      "<>:3: SyntaxWarning: invalid escape sequence '\\d'\n",
      "<>:4: SyntaxWarning: invalid escape sequence '\\d'\n",
      "C:\\Users\\jolan\\AppData\\Local\\Temp\\ipykernel_41156\\3002670276.py:2: SyntaxWarning: invalid escape sequence '\\d'\n",
      "  df1 = pd.read_csv(\"..\\data\\input\\Sprint2\\Historiek_piekvermogen_elektriciteit_1301_20240201_20250331.csv\", delimiter=\";\")\n",
      "C:\\Users\\jolan\\AppData\\Local\\Temp\\ipykernel_41156\\3002670276.py:3: SyntaxWarning: invalid escape sequence '\\d'\n",
      "  df2 = pd.read_csv(\"..\\data\\input\\Sprint2\\Historiek_piekvermogen_elektriciteit_1302_20250101_20250228.csv\", delimiter=\";\")\n",
      "C:\\Users\\jolan\\AppData\\Local\\Temp\\ipykernel_41156\\3002670276.py:4: SyntaxWarning: invalid escape sequence '\\d'\n",
      "  df3 = pd.read_csv(\"..\\data\\input\\Sprint2\\Historiek_piekvermogen_elektriciteit_1303_20210901_20250228.csv\", delimiter=\";\")\n"
     ]
    }
   ],
   "source": [
    "# Bestanden inlezen met puntkomma als delimiter\n",
    "df1 = pd.read_csv(\"..\\data\\input\\Sprint2\\Historiek_piekvermogen_elektriciteit_1301_20240201_20250331.csv\", delimiter=\";\")\n",
    "df2 = pd.read_csv(\"..\\data\\input\\Sprint2\\Historiek_piekvermogen_elektriciteit_1302_20250101_20250228.csv\", delimiter=\";\")\n",
    "df3 = pd.read_csv(\"..\\data\\input\\Sprint2\\Historiek_piekvermogen_elektriciteit_1303_20210901_20250228.csv\", delimiter=\";\")\n",
    "\n",
    "# Dataframes samenvoegen (onder elkaar stapelen)\n",
    "df = pd.concat([df1, df2, df3], ignore_index=True)\n",
    "\n",
    "# De eerste paar rijen bekijken\n",
    "print(df.head())"
   ]
  },
  {
   "cell_type": "markdown",
   "metadata": {},
   "source": [
    "Dataframe opschonen om enkel de kolommen te behouden die nodig zijn voor de analyse"
   ]
  },
  {
   "cell_type": "code",
   "execution_count": 8,
   "metadata": {},
   "outputs": [
    {
     "name": "stdout",
     "output_type": "stream",
     "text": [
      "   UserKey  Jaar  Maand  MonthPeek\n",
      "0     1301  2024      2      4.349\n",
      "1     1301  2024      3      3.950\n",
      "2     1301  2024      4      9.308\n",
      "3     1301  2024      5      3.532\n",
      "4     1301  2024      6      4.456\n"
     ]
    }
   ],
   "source": [
    "# Converteren van 'Volume' naar numeriek formaat (komma vervangen door punt)\n",
    "df[\"Volume\"] = df[\"Volume\"].str.replace(\",\", \".\").astype(float)\n",
    "\n",
    "# Converteren van 'Van (datum)' naar datetime-formaat en jaar/maand extraheren\n",
    "df[\"Van (datum)\"] = pd.to_datetime(df[\"Van (datum)\"], format=\"%d-%m-%Y\")\n",
    "df[\"Jaar\"] = df[\"Van (datum)\"].dt.year\n",
    "df[\"Maand\"] = df[\"Van (datum)\"].dt.month\n",
    "\n",
    "# Selecteren van relevante kolommen\n",
    "df = df[[\"EAN-code\", \"Jaar\", \"Maand\", \"Volume\"]]\n",
    "df.rename(columns={\"EAN-code\": \"UserKey\", \"Volume\": \"MonthPeek\"}, inplace=True)\n",
    "\n",
    "# Gecontroleerde dataset bekijken\n",
    "print(df.head())\n"
   ]
  },
  {
   "cell_type": "markdown",
   "metadata": {},
   "source": [
    "Waarschijnlijk wordt de factuurpiek berekend als een gemiddelde of een gewogen waarde van eerdere maandpieken.\n",
    "Een standaard aanpak is de gemiddelde maandpiek van de afgelopen 12 maanden."
   ]
  },
  {
   "cell_type": "code",
   "execution_count": 9,
   "metadata": {},
   "outputs": [
    {
     "name": "stdout",
     "output_type": "stream",
     "text": [
      "    UserKey  Jaar  Maand  MonthPeek  FactuurPiek\n",
      "0      1301  2024      2      4.349     4.349000\n",
      "1      1301  2024      3      3.950     4.149500\n",
      "2      1301  2024      4      9.308     5.869000\n",
      "3      1301  2024      5      3.532     5.284750\n",
      "4      1301  2024      6      4.456     5.119000\n",
      "5      1301  2024      7      4.402     4.999500\n",
      "6      1301  2024      8      3.256     4.750429\n",
      "7      1301  2024      9      4.241     4.686750\n",
      "8      1301  2024     10      3.054     4.505333\n",
      "9      1301  2024     11      3.622     4.417000\n",
      "10     1301  2024     12      6.706     4.625091\n",
      "11     1301  2025      1      3.977     4.571083\n",
      "12     1301  2025      2      3.838     4.528500\n",
      "13     1301  2025      3      0.000     4.199333\n",
      "14     1302  2025      1      7.332     7.332000\n"
     ]
    }
   ],
   "source": [
    "# Berekening van de factuurpiek als het gemiddelde van de laatste 12 maanden\n",
    "df[\"FactuurPiek\"] = df.groupby(\"UserKey\")[\"MonthPeek\"].rolling(window=12, min_periods=1).mean().reset_index(0, drop=True)\n",
    "\n",
    "# Bekijken van de eerste rijen\n",
    "print(df.head(15))\n"
   ]
  },
  {
   "cell_type": "markdown",
   "metadata": {},
   "source": [
    "alles samen in een functie die per maand de factuurpiek berekent voor alle gebruikers"
   ]
  },
  {
   "cell_type": "code",
   "execution_count": null,
   "metadata": {},
   "outputs": [],
   "source": [
    "def bereken_factuurpiek(data):\n",
    "    \"\"\"\n",
    "    Bereken de factuurpiek per gebruiker per maand op basis van maandpieken.\n",
    "    \n",
    "    Parameters:\n",
    "        data (DataFrame): Een DataFrame met de kolommen 'UserKey', 'Jaar', 'Maand' en 'MonthPeek'.\n",
    "    \n",
    "    Returns:\n",
    "        DataFrame: Het oorspronkelijke DataFrame met een extra kolom 'FactuurPiek'.\n",
    "    \"\"\"\n",
    "    # Sorteren op UserKey, Jaar en Maand\n",
    "    data = data.sort_values(by=[\"UserKey\", \"Jaar\", \"Maand\"])\n",
    "\n",
    "    # Berekening van de factuurpiek als gemiddelde van de laatste 12 maanden\n",
    "    data[\"FactuurPiek\"] = data.groupby(\"UserKey\")[\"MonthPeek\"].rolling(window=12, min_periods=1).mean().reset_index(0, drop=True)\n",
    "\n",
    "    return data\n",
    "\n",
    "# Functie toepassen\n",
    "df_factuurpiek = bereken_factuurpiek(df)\n",
    "\n",
    "# Bekijk de eerste resultaten\n",
    "print(df_factuurpiek.head(15))\n"
   ]
  },
  {
   "cell_type": "markdown",
   "metadata": {},
   "source": [
    "Toepassen op gebruiker 1303 (April 2024)"
   ]
  },
  {
   "cell_type": "code",
   "execution_count": 10,
   "metadata": {},
   "outputs": [
    {
     "name": "stdout",
     "output_type": "stream",
     "text": [
      "Factuurpiek voor gebruiker 1303 in april 2024: [12.7985]\n"
     ]
    }
   ],
   "source": [
    "# Filteren op gebruiker 1303\n",
    "#df_1303 = df_factuurpiek[df_factuurpiek[\"UserKey\"] == 1303]\n",
    "df_1303 = df[df[\"UserKey\"] == 1303]\n",
    "\n",
    "# Factuurpiek van april 2024 ophalen\n",
    "factuurpiek_april_2024 = df_1303[(df_1303[\"Jaar\"] == 2024) & (df_1303[\"Maand\"] == 4)][\"FactuurPiek\"]\n",
    "\n",
    "# Resultaat tonen\n",
    "print(\"Factuurpiek voor gebruiker 1303 in april 2024:\", factuurpiek_april_2024.values)\n"
   ]
  }
 ],
 "metadata": {
  "kernelspec": {
   "display_name": "Python 3",
   "language": "python",
   "name": "python3"
  },
  "language_info": {
   "codemirror_mode": {
    "name": "ipython",
    "version": 3
   },
   "file_extension": ".py",
   "mimetype": "text/x-python",
   "name": "python",
   "nbconvert_exporter": "python",
   "pygments_lexer": "ipython3",
   "version": "3.12.6"
  }
 },
 "nbformat": 4,
 "nbformat_minor": 2
}
