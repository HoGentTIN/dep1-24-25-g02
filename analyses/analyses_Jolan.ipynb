{
 "cells": [
  {
   "cell_type": "markdown",
   "metadata": {},
   "source": [
    "Groep 02 <br>\n",
    "Jolan Grégoire 202399739 <br>\n",
    "Gemaakte analyses:\n",
    "- Gemakkelijk 1\n",
    "- Gemiddeld 3\n",
    "- Gevorderd 1"
   ]
  },
  {
   "cell_type": "code",
   "execution_count": 3,
   "metadata": {},
   "outputs": [],
   "source": [
    "import numpy as np\n",
    "import seaborn as sns\n",
    "import scipy.stats as stats\n",
    "import matplotlib.pyplot as plt\n",
    "import pandas as pd"
   ]
  },
  {
   "cell_type": "code",
   "execution_count": 4,
   "metadata": {},
   "outputs": [],
   "source": [
    "from sqlalchemy import create_engine\n",
    "\n",
    "# Gegevens voor de verbinding\n",
    "server = \"ARES\"  # Servernaam of IP-adres van je SQL Server\n",
    "database = \"DEP1_DWH\"  # Naam van je database\n",
    "\n",
    "# Maak de verbindingsstring met Windows Authenticatie (Integrated Security)\n",
    "engine = create_engine(\"mssql+pyodbc://@{}/{}?driver=ODBC+Driver+17+for+SQL+Server\".format(server, database))"
   ]
  },
  {
   "cell_type": "markdown",
   "metadata": {},
   "source": [
    "<h3>Gemakkelijk 1</h3>"
   ]
  },
  {
   "cell_type": "markdown",
   "metadata": {},
   "source": [
    "DEEL 1"
   ]
  },
  {
   "cell_type": "markdown",
   "metadata": {},
   "source": [
    "-- Stap 1: Voeg de kolom toe aan DimUser"
   ]
  },
  {
   "cell_type": "markdown",
   "metadata": {},
   "source": [
    "``` sql\n",
    "ALTER TABLE DimUser \n",
    "ADD UserType VARCHAR(100);\n",
    "```"
   ]
  },
  {
   "cell_type": "markdown",
   "metadata": {},
   "source": [
    "-- Stap 2: Update de kolom met de juiste waarden <br>"
   ]
  },
  {
   "cell_type": "markdown",
   "metadata": {},
   "source": [
    "``` sql\n",
    "UPDATE DimUser\n",
    "SET UserType = \n",
    "    CASE \n",
    "        WHEN PVInstallationIndicator = 1 AND ElectricVehicleIndicator = 0 AND HeatPumpIndicator = 0 \n",
    "        THEN 'Met zonnepanelen'\n",
    "        WHEN PVInstallationIndicator = 0 AND ElectricVehicleIndicator = 0 AND HeatPumpIndicator = 0 \n",
    "        THEN 'Zonder zonnepanelen'\n",
    "        WHEN PVInstallationIndicator = 1 AND ElectricVehicleIndicator = 0 AND HeatPumpIndicator = 1 \n",
    "        THEN 'Met warmtepomp en met zonnepanelen'\n",
    "        WHEN PVInstallationIndicator = 1 AND ElectricVehicleIndicator = 1 AND HeatPumpIndicator = 0 \n",
    "        THEN 'Met zonnepanelen en een thuisopladend elektrisch voertuig'\n",
    "        WHEN PVInstallationIndicator = 0 AND ElectricVehicleIndicator = 1 AND HeatPumpIndicator = 0 \n",
    "        THEN 'Zonder zonnepanelen en met een thuisopladend elektrisch voertuig'\n",
    "    END;\n",
    "```"
   ]
  },
  {
   "cell_type": "markdown",
   "metadata": {},
   "source": [
    "controle:\n",
    "``` sql\n",
    "SELECT UserType, COUNT(*) \n",
    "FROM DimUser \n",
    "GROUP BY UserType;\n",
    "```"
   ]
  },
  {
   "cell_type": "code",
   "execution_count": 5,
   "metadata": {},
   "outputs": [
    {
     "data": {
      "text/html": [
       "<div>\n",
       "<style scoped>\n",
       "    .dataframe tbody tr th:only-of-type {\n",
       "        vertical-align: middle;\n",
       "    }\n",
       "\n",
       "    .dataframe tbody tr th {\n",
       "        vertical-align: top;\n",
       "    }\n",
       "\n",
       "    .dataframe thead th {\n",
       "        text-align: right;\n",
       "    }\n",
       "</style>\n",
       "<table border=\"1\" class=\"dataframe\">\n",
       "  <thead>\n",
       "    <tr style=\"text-align: right;\">\n",
       "      <th></th>\n",
       "      <th>UserType</th>\n",
       "      <th>NumberOfUsers</th>\n",
       "    </tr>\n",
       "  </thead>\n",
       "  <tbody>\n",
       "    <tr>\n",
       "      <th>0</th>\n",
       "      <td>Met zonnepanelen</td>\n",
       "      <td>300</td>\n",
       "    </tr>\n",
       "    <tr>\n",
       "      <th>1</th>\n",
       "      <td>Met warmtepomp en met zonnepanelen</td>\n",
       "      <td>300</td>\n",
       "    </tr>\n",
       "    <tr>\n",
       "      <th>2</th>\n",
       "      <td>Met zonnepanelen en een thuisopladend elektris...</td>\n",
       "      <td>300</td>\n",
       "    </tr>\n",
       "    <tr>\n",
       "      <th>3</th>\n",
       "      <td>Zonder zonnepanelen</td>\n",
       "      <td>300</td>\n",
       "    </tr>\n",
       "    <tr>\n",
       "      <th>4</th>\n",
       "      <td>Zonder zonnepanelen en met een thuisopladend e...</td>\n",
       "      <td>100</td>\n",
       "    </tr>\n",
       "  </tbody>\n",
       "</table>\n",
       "</div>"
      ],
      "text/plain": [
       "                                            UserType  NumberOfUsers\n",
       "0                                   Met zonnepanelen            300\n",
       "1                 Met warmtepomp en met zonnepanelen            300\n",
       "2  Met zonnepanelen en een thuisopladend elektris...            300\n",
       "3                                Zonder zonnepanelen            300\n",
       "4  Zonder zonnepanelen en met een thuisopladend e...            100"
      ]
     },
     "execution_count": 5,
     "metadata": {},
     "output_type": "execute_result"
    }
   ],
   "source": [
    "sql = \"SELECT UserType, COUNT(UserKey) AS NumberOfUsers FROM DimUser GROUP BY UserType\"\n",
    "df = pd.read_sql(sql, con=engine)\n",
    "df.head()"
   ]
  },
  {
   "cell_type": "code",
   "execution_count": 6,
   "metadata": {},
   "outputs": [
    {
     "data": {
      "text/plain": [
       "<Axes: xlabel='UserType', ylabel='NumberOfUsers'>"
      ]
     },
     "execution_count": 6,
     "metadata": {},
     "output_type": "execute_result"
    },
    {
     "data": {
      "image/png": "[encoded data removed]",
      "text/plain": [
       "<Figure size 640x480 with 1 Axes>"
      ]
     },
     "metadata": {},
     "output_type": "display_data"
    }
   ],
   "source": [
    "sns.barplot(x=\"UserType\", y=\"NumberOfUsers\", data=df)"
   ]
  },
  {
   "cell_type": "markdown",
   "metadata": {},
   "source": [
    "DEEL 2"
   ]
  },
  {
   "cell_type": "markdown",
   "metadata": {},
   "source": []
  },
  {
   "cell_type": "markdown",
   "metadata": {},
   "source": [
    "<h3>Gemiddeld 3</h3>"
   ]
  },
  {
   "cell_type": "code",
   "execution_count": 13,
   "metadata": {},
   "outputs": [
    {
     "name": "stdout",
     "output_type": "stream",
     "text": [
      "   Season  ConsumptionVolume_kWh\n",
      "0  Autumn              332355.14\n",
      "1  Spring              313286.24\n",
      "2  Summer              253664.81\n",
      "3  Winter              505424.84\n"
     ]
    }
   ],
   "source": [
    "query = '''\n",
    "SELECT fe.DateKey, fe.ConsumptionVolume_kWh\n",
    "FROM FactEnergyUsage fe\n",
    "JOIN DimUser u ON fe.UserKey = u.UserKey\n",
    "WHERE u.UserType = 'Zonder zonnepanelen'\n",
    "'''\n",
    "#AND fe.DateKey BETWEEN 20240101 AND 20241231\n",
    "\n",
    "df = pd.read_sql(query, con=engine)\n",
    "\n",
    "df['DateKey'] = pd.to_datetime(df['DateKey'], format='%Y%m%d')\n",
    "df['Month'] = df['DateKey'].dt.month\n",
    "\n",
    "season_mapping = {\n",
    "    12: 'Winter', 1: 'Winter', 2: 'Winter',\n",
    "    3: 'Spring', 4: 'Spring', 5: 'Spring',\n",
    "    6: 'Summer', 7: 'Summer', 8: 'Summer',\n",
    "    9: 'Autumn', 10: 'Autumn', 11: 'Autumn'\n",
    "}\n",
    "\n",
    "df['Season'] = df['Month'].map(season_mapping)\n",
    "seasonal_consumption = df.groupby('Season')['ConsumptionVolume_kWh'].sum().reset_index()\n",
    "\n",
    "print(seasonal_consumption)"
   ]
  },
  {
   "cell_type": "code",
   "execution_count": 14,
   "metadata": {},
   "outputs": [
    {
     "data": {
      "image/png": "[encoded data removed]",
      "text/plain": [
       "<Figure size 800x500 with 1 Axes>"
      ]
     },
     "metadata": {},
     "output_type": "display_data"
    },
    {
     "name": "stdout",
     "output_type": "stream",
     "text": [
      "   Season  ConsumptionVolume_kWh\n",
      "1  Spring              313286.24\n",
      "2  Summer              253664.81\n",
      "0  Autumn              332355.14\n",
      "3  Winter              505424.84\n"
     ]
    }
   ],
   "source": [
    "season_order = ['Spring', 'Summer', 'Autumn', 'Winter']\n",
    "seasonal_consumption['Season'] = pd.Categorical(seasonal_consumption['Season'], categories=season_order, ordered=True)\n",
    "seasonal_consumption = seasonal_consumption.sort_values('Season')\n",
    "\n",
    "# Barplot maken\n",
    "plt.figure(figsize=(8, 5))\n",
    "plt.bar(seasonal_consumption['Season'], seasonal_consumption['ConsumptionVolume_kWh'], color=['green', 'yellow', 'orange', 'blue'])\n",
    "plt.xlabel('Season')\n",
    "plt.ylabel('Total Consumption (kWh)')\n",
    "plt.title('Energy Consumption per Season in 2024')\n",
    "plt.show()\n",
    "\n",
    "print(seasonal_consumption)"
   ]
  },
  {
   "cell_type": "markdown",
   "metadata": {},
   "source": [
    "<h3>Gevorderd 1</h3>"
   ]
  }
 ],
 "metadata": {
  "kernelspec": {
   "display_name": "Python 3",
   "language": "python",
   "name": "python3"
  },
  "language_info": {
   "codemirror_mode": {
    "name": "ipython",
    "version": 3
   },
   "file_extension": ".py",
   "mimetype": "text/x-python",
   "name": "python",
   "nbconvert_exporter": "python",
   "pygments_lexer": "ipython3",
   "version": "3.12.6"
  }
 },
 "nbformat": 4,
 "nbformat_minor": 2
}
