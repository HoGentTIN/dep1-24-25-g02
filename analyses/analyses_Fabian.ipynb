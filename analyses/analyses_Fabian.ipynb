{
 "cells": [
  {
   "cell_type": "markdown",
   "metadata": {},
   "source": [
    "# Analyses Fabian Sanchez\n",
    "Studentennr: 202187874\n",
    "\n",
    "Groep: 2 VC\n"
   ]
  },
  {
   "cell_type": "markdown",
   "metadata": {},
   "source": [
    "### Prerequisites"
   ]
  },
  {
   "cell_type": "code",
   "execution_count": 161,
   "metadata": {},
   "outputs": [
    {
     "name": "stdout",
     "output_type": "stream",
     "text": [
      "Defaulting to user installation because normal site-packages is not writeable\n",
      "Requirement already satisfied: pandasql in c:\\users\\sfsan\\appdata\\local\\packages\\pythonsoftwarefoundation.python.3.13_qbz5n2kfra8p0\\localcache\\local-packages\\python313\\site-packages (0.7.3)\n",
      "Requirement already satisfied: numpy in c:\\users\\sfsan\\appdata\\local\\packages\\pythonsoftwarefoundation.python.3.13_qbz5n2kfra8p0\\localcache\\local-packages\\python313\\site-packages (from pandasql) (2.2.3)\n",
      "Requirement already satisfied: pandas in c:\\users\\sfsan\\appdata\\local\\packages\\pythonsoftwarefoundation.python.3.13_qbz5n2kfra8p0\\localcache\\local-packages\\python313\\site-packages (from pandasql) (2.2.3)\n",
      "Requirement already satisfied: sqlalchemy in c:\\users\\sfsan\\appdata\\local\\packages\\pythonsoftwarefoundation.python.3.13_qbz5n2kfra8p0\\localcache\\local-packages\\python313\\site-packages (from pandasql) (2.0.39)\n",
      "Requirement already satisfied: python-dateutil>=2.8.2 in c:\\users\\sfsan\\appdata\\local\\packages\\pythonsoftwarefoundation.python.3.13_qbz5n2kfra8p0\\localcache\\local-packages\\python313\\site-packages (from pandas->pandasql) (2.9.0.post0)\n",
      "Requirement already satisfied: pytz>=2020.1 in c:\\users\\sfsan\\appdata\\local\\packages\\pythonsoftwarefoundation.python.3.13_qbz5n2kfra8p0\\localcache\\local-packages\\python313\\site-packages (from pandas->pandasql) (2025.1)\n",
      "Requirement already satisfied: tzdata>=2022.7 in c:\\users\\sfsan\\appdata\\local\\packages\\pythonsoftwarefoundation.python.3.13_qbz5n2kfra8p0\\localcache\\local-packages\\python313\\site-packages (from pandas->pandasql) (2025.1)\n",
      "Requirement already satisfied: greenlet!=0.4.17 in c:\\users\\sfsan\\appdata\\local\\packages\\pythonsoftwarefoundation.python.3.13_qbz5n2kfra8p0\\localcache\\local-packages\\python313\\site-packages (from sqlalchemy->pandasql) (3.1.1)\n",
      "Requirement already satisfied: typing-extensions>=4.6.0 in c:\\users\\sfsan\\appdata\\local\\packages\\pythonsoftwarefoundation.python.3.13_qbz5n2kfra8p0\\localcache\\local-packages\\python313\\site-packages (from sqlalchemy->pandasql) (4.12.2)\n",
      "Requirement already satisfied: six>=1.5 in c:\\users\\sfsan\\appdata\\local\\packages\\pythonsoftwarefoundation.python.3.13_qbz5n2kfra8p0\\localcache\\local-packages\\python313\\site-packages (from python-dateutil>=2.8.2->pandas->pandasql) (1.17.0)\n",
      "Note: you may need to restart the kernel to use updated packages.\n"
     ]
    },
    {
     "name": "stderr",
     "output_type": "stream",
     "text": [
      "\n",
      "[notice] A new release of pip is available: 24.3.1 -> 25.0.1\n",
      "[notice] To update, run: C:\\Users\\sfsan\\AppData\\Local\\Microsoft\\WindowsApps\\PythonSoftwareFoundation.Python.3.13_qbz5n2kfra8p0\\python.exe -m pip install --upgrade pip\n"
     ]
    }
   ],
   "source": [
    "pip install pandasql"
   ]
  },
  {
   "cell_type": "code",
   "execution_count": 162,
   "metadata": {},
   "outputs": [],
   "source": [
    "import pandas as pd\n",
    "import numpy as np\n",
    "from pandasql import sqldf\n",
    "import matplotlib.pyplot as plt\n",
    "from sklearn.metrics import root_mean_squared_error, mean_absolute_percentage_error\n",
    "\n",
    "from sqlalchemy import create_engine"
   ]
  },
  {
   "cell_type": "code",
   "execution_count": 163,
   "metadata": {},
   "outputs": [],
   "source": [
    "# verbinding\n",
    "server = r\"DESKTOP-1DRSSG0\\SQLEXPRESS\" \n",
    "database = \"DEP1_DWH\"\n",
    "\n",
    "engine = create_engine(\"mssql+pyodbc://@{}/{}?driver=ODBC+Driver+17+for+SQL+Server\".format(server, database))"
   ]
  },
  {
   "cell_type": "markdown",
   "metadata": {},
   "source": [
    "## Gemakkelijk 2\n",
    "\n",
    "### Opdracht\n",
    "\n",
    "We beschikken voor de dataset van 1300 residentiële gebruikers jammer genoeg niet over de\n",
    "overeenkomstige piekverbruiken.\n",
    "Daarom zullen we als benadering voor de maandpiek het volgende gebruiken, namelijk het maximum\n",
    "verbruik voor één kwartier per maand * 4.\n",
    "We willen verifiëren of dat wel een goede benadering is.\n",
    "\n",
    "Maak gebruik van de 2 bijhorende bestanden (van gebruiker 1301) om te controleren of deze aanpak\n",
    "wel een goede benadering is. Je moet de data van gebruiker 1301 niet toevoegen aan de DWH.\n",
    "Bepaal zelf welke metriek je hierbij best kan gebruiken. Denk daarbij aan de metrieken die aan bod\n",
    "komen in ML"
   ]
  },
  {
   "cell_type": "markdown",
   "metadata": {},
   "source": [
    "### Preprocess piekvermogens"
   ]
  },
  {
   "cell_type": "code",
   "execution_count": null,
   "metadata": {},
   "outputs": [],
   "source": [
    "historiek_piekvermogen_1301 = pd.read_csv(\"../data/input/Sprint2/Historiek_piekvermogen_elektriciteit_1301_20240201_20250331.csv\", sep=\";\")\n",
    "historiek_piekvermogen_1301.drop(columns=[\"Van (tijdstip)\", \"Tot (tijdstip)\", \"Meter\", \"Validatiestatus\", \"Omschrijving\"], inplace=True)\n",
    "historiek_piekvermogen_1301.head()\n"
   ]
  },
  {
   "cell_type": "code",
   "execution_count": null,
   "metadata": {},
   "outputs": [],
   "source": [
    "historiek_piekvermogen_1301['Volume'] = historiek_piekvermogen_1301['Volume'].str.replace(\",\", \".\")\n",
    "\n",
    "historiek_piekvermogen_1301['Volume'] = historiek_piekvermogen_1301['Volume'].astype(float)\n",
    "\n",
    "historiek_piekvermogen_1301[\"Van (datum)\"] = pd.to_datetime(historiek_piekvermogen_1301[\"Van (datum)\"], format='%d-%m-%Y')\n",
    "\n",
    "historiek_piekvermogen_1301.head()"
   ]
  },
  {
   "cell_type": "code",
   "execution_count": null,
   "metadata": {},
   "outputs": [],
   "source": [
    "historiek_piekvermogen_1301 = sqldf('''\n",
    "                                    select Volume as MaandPiek,\n",
    "                                        strftime('%Y-%m', \"Van (datum)\") as maand\n",
    "                                    from historiek_piekvermogen_1301   \n",
    "                                  ''')\n",
    "\n",
    "historiek_piekvermogen_1301.head(10)"
   ]
  },
  {
   "cell_type": "code",
   "execution_count": null,
   "metadata": {},
   "outputs": [],
   "source": [
    "historiek_piekvermogen_1301.head(25)"
   ]
  },
  {
   "cell_type": "markdown",
   "metadata": {},
   "source": [
    "### Preprocess verbruikshistoriek"
   ]
  },
  {
   "cell_type": "code",
   "execution_count": null,
   "metadata": {},
   "outputs": [],
   "source": [
    "verbruikshistoriek_1301 = pd.read_csv(\"../data/input/Sprint2/Verbruikshistoriek_elektriciteit_1301_20240513_20250303_kwartiertotalen.csv\", sep=\";\")\n",
    "\n",
    "verbruikshistoriek_1301.head()"
   ]
  },
  {
   "cell_type": "code",
   "execution_count": null,
   "metadata": {},
   "outputs": [],
   "source": [
    "verbruikshistoriek_1301[\"Van (datum)\"] = pd.to_datetime(verbruikshistoriek_1301[\"Van (datum)\"], format='%d-%m-%Y')\n",
    "verbruikshistoriek_1301.head(20)"
   ]
  },
  {
   "cell_type": "code",
   "execution_count": null,
   "metadata": {},
   "outputs": [],
   "source": [
    "verbruikshistoriek_1301 = sqldf('''\n",
    "                                    select max(Volume) as max_volume,\n",
    "                                          strftime('%Y-%m', \"Van (datum)\") as maand \n",
    "                                   from verbruikshistoriek_1301\n",
    "                                   where Register like 'Afname%'\n",
    "                                   group by maand\n",
    "                                   order by maand\n",
    "                                '''    )"
   ]
  },
  {
   "cell_type": "code",
   "execution_count": null,
   "metadata": {},
   "outputs": [],
   "source": [
    "verbruikshistoriek_1301.head(10)    "
   ]
  },
  {
   "cell_type": "code",
   "execution_count": null,
   "metadata": {},
   "outputs": [],
   "source": [
    "verbruikshistoriek_1301['max_volume'] = verbruikshistoriek_1301['max_volume'].str.replace(\",\", \".\")\n",
    "\n",
    "verbruikshistoriek_1301['max_volume'] = verbruikshistoriek_1301['max_volume'].astype(float) * 4"
   ]
  },
  {
   "cell_type": "code",
   "execution_count": null,
   "metadata": {},
   "outputs": [],
   "source": [
    "verbruikshistoriek_1301.drop(labels=[10], inplace=True)"
   ]
  },
  {
   "cell_type": "code",
   "execution_count": null,
   "metadata": {},
   "outputs": [],
   "source": [
    "\n",
    "verbruikshistoriek_1301.head(15)"
   ]
  },
  {
   "cell_type": "markdown",
   "metadata": {},
   "source": [
    "### Merge"
   ]
  },
  {
   "cell_type": "code",
   "execution_count": null,
   "metadata": {},
   "outputs": [],
   "source": [
    "\n",
    "df_vergelijking = pd.merge(historiek_piekvermogen_1301, verbruikshistoriek_1301, on='maand')\n",
    "df_vergelijking = df_vergelijking.rename(columns={'max_volume': 'MaxVolume', 'maand': 'Maand'})\n",
    "df_vergelijking = df_vergelijking[['Maand', 'MaandPiek', 'MaxVolume']]\n",
    "df_vergelijking.head(15)"
   ]
  },
  {
   "cell_type": "markdown",
   "metadata": {},
   "source": [
    "### Visuele voorstelling"
   ]
  },
  {
   "cell_type": "code",
   "execution_count": null,
   "metadata": {},
   "outputs": [],
   "source": [
    "x = np.arange(len(df_vergelijking))\n",
    "\n",
    "plt.figure(figsize=(15, 7))\n",
    "plt.bar(x - 0.2, df_vergelijking['MaandPiek'], width=0.4, label='MaandPiek')\n",
    "plt.bar(x + 0.2, df_vergelijking['MaxVolume'], width=0.4, label='MaxVolume')\n",
    "\n",
    "plt.xticks(x, df_vergelijking['Maand'], rotation=20)\n",
    "plt.legend()\n",
    "plt.show()\n"
   ]
  },
  {
   "cell_type": "markdown",
   "metadata": {},
   "source": [
    "### Statistische metrieken"
   ]
  },
  {
   "cell_type": "code",
   "execution_count": null,
   "metadata": {},
   "outputs": [],
   "source": [
    "waarnemingen = df_vergelijking['MaandPiek']\n",
    "voorspellingen = df_vergelijking['MaxVolume']\n",
    "\n",
    "rmse = root_mean_squared_error(waarnemingen, voorspellingen)\n",
    "mape = mean_absolute_percentage_error(waarnemingen, voorspellingen)\n",
    "\n",
    "print(\"RMSE:\",rmse)\n",
    "print(\"MAPE:\",mape)"
   ]
  },
  {
   "cell_type": "markdown",
   "metadata": {},
   "source": [
    "### Conclusie\n",
    "\n",
    "Het is aan de hand van zowel de histogram als de RMSE en MAPE waarden duidelijk dat de voorspellingen van de piekvermogen zeer goed zijn."
   ]
  }
 ],
 "metadata": {
  "kernelspec": {
   "display_name": "Python 3",
   "language": "python",
   "name": "python3"
  },
  "language_info": {
   "codemirror_mode": {
    "name": "ipython",
    "version": 3
   },
   "file_extension": ".py",
   "mimetype": "text/x-python",
   "name": "python",
   "nbconvert_exporter": "python",
   "pygments_lexer": "ipython3",
   "version": "3.13.2"
  }
 },
 "nbformat": 4,
 "nbformat_minor": 2
}
