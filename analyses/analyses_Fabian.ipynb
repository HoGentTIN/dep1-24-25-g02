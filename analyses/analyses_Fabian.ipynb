{
 "cells": [
  {
   "cell_type": "markdown",
   "metadata": {},
   "source": [
    "### Analyses Fabian Sanchez\n",
    "St nr: 202187874\n",
    "\n",
    "Groep: 2 VC\n"
   ]
  },
  {
   "cell_type": "markdown",
   "metadata": {},
   "source": [
    "### Gemakkelijk 2\n",
    "\n",
    "We beschikken voor de dataset van 1300 residentiële gebruikers jammer genoeg niet over de\n",
    "overeenkomstige piekverbruiken.\n",
    "Daarom zullen we als benadering voor de maandpiek het volgende gebruiken, namelijk het maximum\n",
    "verbruik voor één kwartier per maand * 4.\n",
    "We willen verifiëren of dat wel een goede benadering is.\n",
    "\n",
    "Maak gebruik van de 2 bijhorende bestanden (van gebruiker 1301) om te controleren of deze aanpak\n",
    "wel een goede benadering is. Je moet de data van gebruiker 1301 niet toevoegen aan de DWH.\n",
    "Bepaal zelf welke metriek je hierbij best kan gebruiken. Denk daarbij aan de metrieken die aan bod\n",
    "komen in ML"
   ]
  }
 ],
 "metadata": {
  "language_info": {
   "name": "python"
  }
 },
 "nbformat": 4,
 "nbformat_minor": 2
}
