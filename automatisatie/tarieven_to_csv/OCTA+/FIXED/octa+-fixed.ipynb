{
 "cells": [
  {
   "cell_type": "code",
   "execution_count": 35,
   "id": "initial_id",
   "metadata": {
    "collapsed": true,
    "ExecuteTime": {
     "end_time": "2025-03-25T16:16:47.854069700Z",
     "start_time": "2025-03-25T16:16:47.817969100Z"
    }
   },
   "outputs": [],
   "source": [
    "import re\n",
    "import camelot\n",
    "import os\n",
    "import csv\n",
    "import pdfplumber\n",
    "import re"
   ]
  },
  {
   "cell_type": "code",
   "execution_count": 36,
   "outputs": [],
   "source": [
    "file_path = \"./octa+-fixed-2023-08.pdf\""
   ],
   "metadata": {
    "collapsed": false,
    "ExecuteTime": {
     "end_time": "2025-03-25T16:16:47.855656100Z",
     "start_time": "2025-03-25T16:16:47.824412300Z"
    }
   },
   "id": "b7dd209f09a15d64"
  },
  {
   "cell_type": "code",
   "execution_count": 37,
   "outputs": [],
   "source": [
    "csv_file = \"octaplus_fixed.csv\""
   ],
   "metadata": {
    "collapsed": false,
    "ExecuteTime": {
     "end_time": "2025-03-25T16:16:47.884292Z",
     "start_time": "2025-03-25T16:16:47.831084Z"
    }
   },
   "id": "63d7331bead3fe9e"
  },
  {
   "cell_type": "code",
   "execution_count": 38,
   "outputs": [],
   "source": [
    "contract_key = \"OCTAPLUS_ECOCLEAR\""
   ],
   "metadata": {
    "collapsed": false,
    "ExecuteTime": {
     "end_time": "2025-03-25T16:16:47.884292Z",
     "start_time": "2025-03-25T16:16:47.835734500Z"
    }
   },
   "id": "37b4660c41db4cab"
  },
  {
   "cell_type": "code",
   "execution_count": 39,
   "outputs": [],
   "source": [
    "data = dict()"
   ],
   "metadata": {
    "collapsed": false,
    "ExecuteTime": {
     "end_time": "2025-03-25T16:16:47.884292Z",
     "start_time": "2025-03-25T16:16:47.842753100Z"
    }
   },
   "id": "c57dbb9e3c71465e"
  },
  {
   "cell_type": "code",
   "execution_count": 40,
   "outputs": [
    {
     "name": "stderr",
     "output_type": "stream",
     "text": [
      "Overwriting cache for 0 401\n",
      "Overwriting cache for 0 401\n",
      "Overwriting cache for 0 401\n"
     ]
    },
    {
     "name": "stdout",
     "output_type": "stream",
     "text": [
      "Warning: Bounding box (86.84496721961912, 217.67999999999998, 502.47738814993954, 824.0999999999999) not found in table_bbox_parses.\n",
      "Warning: Bounding box (86.84496721961912, 217.67999999999998, 502.47738814993954, 824.0999999999999) not found in table_bbox_parses.\n"
     ]
    }
   ],
   "source": [
    "tables = camelot.read_pdf(file_path, pages=\"all\", flavor=\"hybrid\")"
   ],
   "metadata": {
    "collapsed": false,
    "ExecuteTime": {
     "end_time": "2025-03-25T16:16:48.988621900Z",
     "start_time": "2025-03-25T16:16:47.846134400Z"
    }
   },
   "id": "7d03efdd6210c4e6"
  },
  {
   "cell_type": "code",
   "execution_count": 41,
   "outputs": [],
   "source": [
    "for i, table in enumerate(tables):\n",
    "    df = table.df\n",
    "    if df.isin([\"Vaste vergoeding (€/jaar)\"]).any().any():\n",
    "        fixed_fee_row = df.index[df.isin([\"Vaste vergoeding (€/jaar)\"]).any(axis=1)][0]\n",
    "        number = re.findall(r'-?\\d+,\\d+', df.loc[fixed_fee_row][1])[0].replace(\",\", '.')\n",
    "        data['AdministrativeCosts'] = float(number)"
   ],
   "metadata": {
    "collapsed": false,
    "ExecuteTime": {
     "end_time": "2025-03-25T16:16:48.993489200Z",
     "start_time": "2025-03-25T16:16:48.986392Z"
    }
   },
   "id": "1bd65d90e7dfbd25"
  },
  {
   "cell_type": "code",
   "execution_count": 42,
   "outputs": [],
   "source": [
    "for i, table in enumerate(tables):\n",
    "    df = table.df\n",
    "    if df.isin([\"Enkelvoudige meter\"]).any().any():\n",
    "        fixed_fee_row = df.index[df.isin([\"Enkelvoudige meter\"]).any(axis=1)][0]\n",
    "        data[\"SingleMeterFixed\"] = df.loc[fixed_fee_row][1]\n",
    "    if df.isin([\"Piekuren\"]).any().any():\n",
    "        fixed_fee_row = df.index[df.isin([\"Piekuren\"]).any(axis=1)][0]\n",
    "        data[\"DualMeterDayFixed\"] = df.loc[fixed_fee_row][1]\n",
    "    if df.isin([\"Daluren\"]).any().any():\n",
    "        fixed_fee_row = df.index[df.isin([\"Daluren\"]).any(axis=1)][0]\n",
    "        data[\"DualMeterNightFixed\"] = df.loc[fixed_fee_row][1]\n",
    "    if df.isin([\"Uitsluitend nachtmeter\"]).any().any():\n",
    "        fixed_fee_row = df.index[df.isin([\"Uitsluitend nachtmeter\"]).any(axis=1)][0]\n",
    "        data[\"ExclusiveNightMeterFixed\"] = df.loc[fixed_fee_row][1]"
   ],
   "metadata": {
    "collapsed": false,
    "ExecuteTime": {
     "end_time": "2025-03-25T16:16:49.001846600Z",
     "start_time": "2025-03-25T16:16:48.991834800Z"
    }
   },
   "id": "43983abb8aac9dab"
  },
  {
   "cell_type": "code",
   "execution_count": 43,
   "outputs": [],
   "source": [
    "flatten = lambda *n: (e for a in n for e in (flatten(*a) if isinstance(a, (tuple, list)) else (a,)))"
   ],
   "metadata": {
    "collapsed": false,
    "ExecuteTime": {
     "end_time": "2025-03-25T16:16:49.007635400Z",
     "start_time": "2025-03-25T16:16:49.003358400Z"
    }
   },
   "id": "47862da8ec48398a"
  },
  {
   "cell_type": "code",
   "execution_count": 44,
   "outputs": [],
   "source": [
    "with pdfplumber.open(file_path) as pdf:\n",
    "    tables = []\n",
    "    for page in pdf.pages:\n",
    "        tables.append(tables.append(page.extract_tables()))\n",
    "    cells = list(flatten(tables))"
   ],
   "metadata": {
    "collapsed": false,
    "ExecuteTime": {
     "end_time": "2025-03-25T16:16:49.396950600Z",
     "start_time": "2025-03-25T16:16:49.005981200Z"
    }
   },
   "id": "111ac828d5547a96"
  },
  {
   "cell_type": "code",
   "execution_count": 45,
   "outputs": [],
   "source": [
    "with pdfplumber.open(file_path) as pdf:\n",
    "    for page in pdf.pages:\n",
    "        if \"Kosten WKK\" in page.extract_text():\n",
    "            for line in page.extract_text().split(\"\\n\"):\n",
    "                if \"Kosten groene stroom \" in line:\n",
    "                    numbers = re.findall(r'-?\\d+,\\d+', line)\n",
    "                    numbers = [float(num.replace(',', '.')) for num in numbers]\n",
    "                    data['GreenElectricity']= numbers[-1]\n",
    "                if \"Kosten WKK\" in line:\n",
    "                    numbers = re.findall(r'-?\\d+,\\d+', line)\n",
    "                    numbers = [float(num.replace(',', '.')) for num in numbers]\n",
    "                    data['WKK'] = numbers[-1]"
   ],
   "metadata": {
    "collapsed": false,
    "ExecuteTime": {
     "end_time": "2025-03-25T16:16:49.830403500Z",
     "start_time": "2025-03-25T16:16:49.398965900Z"
    }
   },
   "id": "1a542d93f2b553aa"
  },
  {
   "cell_type": "code",
   "execution_count": 46,
   "outputs": [
    {
     "data": {
      "text/plain": "{'AdministrativeCosts': 65.0,\n 'SingleMeterFixed': '20,50',\n 'DualMeterDayFixed': '22,53',\n 'DualMeterNightFixed': '18,50',\n 'ExclusiveNightMeterFixed': '18,88',\n 'GreenElectricity': 2.279,\n 'WKK': 0.344}"
     },
     "execution_count": 46,
     "metadata": {},
     "output_type": "execute_result"
    }
   ],
   "source": [
    "data"
   ],
   "metadata": {
    "collapsed": false,
    "ExecuteTime": {
     "end_time": "2025-03-25T16:16:49.835692300Z",
     "start_time": "2025-03-25T16:16:49.830403500Z"
    }
   },
   "id": "dc126027de1ca036"
  },
  {
   "cell_type": "code",
   "execution_count": 47,
   "outputs": [],
   "source": [
    "year, month = re.search(r'(\\d{4})-(\\d{2})', file_path).groups()\n",
    "date_key = f\"{year}{month}01\"  "
   ],
   "metadata": {
    "collapsed": false,
    "ExecuteTime": {
     "end_time": "2025-03-25T16:16:49.842032100Z",
     "start_time": "2025-03-25T16:16:49.837345300Z"
    }
   },
   "id": "148887bd2b69e48b"
  },
  {
   "cell_type": "code",
   "execution_count": 48,
   "outputs": [],
   "source": [
    "data[\"SingleMeterInjectionMeterFactor\"] = data[\"DualMeterDayInjectionMeterFactor\"] = data[\"DualMeterNightInjectionMeterFactor\"] = 0.915\n",
    "data[\"SingleMeterInjectionBalancingCost\"] = data[\"DualMeterDayInjectionBalancingCost\"] = data[\"DualMeterNightInjectionBalancingCost\"] = -19.83"
   ],
   "metadata": {
    "collapsed": false,
    "ExecuteTime": {
     "end_time": "2025-03-25T16:16:49.848240Z",
     "start_time": "2025-03-25T16:16:49.843543900Z"
    }
   },
   "id": "a87a38b9635b8d9b"
  },
  {
   "cell_type": "code",
   "execution_count": 49,
   "outputs": [],
   "source": [
    "file_exists = os.path.isfile(csv_file)"
   ],
   "metadata": {
    "collapsed": false,
    "ExecuteTime": {
     "end_time": "2025-03-25T16:16:49.853942500Z",
     "start_time": "2025-03-25T16:16:49.848240Z"
    }
   },
   "id": "e60f48143278e807"
  },
  {
   "cell_type": "code",
   "execution_count": 50,
   "outputs": [],
   "source": [
    "data = {key: value.replace(',', '.') if isinstance(value, str) else value for key, value in data.items()}"
   ],
   "metadata": {
    "collapsed": false,
    "ExecuteTime": {
     "end_time": "2025-03-25T16:16:49.860199700Z",
     "start_time": "2025-03-25T16:16:49.853942500Z"
    }
   },
   "id": "2ac9be5d27034224"
  },
  {
   "cell_type": "code",
   "execution_count": 51,
   "outputs": [
    {
     "name": "stdout",
     "output_type": "stream",
     "text": [
      "Data for 20230801 successfully written to octaplus_fixed.csv\n"
     ]
    }
   ],
   "source": [
    "with open(csv_file, mode='a', newline='', encoding='utf-8') as file:\n",
    "    writer = csv.writer(file, delimiter=';')\n",
    "    \n",
    "    # Write header only if file doesn't exist\n",
    "    if not file_exists:\n",
    "        header = [\"DateKey\", \"ContractKey\", \"SingleMeterFixed\", \"DualMeterDayFixed\", \n",
    "                  \"DualMeterNightFixed\", \"ExclusiveNightMeterFixed\", \"SingleMeterVariableMeterFactor\", \n",
    "                  \"SingleMeterVariableBalancingCost\", \"DualMeterDayVariableMeterFactor\", \n",
    "                  \"DualMeterDayVariableBalancingCost\", \"DualMeterNightVariableMeterFactor\", \n",
    "                  \"DualMeterNightVariableBalancingCost\", \"ExclusiveNightMeterVariableMeterFactor\", \n",
    "                  \"ExclusiveNightMeterVariableBalancingCost\", \"DynamicMeterCost\", \"DynamicBalancingCost\", \n",
    "                  \"SingleMeterInjectionMeterFactor\", \"SingleMeterInjectionBalancingCost\", \n",
    "                  \"DualMeterDayInjectionMeterFactor\", \"DualMeterDayInjectionBalancingCost\", \n",
    "                  \"DualMeterNightInjectionMeterFactor\", \"DualMeterNightInjectionBalancingCost\", \n",
    "                  \"AdministrativeCosts\", \"GreenElectricity\", \"WKK\"]\n",
    "        writer.writerow(header)\n",
    "    \n",
    "    # Prepare data row in the specified order\n",
    "    row_data = [\n",
    "        date_key,\n",
    "        contract_key,\n",
    "        data.get('SingleMeterFixed', ''),\n",
    "        data.get('DualMeterDayFixed', ''),\n",
    "        data.get('DualMeterNightFixed', ''),\n",
    "        data.get('ExclusiveNightMeterFixed', ''),\n",
    "        data.get('SingleMeterVariableMeterFactor', ''),\n",
    "        data.get('SingleMeterVariableBalancingCost', ''),\n",
    "        data.get('DualMeterDayVariableMeterFactor', ''),\n",
    "        data.get('DualMeterDayVariableBalancingCost', ''),\n",
    "        data.get('DualMeterNightVariableMeterFactor', ''),\n",
    "        data.get('DualMeterNightVariableBalancingCost', ''),\n",
    "        data.get('ExclusiveNightMeterVariableMeterFactor', ''),\n",
    "        data.get('ExclusiveNightMeterVariableBalancingCost', ''),\n",
    "        data.get('DynamicMeterCost', ''),\n",
    "        data.get('DynamicBalancingCost', ''),\n",
    "        data.get('SingleMeterInjectionMeterFactor', ''),\n",
    "        data.get('SingleMeterInjectionBalancingCost', ''),\n",
    "        data.get('DualMeterDayInjectionMeterFactor', ''),\n",
    "        data.get('DualMeterDayInjectionBalancingCost', ''),\n",
    "        data.get('DualMeterNightInjectionMeterFactor', ''),\n",
    "        data.get('DualMeterNightInjectionBalancingCost', ''),\n",
    "        data.get('AdministrativeCosts', ''),\n",
    "        data.get('GreenElectricity', ''),\n",
    "        data.get('WKK', '')\n",
    "    ]\n",
    "\n",
    "    \n",
    "    # Write data row\n",
    "    writer.writerow(row_data)\n",
    "\n",
    "print(f\"Data for {date_key} successfully written to {csv_file}\")"
   ],
   "metadata": {
    "collapsed": false,
    "ExecuteTime": {
     "end_time": "2025-03-25T16:16:49.897639300Z",
     "start_time": "2025-03-25T16:16:49.862210400Z"
    }
   },
   "id": "8f0dcf568db56660"
  }
 ],
 "metadata": {
  "kernelspec": {
   "display_name": "Python 3",
   "language": "python",
   "name": "python3"
  },
  "language_info": {
   "codemirror_mode": {
    "name": "ipython",
    "version": 2
   },
   "file_extension": ".py",
   "mimetype": "text/x-python",
   "name": "python",
   "nbconvert_exporter": "python",
   "pygments_lexer": "ipython2",
   "version": "2.7.6"
  }
 },
 "nbformat": 4,
 "nbformat_minor": 5
}
