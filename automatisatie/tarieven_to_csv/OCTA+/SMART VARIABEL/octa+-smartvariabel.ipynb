{
 "cells": [
  {
   "cell_type": "code",
   "execution_count": 1,
   "id": "initial_id",
   "metadata": {
    "collapsed": true,
    "ExecuteTime": {
     "end_time": "2025-03-25T16:42:07.992952300Z",
     "start_time": "2025-03-25T16:42:07.178185300Z"
    }
   },
   "outputs": [
    {
     "name": "stderr",
     "output_type": "stream",
     "text": [
      "C:\\Users\\jaakd\\PycharmProjects\\dep1-24-25-g02\\venv\\Lib\\site-packages\\pypdf\\_crypt_providers\\_cryptography.py:32: CryptographyDeprecationWarning: ARC4 has been moved to cryptography.hazmat.decrepit.ciphers.algorithms.ARC4 and will be removed from cryptography.hazmat.primitives.ciphers.algorithms in 48.0.0.\n",
      "  from cryptography.hazmat.primitives.ciphers.algorithms import AES, ARC4\n"
     ]
    }
   ],
   "source": [
    "import camelot\n",
    "import os\n",
    "import csv\n",
    "import pdfplumber\n",
    "import re"
   ]
  },
  {
   "cell_type": "code",
   "execution_count": 2,
   "outputs": [],
   "source": [
    "file_path = \"octa+-smart-variabel-2024-08.pdf\""
   ],
   "metadata": {
    "collapsed": false,
    "ExecuteTime": {
     "end_time": "2025-03-25T16:42:07.997315500Z",
     "start_time": "2025-03-25T16:42:07.993583Z"
    }
   },
   "id": "b7dd209f09a15d64"
  },
  {
   "cell_type": "code",
   "execution_count": 3,
   "outputs": [],
   "source": [
    "csv_file = \"octaplus_smartvariabel.csv\""
   ],
   "metadata": {
    "collapsed": false,
    "ExecuteTime": {
     "end_time": "2025-03-25T16:42:08.004026Z",
     "start_time": "2025-03-25T16:42:07.997315500Z"
    }
   },
   "id": "63d7331bead3fe9e"
  },
  {
   "cell_type": "code",
   "execution_count": 4,
   "outputs": [],
   "source": [
    "contract_key = \"OCTAPLUS_SMARTVARIABEL\""
   ],
   "metadata": {
    "collapsed": false,
    "ExecuteTime": {
     "end_time": "2025-03-25T16:42:08.006998600Z",
     "start_time": "2025-03-25T16:42:08.004668400Z"
    }
   },
   "id": "37b4660c41db4cab"
  },
  {
   "cell_type": "code",
   "execution_count": 5,
   "outputs": [],
   "source": [
    "data = dict()"
   ],
   "metadata": {
    "collapsed": false,
    "ExecuteTime": {
     "end_time": "2025-03-25T16:42:08.013839800Z",
     "start_time": "2025-03-25T16:42:08.008727Z"
    }
   },
   "id": "c57dbb9e3c71465e"
  },
  {
   "cell_type": "code",
   "execution_count": 6,
   "outputs": [
    {
     "name": "stderr",
     "output_type": "stream",
     "text": [
      "Overwriting cache for 0 419\n",
      "Overwriting cache for 0 419\n",
      "Overwriting cache for 0 419\n"
     ]
    }
   ],
   "source": [
    "tables = camelot.read_pdf(file_path, pages=\"all\", flavor=\"hybrid\")"
   ],
   "metadata": {
    "collapsed": false,
    "ExecuteTime": {
     "end_time": "2025-03-25T16:42:09.267134800Z",
     "start_time": "2025-03-25T16:42:08.013839800Z"
    }
   },
   "id": "7d03efdd6210c4e6"
  },
  {
   "cell_type": "code",
   "execution_count": 7,
   "outputs": [],
   "source": [
    "for i, table in enumerate(tables):\n",
    "    df = table.df\n",
    "    if df.isin([\"Vaste vergoeding (€/jaar)\"]).any().any():\n",
    "        fixed_fee_row = df.index[df.isin([\"Vaste vergoeding (€/jaar)\"]).any(axis=1)][0]\n",
    "        number = re.findall(r'-?\\d+,\\d+', df.loc[fixed_fee_row][1])[0].replace(\",\", '.')\n",
    "        data['AdministrativeCosts'] = float(number)"
   ],
   "metadata": {
    "collapsed": false,
    "ExecuteTime": {
     "end_time": "2025-03-25T16:42:09.280227Z",
     "start_time": "2025-03-25T16:42:09.270483500Z"
    }
   },
   "id": "1bd65d90e7dfbd25"
  },
  {
   "cell_type": "code",
   "execution_count": 8,
   "outputs": [],
   "source": [
    "for i, table in enumerate(tables):\n",
    "    df = table.df\n",
    "    if df.isin([\"Enkelvoudige meter\"]).any().any():\n",
    "        fixed_fee_row = df.index[df.isin([\"Enkelvoudige meter\"]).any(axis=1)][0]\n",
    "        data[\"SingleMeterFixed\"] = df.loc[fixed_fee_row][1]\n",
    "    if df.isin([\"Piekuren\"]).any().any():\n",
    "        fixed_fee_row = df.index[df.isin([\"Piekuren\"]).any(axis=1)][0]\n",
    "        data[\"DualMeterDayFixed\"] = df.loc[fixed_fee_row][1]\n",
    "    if df.isin([\"Daluren\"]).any().any():\n",
    "        fixed_fee_row = df.index[df.isin([\"Daluren\"]).any(axis=1)][0]\n",
    "        data[\"DualMeterNightFixed\"] = df.loc[fixed_fee_row][1]\n",
    "    if df.isin([\"Uitsluitend nachtmeter\"]).any().any():\n",
    "        fixed_fee_row = df.index[df.isin([\"Uitsluitend nachtmeter\"]).any(axis=1)][0]\n",
    "        data[\"ExclusiveNightMeterFixed\"] = df.loc[fixed_fee_row][1]"
   ],
   "metadata": {
    "collapsed": false,
    "ExecuteTime": {
     "end_time": "2025-03-25T16:42:09.288863800Z",
     "start_time": "2025-03-25T16:42:09.280227Z"
    }
   },
   "id": "43983abb8aac9dab"
  },
  {
   "cell_type": "code",
   "execution_count": 9,
   "outputs": [],
   "source": [
    "flatten = lambda *n: (e for a in n for e in (flatten(*a) if isinstance(a, (tuple, list)) else (a,)))"
   ],
   "metadata": {
    "collapsed": false,
    "ExecuteTime": {
     "end_time": "2025-03-25T16:42:09.296881Z",
     "start_time": "2025-03-25T16:42:09.288863800Z"
    }
   },
   "id": "47862da8ec48398a"
  },
  {
   "cell_type": "code",
   "execution_count": 10,
   "outputs": [],
   "source": [
    "with pdfplumber.open(file_path) as pdf:\n",
    "    tables = []\n",
    "    for page in pdf.pages:\n",
    "        tables.append(tables.append(page.extract_tables()))\n",
    "    cells = list(flatten(tables))"
   ],
   "metadata": {
    "collapsed": false,
    "ExecuteTime": {
     "end_time": "2025-03-25T16:42:09.718399800Z",
     "start_time": "2025-03-25T16:42:09.295345600Z"
    }
   },
   "id": "111ac828d5547a96"
  },
  {
   "cell_type": "code",
   "execution_count": 11,
   "outputs": [],
   "source": [
    "with pdfplumber.open(file_path) as pdf:\n",
    "    for page in pdf.pages:\n",
    "        if \"Kosten WKK\" in page.extract_text():\n",
    "            for line in page.extract_text().split(\"\\n\"):\n",
    "                if \"Kosten groene stroom \" in line:\n",
    "                    numbers = re.findall(r'-?\\d+,\\d+', line)\n",
    "                    numbers = [float(num.replace(',', '.')) for num in numbers]\n",
    "                    data['GreenElectricity']= numbers[-1]\n",
    "                if \"Kosten WKK\" in line:\n",
    "                    numbers = re.findall(r'-?\\d+,\\d+', line)\n",
    "                    numbers = [float(num.replace(',', '.')) for num in numbers]\n",
    "                    data['WKK'] = numbers[-1]"
   ],
   "metadata": {
    "collapsed": false,
    "ExecuteTime": {
     "end_time": "2025-03-25T16:42:10.165143200Z",
     "start_time": "2025-03-25T16:42:09.718399800Z"
    }
   },
   "id": "1a542d93f2b553aa"
  },
  {
   "cell_type": "code",
   "execution_count": 12,
   "outputs": [
    {
     "data": {
      "text/plain": "{'AdministrativeCosts': 65.0,\n 'SingleMeterFixed': '7,78',\n 'ExclusiveNightMeterFixed': '7,26',\n 'GreenElectricity': 1.166,\n 'WKK': 0.43}"
     },
     "execution_count": 12,
     "metadata": {},
     "output_type": "execute_result"
    }
   ],
   "source": [
    "data"
   ],
   "metadata": {
    "collapsed": false,
    "ExecuteTime": {
     "end_time": "2025-03-25T16:42:10.172251800Z",
     "start_time": "2025-03-25T16:42:10.163357Z"
    }
   },
   "id": "dc126027de1ca036"
  },
  {
   "cell_type": "code",
   "execution_count": 13,
   "outputs": [],
   "source": [
    "year, month = re.search(r'(\\d{4})-(\\d{2})', file_path).groups()\n",
    "date_key = f\"{year}{month}01\"  "
   ],
   "metadata": {
    "collapsed": false,
    "ExecuteTime": {
     "end_time": "2025-03-25T16:42:10.177247Z",
     "start_time": "2025-03-25T16:42:10.172251800Z"
    }
   },
   "id": "148887bd2b69e48b"
  },
  {
   "cell_type": "code",
   "execution_count": 14,
   "outputs": [
    {
     "name": "stdout",
     "output_type": "stream",
     "text": [
      "Datekey 20240801 failed, taking default values instead\n"
     ]
    }
   ],
   "source": [
    "with pdfplumber.open(file_path) as pdf:\n",
    "    for page in pdf.pages:\n",
    "        if \"De elektriciteitsprijs voor OCTA+ Smart Variabel wordt maandelijks\" in page.extract_text():\n",
    "            text = page.extract_text().replace(\"\\n\", \" \")\n",
    "            # Afname\n",
    "            data[\"SingleMeterVariableMeterFactor\"], data[\"SingleMeterVariableBalancingCost\"] = re.findall(\n",
    "                r'\\d+(?:,\\d+)?', re.search(r'Enkelvoudige meter :\\s*Belpex RLP \\* [\\d,]+ \\+ [\\d,]+', text).group(0))\n",
    "            data[\"DualMeterDayVariableMeterFactor\"], data[\"DualMeterDayVariableBalancingCost\"] = re.findall(\n",
    "                r'\\d+(?:,\\d+)?',\n",
    "                re.search(r'Tweevoudige meter – Piek :\\s*Belpex RLP \\* [\\d,]+ \\+ [\\d,]+', text).group(0))\n",
    "            data[\"DualMeterNightVariableMeterFactor\"], data[\"DualMeterNightVariableBalancingCost\"] = re.findall(\n",
    "                r'\\d+(?:,\\d+)?',\n",
    "                re.search(r'Tweevoudige meter – Dal :\\s*Belpex RLP \\* [\\d,]+ \\+ [\\d,]+', text).group(0))\n",
    "            data[\"ExclusiveNightMeterVariableMeterFactor\"], data[\n",
    "                \"ExclusiveNightMeterVariableBalancingCost\"] = re.findall(r'\\d+(?:,\\d+)?', re.search(\n",
    "                r'Exclusief Nachtmeter :\\s*Belpex RLP \\* [\\d,]+ \\+ [\\d,]+', text).group(0))\n",
    "\n",
    "            # Injectie\n",
    "            try:\n",
    "                data[\"SingleMeterInjectionMeterFactor\"], data[\"SingleMeterInjectionBalancingCost\"] = re.findall(\n",
    "                        r'\\d+(?:,\\d+)?', re.search(r'enkelvoudig :\\s*Belpex \\* [\\d,]+ \\- [\\d,]+', text).group(0))\n",
    "                data[\"SingleMeterInjectionBalancingCost\"] = -float(\n",
    "                        data[\"SingleMeterInjectionBalancingCost\"].replace(\",\", \".\"))\n",
    "\n",
    "                data[\"DualMeterDayInjectionMeterFactor\"], data[\"DualMeterDayInjectionBalancingCost\"] = re.findall(\n",
    "                        r'\\d+(?:,\\d+)?', re.search(r'tweevoudig/piekuren : Belpex \\* [\\d,]+ \\- [\\d,]+', text).group(0))\n",
    "                data[\"DualMeterDayInjectionBalancingCost\"] = -float(\n",
    "                        data[\"DualMeterDayInjectionBalancingCost\"].replace(\",\", \".\"))\n",
    "\n",
    "                data[\"DualMeterNightInjectionMeterFactor\"], data[\n",
    "                        \"DualMeterNightInjectionBalancingCost\"] = re.findall(r'\\d+(?:,\\d+)?', re.search(\n",
    "                        r'tweevoudig/daluren : Belpex \\* [\\d,]+ \\- [\\d,]+', text).group(0))\n",
    "                data[\"DualMeterNightInjectionBalancingCost\"] = -float(\n",
    "                        data[\"DualMeterNightInjectionBalancingCost\"].replace(\",\", \".\"))\n",
    "            except:\n",
    "                print(f\"Datekey {date_key} failed, taking default values instead\")\n",
    "                data[\"SingleMeterInjectionMeterFactor\"] = data[\"DualMeterDayInjectionMeterFactor\"] = data[\"DualMeterNightInjectionMeterFactor\"] = 0.915\n",
    "                data[\"SingleMeterInjectionBalancingCost\"] = data[\"DualMeterDayInjectionBalancingCost\"] = data[\"DualMeterNightInjectionBalancingCost\"] = -19.83"
   ],
   "metadata": {
    "collapsed": false,
    "ExecuteTime": {
     "end_time": "2025-03-25T16:42:10.596571900Z",
     "start_time": "2025-03-25T16:42:10.180562200Z"
    }
   },
   "id": "a87a38b9635b8d9b"
  },
  {
   "cell_type": "code",
   "execution_count": 15,
   "outputs": [],
   "source": [
    "file_exists = os.path.isfile(csv_file)"
   ],
   "metadata": {
    "collapsed": false,
    "ExecuteTime": {
     "end_time": "2025-03-25T16:42:10.596571900Z",
     "start_time": "2025-03-25T16:42:10.585836200Z"
    }
   },
   "id": "e60f48143278e807"
  },
  {
   "cell_type": "code",
   "execution_count": 16,
   "outputs": [],
   "source": [
    "data = {key: value.replace(',', '.') if isinstance(value, str) else value for key, value in data.items()}"
   ],
   "metadata": {
    "collapsed": false,
    "ExecuteTime": {
     "end_time": "2025-03-25T16:42:10.596571900Z",
     "start_time": "2025-03-25T16:42:10.590866500Z"
    }
   },
   "id": "2ac9be5d27034224"
  },
  {
   "cell_type": "code",
   "execution_count": 17,
   "outputs": [
    {
     "name": "stdout",
     "output_type": "stream",
     "text": [
      "Data for 20240801 successfully written to octaplus_smartvariabel.csv\n"
     ]
    }
   ],
   "source": [
    "with open(csv_file, mode='a', newline='', encoding='utf-8') as file:\n",
    "    writer = csv.writer(file, delimiter=';')\n",
    "    \n",
    "    # Write header only if file doesn't exist\n",
    "    if not file_exists:\n",
    "        header = [\"DateKey\", \"ContractKey\", \"SingleMeterFixed\", \"DualMeterDayFixed\", \n",
    "                  \"DualMeterNightFixed\", \"ExclusiveNightMeterFixed\", \"SingleMeterVariableMeterFactor\", \n",
    "                  \"SingleMeterVariableBalancingCost\", \"DualMeterDayVariableMeterFactor\", \n",
    "                  \"DualMeterDayVariableBalancingCost\", \"DualMeterNightVariableMeterFactor\", \n",
    "                  \"DualMeterNightVariableBalancingCost\", \"ExclusiveNightMeterVariableMeterFactor\", \n",
    "                  \"ExclusiveNightMeterVariableBalancingCost\", \"DynamicMeterCost\", \"DynamicBalancingCost\", \n",
    "                  \"SingleMeterInjectionMeterFactor\", \"SingleMeterInjectionBalancingCost\", \n",
    "                  \"DualMeterDayInjectionMeterFactor\", \"DualMeterDayInjectionBalancingCost\", \n",
    "                  \"DualMeterNightInjectionMeterFactor\", \"DualMeterNightInjectionBalancingCost\", \n",
    "                  \"AdministrativeCosts\", \"GreenElectricity\", \"WKK\"]\n",
    "        writer.writerow(header)\n",
    "    \n",
    "    # Prepare data row in the specified order\n",
    "    row_data = [\n",
    "        date_key,\n",
    "        contract_key,\n",
    "        data.get('SingleMeterFixed', ''),\n",
    "        data.get('DualMeterDayFixed', ''),\n",
    "        data.get('DualMeterNightFixed', ''),\n",
    "        data.get('ExclusiveNightMeterFixed', ''),\n",
    "        data.get('SingleMeterVariableMeterFactor', ''),\n",
    "        data.get('SingleMeterVariableBalancingCost', ''),\n",
    "        data.get('DualMeterDayVariableMeterFactor', ''),\n",
    "        data.get('DualMeterDayVariableBalancingCost', ''),\n",
    "        data.get('DualMeterNightVariableMeterFactor', ''),\n",
    "        data.get('DualMeterNightVariableBalancingCost', ''),\n",
    "        data.get('ExclusiveNightMeterVariableMeterFactor', ''),\n",
    "        data.get('ExclusiveNightMeterVariableBalancingCost', ''),\n",
    "        data.get('DynamicMeterCost', ''),\n",
    "        data.get('DynamicBalancingCost', ''),\n",
    "        data.get('SingleMeterInjectionMeterFactor', ''),\n",
    "        data.get('SingleMeterInjectionBalancingCost', ''),\n",
    "        data.get('DualMeterDayInjectionMeterFactor', ''),\n",
    "        data.get('DualMeterDayInjectionBalancingCost', ''),\n",
    "        data.get('DualMeterNightInjectionMeterFactor', ''),\n",
    "        data.get('DualMeterNightInjectionBalancingCost', ''),\n",
    "        data.get('AdministrativeCosts', ''),\n",
    "        data.get('GreenElectricity', ''),\n",
    "        data.get('WKK', '')\n",
    "    ]\n",
    "\n",
    "    \n",
    "    # Write data row\n",
    "    writer.writerow(row_data)\n",
    "\n",
    "print(f\"Data for {date_key} successfully written to {csv_file}\")"
   ],
   "metadata": {
    "collapsed": false,
    "ExecuteTime": {
     "end_time": "2025-03-25T16:42:10.650581100Z",
     "start_time": "2025-03-25T16:42:10.598548Z"
    }
   },
   "id": "8f0dcf568db56660"
  }
 ],
 "metadata": {
  "kernelspec": {
   "display_name": "Python 3",
   "language": "python",
   "name": "python3"
  },
  "language_info": {
   "codemirror_mode": {
    "name": "ipython",
    "version": 2
   },
   "file_extension": ".py",
   "mimetype": "text/x-python",
   "name": "python",
   "nbconvert_exporter": "python",
   "pygments_lexer": "ipython2",
   "version": "2.7.6"
  }
 },
 "nbformat": 4,
 "nbformat_minor": 5
}
