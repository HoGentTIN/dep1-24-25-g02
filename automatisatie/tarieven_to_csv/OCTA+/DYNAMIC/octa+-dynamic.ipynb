{
 "cells": [
  {
   "cell_type": "code",
   "execution_count": 165,
   "id": "initial_id",
   "metadata": {
    "collapsed": true,
    "ExecuteTime": {
     "end_time": "2025-03-25T14:45:24.966400Z",
     "start_time": "2025-03-25T14:45:24.944513300Z"
    }
   },
   "outputs": [],
   "source": [
    "import re\n",
    "import camelot\n",
    "import os\n",
    "import csv\n",
    "import pdfplumber\n",
    "import re"
   ]
  },
  {
   "cell_type": "code",
   "execution_count": 166,
   "outputs": [],
   "source": [
    "file_path = \"./octa+-dynamic-2023-05.pdf\""
   ],
   "metadata": {
    "collapsed": false,
    "ExecuteTime": {
     "end_time": "2025-03-25T14:45:24.970851300Z",
     "start_time": "2025-03-25T14:45:24.953326300Z"
    }
   },
   "id": "b7dd209f09a15d64"
  },
  {
   "cell_type": "code",
   "execution_count": 167,
   "outputs": [],
   "source": [
    "csv_file = \"octaplus_dynamic.csv\""
   ],
   "metadata": {
    "collapsed": false,
    "ExecuteTime": {
     "end_time": "2025-03-25T14:45:25.006856100Z",
     "start_time": "2025-03-25T14:45:24.961551Z"
    }
   },
   "id": "63d7331bead3fe9e"
  },
  {
   "cell_type": "code",
   "execution_count": 168,
   "outputs": [],
   "source": [
    "contract_key = \"OCTAPLUS_DYNAMIC\""
   ],
   "metadata": {
    "collapsed": false,
    "ExecuteTime": {
     "end_time": "2025-03-25T14:45:25.006856100Z",
     "start_time": "2025-03-25T14:45:24.970851300Z"
    }
   },
   "id": "37b4660c41db4cab"
  },
  {
   "cell_type": "code",
   "execution_count": 169,
   "outputs": [],
   "source": [
    "data = dict()"
   ],
   "metadata": {
    "collapsed": false,
    "ExecuteTime": {
     "end_time": "2025-03-25T14:45:25.006856100Z",
     "start_time": "2025-03-25T14:45:24.981880700Z"
    }
   },
   "id": "c57dbb9e3c71465e"
  },
  {
   "cell_type": "code",
   "execution_count": 170,
   "outputs": [
    {
     "name": "stderr",
     "output_type": "stream",
     "text": [
      "Overwriting cache for 0 389\n",
      "Overwriting cache for 0 389\n",
      "C:\\Users\\jaakd\\PycharmProjects\\dep1-24-25-g02\\venv\\Lib\\site-packages\\camelot\\parsers\\base.py:238: UserWarning: No tables found in table area (233.47999999999996, 573.24, 361.71616400000005, 712.3271597047658)\n",
      "  cols, rows, v_s, h_s = self._generate_columns_and_rows(bbox, user_cols)\n",
      "Overwriting cache for 0 389\n",
      "Overwriting cache for 0 389\n",
      "C:\\Users\\jaakd\\PycharmProjects\\dep1-24-25-g02\\venv\\Lib\\site-packages\\camelot\\parsers\\base.py:238: UserWarning: No tables found in table area (35.59999999999998, 387.96999999999997, 561.0328000000002, 853.3999999999997)\n",
      "  cols, rows, v_s, h_s = self._generate_columns_and_rows(bbox, user_cols)\n"
     ]
    }
   ],
   "source": [
    "tables = camelot.read_pdf(file_path, pages=\"all\", flavor=\"stream\")"
   ],
   "metadata": {
    "collapsed": false,
    "ExecuteTime": {
     "end_time": "2025-03-25T14:45:25.348346200Z",
     "start_time": "2025-03-25T14:45:24.986689700Z"
    }
   },
   "id": "7d03efdd6210c4e6"
  },
  {
   "cell_type": "code",
   "execution_count": 171,
   "outputs": [],
   "source": [
    "for i, table in enumerate(tables):\n",
    "    df = table.df\n",
    "    if df.isin([\"Vaste vergoeding (€/jaar)\"]).any().any():\n",
    "        fixed_fee_row = df.index[df.isin([\"Vaste vergoeding (€/jaar)\"]).any(axis=1)][0]\n",
    "        number = re.findall(r'-?\\d+,\\d+', df.loc[fixed_fee_row][1])[0].replace(\",\", '.')\n",
    "        data['AdministrativeCosts'] = float(number)"
   ],
   "metadata": {
    "collapsed": false,
    "ExecuteTime": {
     "end_time": "2025-03-25T14:45:25.355580500Z",
     "start_time": "2025-03-25T14:45:25.350133700Z"
    }
   },
   "id": "1bd65d90e7dfbd25"
  },
  {
   "cell_type": "code",
   "execution_count": 172,
   "outputs": [],
   "source": [
    "flatten = lambda *n: (e for a in n for e in (flatten(*a) if isinstance(a, (tuple, list)) else (a,)))"
   ],
   "metadata": {
    "collapsed": false,
    "ExecuteTime": {
     "end_time": "2025-03-25T14:45:25.363128Z",
     "start_time": "2025-03-25T14:45:25.358787300Z"
    }
   },
   "id": "47862da8ec48398a"
  },
  {
   "cell_type": "code",
   "execution_count": 173,
   "outputs": [],
   "source": [
    "with pdfplumber.open(file_path) as pdf:\n",
    "    tables = []\n",
    "    for page in pdf.pages:\n",
    "        tables.append(tables.append(page.extract_tables()))\n",
    "    cells = list(flatten(tables))"
   ],
   "metadata": {
    "collapsed": false,
    "ExecuteTime": {
     "end_time": "2025-03-25T14:45:25.637816800Z",
     "start_time": "2025-03-25T14:45:25.364133Z"
    }
   },
   "id": "111ac828d5547a96"
  },
  {
   "cell_type": "code",
   "execution_count": 174,
   "outputs": [],
   "source": [
    "for cell in cells:\n",
    "    if \"Kosten WKK\" in str(cell):\n",
    "        numbers = re.findall(r'-?\\d+,\\d+', cell)\n",
    "        numbers = [float(num.replace(',', '.')) for num in numbers]\n",
    "        data['GreenElectricity'], data[\"WKK\"] = numbers\n",
    "        break"
   ],
   "metadata": {
    "collapsed": false,
    "ExecuteTime": {
     "end_time": "2025-03-25T14:45:25.642700700Z",
     "start_time": "2025-03-25T14:45:25.639039Z"
    }
   },
   "id": "1a542d93f2b553aa"
  },
  {
   "cell_type": "code",
   "execution_count": 175,
   "outputs": [],
   "source": [
    "with pdfplumber.open(file_path) as pdf:\n",
    "    for page in pdf.pages:\n",
    "        if \"De elektriciteitsprijs voor OCTA+ Dynamic wordt elk uur geïndexeerd\" in page.extract_text():\n",
    "            for line in page.extract_text().split(\"\\n\"):\n",
    "                if \"als volgt: Belpex Hourly *\" in line:\n",
    "                    numbers = re.findall(r'-?\\d+,\\d+', line)\n",
    "                    numbers = [float(num.replace(',', '.')) for num in numbers]\n",
    "                    data['DynamicMeterCost'], data[\"DynamicBalancingCost\"] = numbers\n",
    "                    break"
   ],
   "metadata": {
    "collapsed": false,
    "ExecuteTime": {
     "end_time": "2025-03-25T14:45:26.120068500Z",
     "start_time": "2025-03-25T14:45:25.644115300Z"
    }
   },
   "id": "666390513503c7f5"
  },
  {
   "cell_type": "code",
   "execution_count": 176,
   "outputs": [
    {
     "data": {
      "text/plain": "{'AdministrativeCosts': 75.0,\n 'GreenElectricity': 2.279,\n 'WKK': 0.344,\n 'DynamicMeterCost': 1.038,\n 'DynamicBalancingCost': 3.93}"
     },
     "execution_count": 176,
     "metadata": {},
     "output_type": "execute_result"
    }
   ],
   "source": [
    "data"
   ],
   "metadata": {
    "collapsed": false,
    "ExecuteTime": {
     "end_time": "2025-03-25T14:45:26.128695100Z",
     "start_time": "2025-03-25T14:45:26.120068500Z"
    }
   },
   "id": "dc126027de1ca036"
  },
  {
   "cell_type": "code",
   "execution_count": 177,
   "outputs": [],
   "source": [
    "year, month = re.search(r'(\\d{4})-(\\d{2})', file_path).groups()\n",
    "date_key = f\"{year}{month}01\"  # Format as yyyymmdd with day as 01"
   ],
   "metadata": {
    "collapsed": false,
    "ExecuteTime": {
     "end_time": "2025-03-25T14:45:26.133741300Z",
     "start_time": "2025-03-25T14:45:26.130713800Z"
    }
   },
   "id": "c456d69449d03c2d"
  },
  {
   "cell_type": "code",
   "execution_count": 178,
   "outputs": [],
   "source": [
    "file_exists = os.path.isfile(csv_file)"
   ],
   "metadata": {
    "collapsed": false,
    "ExecuteTime": {
     "end_time": "2025-03-25T14:45:26.140170600Z",
     "start_time": "2025-03-25T14:45:26.136949Z"
    }
   },
   "id": "e60f48143278e807"
  },
  {
   "cell_type": "code",
   "execution_count": 179,
   "outputs": [
    {
     "name": "stdout",
     "output_type": "stream",
     "text": [
      "Data for 20230501 successfully written to octaplus_dynamic.csv\n"
     ]
    }
   ],
   "source": [
    "with open(csv_file, mode='a', newline='', encoding='utf-8') as file:\n",
    "    writer = csv.writer(file, delimiter=';')\n",
    "    \n",
    "    # Write header only if file doesn't exist\n",
    "    if not file_exists:\n",
    "        header = [\"DateKey\", \"ContractKey\", \"SingleMeterFixed\", \"DualMeterDayFixed\", \n",
    "                  \"DualMeterNightFixed\", \"ExclusiveNightMeterFixed\", \"SingleMeterVariableMeterFactor\", \n",
    "                  \"SingleMeterVariableBalancingCost\", \"DualMeterDayVariableMeterFactor\", \n",
    "                  \"DualMeterDayVariableBalancingCost\", \"DualMeterNightVariableMeterFactor\", \n",
    "                  \"DualMeterNightVariableBalancingCost\", \"ExclusiveNightMeterVariableMeterFactor\", \n",
    "                  \"ExclusiveNightMeterVariableBalancingCost\", \"DynamicMeterCost\", \"DynamicBalancingCost\", \n",
    "                  \"SingleMeterInjectionMeterFactor\", \"SingleMeterInjectionBalancingCost\", \n",
    "                  \"DualMeterDayInjectionMeterFactor\", \"DualMeterDayInjectionBalancingCost\", \n",
    "                  \"DualMeterNightInjectionMeterFactor\", \"DualMeterNightInjectionBalancingCost\", \n",
    "                  \"AdministrativeCosts\", \"GreenElectricity\", \"WKK\"]\n",
    "        writer.writerow(header)\n",
    "    \n",
    "    # Prepare data row in the specified order\n",
    "    row_data = [\n",
    "        date_key,\n",
    "        contract_key,\n",
    "        data.get('SingleMeterFixed', ''),\n",
    "        data.get('DualMeterDayFixed', ''),\n",
    "        data.get('DualMeterNightFixed', ''),\n",
    "        data.get('ExclusiveNightMeterFixed', ''),\n",
    "        data.get('SingleMeterVariableMeterFactor', ''),\n",
    "        data.get('SingleMeterVariableBalancingCost', ''),\n",
    "        data.get('DualMeterDayVariableMeterFactor', ''),\n",
    "        data.get('DualMeterDayVariableBalancingCost', ''),\n",
    "        data.get('DualMeterNightVariableMeterFactor', ''),\n",
    "        data.get('DualMeterNightVariableBalancingCost', ''),\n",
    "        data.get('ExclusiveNightMeterVariableMeterFactor', ''),\n",
    "        data.get('ExclusiveNightMeterVariableBalancingCost', ''),\n",
    "        data.get('DynamicMeterCost', ''),\n",
    "        data.get('DynamicBalancingCost', ''),\n",
    "        data.get('SingleMeterInjectionMeterFactor', ''),\n",
    "        data.get('SingleMeterInjectionBalancingCost', ''),\n",
    "        data.get('DualMeterDayInjectionMeterFactor', ''),\n",
    "        data.get('DualMeterDayInjectionBalancingCost', ''),\n",
    "        data.get('DualMeterNightInjectionMeterFactor', ''),\n",
    "        data.get('DualMeterNightInjectionBalancingCost', ''),\n",
    "        data.get('AdministrativeCosts', ''),\n",
    "        data.get('GreenElectricity', ''),\n",
    "        data.get('WKK', '')\n",
    "    ]\n",
    "\n",
    "    \n",
    "    # Write data row\n",
    "    writer.writerow(row_data)\n",
    "\n",
    "print(f\"Data for {date_key} successfully written to {csv_file}\")"
   ],
   "metadata": {
    "collapsed": false,
    "ExecuteTime": {
     "end_time": "2025-03-25T14:45:26.178769800Z",
     "start_time": "2025-03-25T14:45:26.140170600Z"
    }
   },
   "id": "8f0dcf568db56660"
  }
 ],
 "metadata": {
  "kernelspec": {
   "display_name": "Python 3",
   "language": "python",
   "name": "python3"
  },
  "language_info": {
   "codemirror_mode": {
    "name": "ipython",
    "version": 2
   },
   "file_extension": ".py",
   "mimetype": "text/x-python",
   "name": "python",
   "nbconvert_exporter": "python",
   "pygments_lexer": "ipython2",
   "version": "2.7.6"
  }
 },
 "nbformat": 4,
 "nbformat_minor": 5
}
