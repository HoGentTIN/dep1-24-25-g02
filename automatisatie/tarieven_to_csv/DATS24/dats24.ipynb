{
 "cells": [
  {
   "cell_type": "code",
   "execution_count": 60,
   "id": "initial_id",
   "metadata": {
    "collapsed": true,
    "ExecuteTime": {
     "end_time": "2025-03-22T09:51:16.373836500Z",
     "start_time": "2025-03-22T09:51:16.356911700Z"
    }
   },
   "outputs": [],
   "source": [
    "import re\n",
    "import camelot\n",
    "import os\n",
    "import csv"
   ]
  },
  {
   "cell_type": "code",
   "execution_count": 61,
   "outputs": [],
   "source": [
    "file_path = 'dats24-elektriciteit-2023-01.pdf'"
   ],
   "metadata": {
    "collapsed": false,
    "ExecuteTime": {
     "end_time": "2025-03-22T09:51:16.373836500Z",
     "start_time": "2025-03-22T09:51:16.365112200Z"
    }
   },
   "id": "34e0a2fa2e400a4a"
  },
  {
   "cell_type": "code",
   "execution_count": 62,
   "outputs": [],
   "source": [
    "data = dict()"
   ],
   "metadata": {
    "collapsed": false,
    "ExecuteTime": {
     "end_time": "2025-03-22T09:51:16.396737500Z",
     "start_time": "2025-03-22T09:51:16.370090100Z"
    }
   },
   "id": "4329997e4540d5fc"
  },
  {
   "cell_type": "code",
   "execution_count": 63,
   "outputs": [
    {
     "name": "stderr",
     "output_type": "stream",
     "text": [
      "Overwriting cache for 0 5634\n",
      "Overwriting cache for 0 5634\n",
      "Overwriting cache for 0 5634\n",
      "Overwriting cache for 0 5634\n",
      "Overwriting cache for 0 5634\n",
      "C:\\Users\\jaakd\\PycharmProjects\\dep1-24-25-g02\\venv\\Lib\\site-packages\\camelot\\parsers\\base.py:238: UserWarning: No tables found in table area (11.36, 448.36, 580.2311199999996, 708.7219999999998)\n",
      "  cols, rows, v_s, h_s = self._generate_columns_and_rows(bbox, user_cols)\n"
     ]
    }
   ],
   "source": [
    "tables = camelot.read_pdf(file_path, pages=\"all\", flavor=\"stream\")"
   ],
   "metadata": {
    "collapsed": false,
    "ExecuteTime": {
     "end_time": "2025-03-22T09:51:16.939402300Z",
     "start_time": "2025-03-22T09:51:16.376475Z"
    }
   },
   "id": "111d160bd20cc0d"
  },
  {
   "cell_type": "code",
   "execution_count": 64,
   "outputs": [
    {
     "name": "stdout",
     "output_type": "stream",
     "text": [
      "'VASTE VERGOEDING (€/jaar)' found in Table 1\n",
      "'Afname1 (c€/kWh)' found in Table 1\n",
      "'Teruglevering2 (c€/kWh)' found in Table 1\n",
      "'WKC (c€/kWh)' found in Table 1\n",
      "'GSC' found in Table 1 at row 13\n",
      "{'AdministrativeCosts': '38,50', 'SingleMeterFixed': '32,48', 'DualMeterDayFixed': '38,49', 'DualMeterNightFixed': '29,50', 'ExclusiveNightMeterFixed': '29,50', 'SingleMeterInjectionMeterFactor': '21,16', 'DualMeterDayInjectionMeterFactor': '21,16', 'DualMeterNightInjectionMeterFactor': '21,16', 'WKK': '0,357', 'GreenElectricity': '2,210'}\n"
     ]
    }
   ],
   "source": [
    "for i, table in enumerate(tables):\n",
    "    df = table.df\n",
    "    \n",
    "    if df.isin([\"VASTE VERGOEDING (€/jaar)\"]).any().any():\n",
    "        print(f\"'VASTE VERGOEDING (€/jaar)' found in Table {i+1}\")\n",
    "        fixed_fee_row = df.index[df.isin([\"VASTE VERGOEDING (€/jaar)\"]).any(axis=1)][0]\n",
    "        data['AdministrativeCosts'] = df.loc[fixed_fee_row][1]\n",
    "    \n",
    "    if df.isin([\"Afname1 (c€/kWh)\"]).any().any():\n",
    "        print(f\"'Afname1 (c€/kWh)' found in Table {i+1}\")\n",
    "        variable_row = df.index[df.isin([\"Afname1 (c€/kWh)\"]).any(axis=1)][0]\n",
    "        data['SingleMeterFixed'] = df.loc[variable_row][1]\n",
    "        data['DualMeterDayFixed'] = df.loc[variable_row][2]\n",
    "        data['DualMeterNightFixed'] = df.loc[variable_row][4]\n",
    "        data['ExclusiveNightMeterFixed'] = df.loc[variable_row][5]\n",
    "\n",
    "    if df.isin([\"Teruglevering2 (c€/kWh)\"]).any().any():\n",
    "        print(f\"'Teruglevering2 (c€/kWh)' found in Table {i+1}\")\n",
    "        injection_row = df.index[df.isin([\"Teruglevering2 (c€/kWh)\"]).any(axis=1)][0]\n",
    "        data['SingleMeterInjectionMeterFactor'] = df.loc[injection_row][1]\n",
    "        data['DualMeterDayInjectionMeterFactor'] = df.loc[injection_row][3]\n",
    "        data['DualMeterNightInjectionMeterFactor'] = df.loc[injection_row][3]\n",
    "\n",
    "    if df.isin([\"GSC (c€/kWh)\"]).any().any():\n",
    "        print(f\"'GSC (c€/kWh)' found in Table {i+1}\")\n",
    "        gsc_row = df.index[df.isin([\"GSC (c€/kWh)\"]).any(axis=1)][0]\n",
    "        data['GreenElectricity'] = df.loc[gsc_row][1]\n",
    "\n",
    "    if df.isin([\"WKC (c€/kWh)\"]).any().any():\n",
    "        print(f\"'WKC (c€/kWh)' found in Table {i+1}\")\n",
    "        wkc_row = df.index[df.isin([\"WKC (c€/kWh)\"]).any(axis=1)][0]\n",
    "        data['WKK'] = df.loc[wkc_row][1]\n",
    "    \n",
    "    for idx in range(len(df)):\n",
    "        row_values = df.iloc[idx].tolist()\n",
    "        if any('GSC' in str(val) for val in row_values if val is not None):\n",
    "            print(f\"'GSC' found in Table {i+1} at row {idx}\")\n",
    "            data['GreenElectricity'] = df.iloc[idx][1]\n",
    "            break\n",
    "\n",
    "    print(data)\n",
    "    break\n"
   ],
   "metadata": {
    "collapsed": false,
    "ExecuteTime": {
     "end_time": "2025-03-22T09:51:16.952693800Z",
     "start_time": "2025-03-22T09:51:16.943994800Z"
    }
   },
   "id": "bf1fccf10754f09"
  },
  {
   "cell_type": "code",
   "execution_count": 65,
   "outputs": [
    {
     "name": "stdout",
     "output_type": "stream",
     "text": [
      "Found tariff formula table (Table 2)\n",
      "{'AdministrativeCosts': '38,50', 'SingleMeterFixed': '32,48', 'DualMeterDayFixed': '38,49', 'DualMeterNightFixed': '29,50', 'ExclusiveNightMeterFixed': '29,50', 'SingleMeterInjectionMeterFactor': '0,073', 'DualMeterDayInjectionMeterFactor': '0,073', 'DualMeterNightInjectionMeterFactor': '0,073', 'WKK': '0,357', 'GreenElectricity': '2,210', 'SingleMeterVariableMeterFactor': '0,1084', 'SingleMeterVariableBalancingCost': '0,697', 'DualMeterDayVariableMeterFactor': '0,1289', 'DualMeterDayVariableBalancingCost': '0,697', 'SingleMeterInjectionBalancingCost': '0,38', 'DualMeterDayInjectionBalancingCost': '0,38', 'DualMeterNightInjectionBalancingCost': '0,38', 'DualMeterNightVariableMeterFactor': '0,0982', 'DualMeterNightVariableBalancingCost': '0,697', 'ExclusiveNightMeterVariableMeterFactor': '0,0982', 'ExclusiveNightMeterVariableBalancingCost': '0,697'}\n"
     ]
    }
   ],
   "source": [
    "for i, table in enumerate(tables):\n",
    "    df = table.df\n",
    "    \n",
    "    if df.isin([\"TARRIEFFORMULE\"]).any().any():\n",
    "        print(f\"Found tariff formula table (Table {i+1})\")\n",
    "        \n",
    "        for idx in range(len(df)):\n",
    "            row_values = df.iloc[idx].tolist()\n",
    "            \n",
    "            if \"Enkelvoudige meter\" in row_values:\n",
    "                formula = df.iloc[idx][2]  # AFNAME column\n",
    "                if \"BE_spotRLP\" in formula:\n",
    "                    factor = formula.split('x')[1].split('+')[0].strip()\n",
    "                    balancing = formula.split('+')[1].split(')')[0].strip()\n",
    "                    data['SingleMeterVariableMeterFactor'] = factor\n",
    "                    data['SingleMeterVariableBalancingCost'] = balancing\n",
    "            \n",
    "            if \"Tweevoudige meter\" in row_values and \"Dag\" in row_values:\n",
    "                formula = df.iloc[idx][2]\n",
    "                if \"BE_spotRLP\" in formula:\n",
    "                    data['DualMeterDayVariableMeterFactor'] = formula.split('x')[1].split('+')[0].strip()\n",
    "                    data['DualMeterDayVariableBalancingCost'] = formula.split('+')[1].split(')')[0].strip()\n",
    "            \n",
    "            if \"Nacht\" in row_values:\n",
    "                formula = df.iloc[idx][2]\n",
    "                if \"BE_spotRLP\" in formula:\n",
    "                    data['DualMeterNightVariableMeterFactor'] = formula.split('x')[1].split('+')[0].strip()\n",
    "                    data['DualMeterNightVariableBalancingCost'] = formula.split('+')[1].split(')')[0].strip()\n",
    "            \n",
    "            if \"Uitsluitend nachtmeter\" in row_values:\n",
    "                formula = df.iloc[idx][2]\n",
    "                if \"BE_spotRLP\" in formula:\n",
    "                    data['ExclusiveNightMeterVariableMeterFactor'] = formula.split('x')[1].split('+')[0].strip()\n",
    "                    data['ExclusiveNightMeterVariableBalancingCost'] = formula.split('+')[1].split(')')[0].strip()\n",
    "            \n",
    "            if len(row_values) > 3 and isinstance(row_values[3], str) and \"BE_spotSPP\" in row_values[3]:\n",
    "                injection = row_values[3]\n",
    "                injection_factor = injection.split('x')[1].split('-')[0].strip()\n",
    "                injection_balancing = injection.split('-')[1].strip().split(')')[0].strip()\n",
    "                data['SingleMeterInjectionMeterFactor'] = injection_factor\n",
    "                data['SingleMeterInjectionBalancingCost'] = injection_balancing\n",
    "                data['DualMeterDayInjectionMeterFactor'] = injection_factor\n",
    "                data['DualMeterDayInjectionBalancingCost'] = injection_balancing\n",
    "                data['DualMeterNightInjectionMeterFactor'] = injection_factor\n",
    "                data['DualMeterNightInjectionBalancingCost'] = injection_balancing\n",
    "        \n",
    "        print(data)\n",
    "        break\n"
   ],
   "metadata": {
    "collapsed": false,
    "ExecuteTime": {
     "end_time": "2025-03-22T09:51:16.980281100Z",
     "start_time": "2025-03-22T09:51:16.957940100Z"
    }
   },
   "id": "726ae01f54ce74c"
  },
  {
   "cell_type": "code",
   "execution_count": 66,
   "outputs": [],
   "source": [
    "year, month = re.search(r'(\\d{4})-(\\d{2})', file_path).groups()\n",
    "date_key = f\"{year}{month}01\"  # Format as yyyymmdd with day as 01"
   ],
   "metadata": {
    "collapsed": false,
    "ExecuteTime": {
     "end_time": "2025-03-22T09:51:16.980281100Z",
     "start_time": "2025-03-22T09:51:16.963313100Z"
    }
   },
   "id": "5718f6ab43f4e00a"
  },
  {
   "cell_type": "code",
   "execution_count": 67,
   "outputs": [],
   "source": [
    "csv_file = \"dats24.csv\""
   ],
   "metadata": {
    "collapsed": false,
    "ExecuteTime": {
     "end_time": "2025-03-22T09:51:16.980281100Z",
     "start_time": "2025-03-22T09:51:16.969729200Z"
    }
   },
   "id": "248cbdecfb96a894"
  },
  {
   "cell_type": "code",
   "execution_count": 68,
   "outputs": [],
   "source": [
    "file_exists = os.path.isfile(csv_file)"
   ],
   "metadata": {
    "collapsed": false,
    "ExecuteTime": {
     "end_time": "2025-03-22T09:51:16.980281100Z",
     "start_time": "2025-03-22T09:51:16.973002Z"
    }
   },
   "id": "a82746ac8ac756f3"
  },
  {
   "cell_type": "code",
   "execution_count": 69,
   "outputs": [],
   "source": [
    "data = {key: value.replace(',', '.') if isinstance(value, str) else value for key, value in data.items()}"
   ],
   "metadata": {
    "collapsed": false,
    "ExecuteTime": {
     "end_time": "2025-03-22T09:51:16.980281100Z",
     "start_time": "2025-03-22T09:51:16.978550400Z"
    }
   },
   "id": "3224433f1346293d"
  },
  {
   "cell_type": "code",
   "execution_count": 70,
   "outputs": [
    {
     "name": "stdout",
     "output_type": "stream",
     "text": [
      "Data for 20230101 successfully written to dats24.csv\n"
     ]
    }
   ],
   "source": [
    "with open(csv_file, mode='a', newline='', encoding='utf-8') as file:\n",
    "    writer = csv.writer(file, delimiter=';')\n",
    "    \n",
    "    # Write header only if file doesn't exist\n",
    "    if not file_exists:\n",
    "        header = [\"DateKey\", \"ContractKey\", \"SingleMeterFixed\", \"DualMeterDayFixed\", \n",
    "                  \"DualMeterNightFixed\", \"ExclusiveNightMeterFixed\", \"SingleMeterVariableMeterFactor\", \n",
    "                  \"SingleMeterVariableBalancingCost\", \"DualMeterDayVariableMeterFactor\", \n",
    "                  \"DualMeterDayVariableBalancingCost\", \"DualMeterNightVariableMeterFactor\", \n",
    "                  \"DualMeterNightVariableBalancingCost\", \"ExclusiveNightMeterVariableMeterFactor\", \n",
    "                  \"ExclusiveNightMeterVariableBalancingCost\", \"DynamicMeterCost\", \"DynamicBalancingCost\", \n",
    "                  \"SingleMeterInjectionMeterFactor\", \"SingleMeterInjectionBalancingCost\", \n",
    "                  \"DualMeterDayInjectionMeterFactor\", \"DualMeterDayInjectionBalancingCost\", \n",
    "                  \"DualMeterNightInjectionMeterFactor\", \"DualMeterNightInjectionBalancingCost\", \n",
    "                  \"AdministrativeCosts\", \"GreenElectricity\", \"WKK\"]\n",
    "        writer.writerow(header)\n",
    "    \n",
    "    # Prepare data row in the specified order\n",
    "    row_data = [\n",
    "        date_key,\n",
    "        \"DATS24_ELEKTRICITEIT\",\n",
    "        data['SingleMeterFixed'],\n",
    "        data['DualMeterDayFixed'],\n",
    "        data['DualMeterNightFixed'],\n",
    "        data['ExclusiveNightMeterFixed'],\n",
    "        data['SingleMeterVariableMeterFactor'],\n",
    "        data['SingleMeterVariableBalancingCost'],\n",
    "        data['DualMeterDayVariableMeterFactor'],\n",
    "        data['DualMeterDayVariableBalancingCost'],\n",
    "        data['DualMeterNightVariableMeterFactor'],\n",
    "        data['DualMeterNightVariableBalancingCost'],\n",
    "        data['ExclusiveNightMeterVariableMeterFactor'],\n",
    "        data['ExclusiveNightMeterVariableBalancingCost'],\n",
    "        data.get('DynamicMeterCost', ''),\n",
    "        data.get('DynamicBalancingCost', ''),\n",
    "        data['SingleMeterInjectionMeterFactor'],\n",
    "        data['SingleMeterInjectionBalancingCost'],\n",
    "        data['DualMeterDayInjectionMeterFactor'],\n",
    "        data['DualMeterDayInjectionBalancingCost'],\n",
    "        data['DualMeterNightInjectionMeterFactor'],\n",
    "        data['DualMeterNightInjectionBalancingCost'],\n",
    "        data['AdministrativeCosts'],\n",
    "        data['GreenElectricity'],\n",
    "        data['WKK']\n",
    "    ]\n",
    "    \n",
    "    # Write data row\n",
    "    writer.writerow(row_data)\n",
    "\n",
    "print(f\"Data for {date_key} successfully written to {csv_file}\")"
   ],
   "metadata": {
    "collapsed": false,
    "ExecuteTime": {
     "end_time": "2025-03-22T09:51:16.992797700Z",
     "start_time": "2025-03-22T09:51:16.981906300Z"
    }
   },
   "id": "45cdd5b7036f7fe"
  }
 ],
 "metadata": {
  "kernelspec": {
   "display_name": "Python 3",
   "language": "python",
   "name": "python3"
  },
  "language_info": {
   "codemirror_mode": {
    "name": "ipython",
    "version": 2
   },
   "file_extension": ".py",
   "mimetype": "text/x-python",
   "name": "python",
   "nbconvert_exporter": "python",
   "pygments_lexer": "ipython2",
   "version": "2.7.6"
  }
 },
 "nbformat": 4,
 "nbformat_minor": 5
}
