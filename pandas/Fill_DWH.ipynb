{
 "cells": [
  {
   "cell_type": "markdown",
   "metadata": {},
   "source": [
    "1: DimDate Table"
   ]
  },
  {
   "cell_type": "code",
   "execution_count": null,
   "metadata": {},
   "outputs": [],
   "source": [
    "%pip install --upgrade sqlalchemy\n",
    "%pip install --upgrade pyodbc"
   ]
  },
  {
   "cell_type": "code",
   "execution_count": null,
   "metadata": {},
   "outputs": [],
   "source": [
    "import pyodbc\n",
    "print(pyodbc.drivers())"
   ]
  },
  {
   "cell_type": "code",
   "execution_count": null,
   "metadata": {},
   "outputs": [
    {
     "data": {
      "text/plain": [
       "19"
      ]
     },
     "execution_count": 1,
     "metadata": {},
     "output_type": "execute_result"
    }
   ],
   "source": [
    "import pandas as pd\n",
    "from sqlalchemy import create_engine\n",
    "\n",
    "# Maak een range van datums\n",
    "date_list = pd.date_range(start=\"01-01-2010\", end=\"31-12-2025\", freq='D')\n",
    "\n",
    "df_dimdate = pd.DataFrame({\n",
    "    'DateKey': date_list.strftime('%Y%m%d').astype(int),  # YYYYMMDD als key\n",
    "    'FullDate': date_list.date,  # Volledige datum\n",
    "    'DayName': date_list.strftime('%A'),  # Dagnaam in Engels\n",
    "    'MonthNameDutch': date_list.strftime('%B'),  # Maandnaam (kan vertaald worden)\n",
    "    'MonthNameEN': date_list.strftime('%B'),  # Maandnaam in Engels\n",
    "    'DayNameDutch': date_list.strftime('%A'),  # Dagnaam in Nederlands\n",
    "    'DayNameEN': date_list.strftime('%A'),  # Dagnaam in Engels\n",
    "    'QuarterName': 'Q' + date_list.quarter.astype(str),  # Kwartaal als 'Q1', 'Q2', ...\n",
    "    'QuarterNumber': date_list.quarter  # Kwartaalnummer (1-4)\n",
    "})\n",
    "\n",
    "# Schrijf naar SQL Server\n",
    "\n",
    "# Gegevens voor de verbinding\n",
    "server = \"xxx\"  # Servernaam of IP-adres van je SQL Server\n",
    "database = \"DEP1_DWH\"  # Naam van je database\n",
    "\n",
    "# Maak de verbindingsstring met Windows Authenticatie (Integrated Security)\n",
    "engine = create_engine(\"mssql+pyodbc://@{}/{}?driver=ODBC+Driver+17+for+SQL+Server\".format(server, database))\n",
    "df_dimdate.to_sql('DimDate', con=engine, if_exists='append', index=False)\n"
   ]
  },
  {
   "cell_type": "code",
   "execution_count": 2,
   "metadata": {},
   "outputs": [
    {
     "data": {
      "text/html": [
       "<div>\n",
       "<style scoped>\n",
       "    .dataframe tbody tr th:only-of-type {\n",
       "        vertical-align: middle;\n",
       "    }\n",
       "\n",
       "    .dataframe tbody tr th {\n",
       "        vertical-align: top;\n",
       "    }\n",
       "\n",
       "    .dataframe thead th {\n",
       "        text-align: right;\n",
       "    }\n",
       "</style>\n",
       "<table border=\"1\" class=\"dataframe\">\n",
       "  <thead>\n",
       "    <tr style=\"text-align: right;\">\n",
       "      <th></th>\n",
       "      <th>DateKey</th>\n",
       "      <th>FullDate</th>\n",
       "      <th>DayName</th>\n",
       "      <th>MonthNameDutch</th>\n",
       "      <th>MonthNameEN</th>\n",
       "      <th>DayNameDutch</th>\n",
       "      <th>DayNameEN</th>\n",
       "      <th>QuarterName</th>\n",
       "      <th>QuarterNumber</th>\n",
       "    </tr>\n",
       "  </thead>\n",
       "  <tbody>\n",
       "    <tr>\n",
       "      <th>0</th>\n",
       "      <td>20100101</td>\n",
       "      <td>2010-01-01</td>\n",
       "      <td>Friday</td>\n",
       "      <td>January</td>\n",
       "      <td>January</td>\n",
       "      <td>Friday</td>\n",
       "      <td>Friday</td>\n",
       "      <td>Q1</td>\n",
       "      <td>1</td>\n",
       "    </tr>\n",
       "    <tr>\n",
       "      <th>1</th>\n",
       "      <td>20100102</td>\n",
       "      <td>2010-01-02</td>\n",
       "      <td>Saturday</td>\n",
       "      <td>January</td>\n",
       "      <td>January</td>\n",
       "      <td>Saturday</td>\n",
       "      <td>Saturday</td>\n",
       "      <td>Q1</td>\n",
       "      <td>1</td>\n",
       "    </tr>\n",
       "    <tr>\n",
       "      <th>2</th>\n",
       "      <td>20100103</td>\n",
       "      <td>2010-01-03</td>\n",
       "      <td>Sunday</td>\n",
       "      <td>January</td>\n",
       "      <td>January</td>\n",
       "      <td>Sunday</td>\n",
       "      <td>Sunday</td>\n",
       "      <td>Q1</td>\n",
       "      <td>1</td>\n",
       "    </tr>\n",
       "    <tr>\n",
       "      <th>3</th>\n",
       "      <td>20100104</td>\n",
       "      <td>2010-01-04</td>\n",
       "      <td>Monday</td>\n",
       "      <td>January</td>\n",
       "      <td>January</td>\n",
       "      <td>Monday</td>\n",
       "      <td>Monday</td>\n",
       "      <td>Q1</td>\n",
       "      <td>1</td>\n",
       "    </tr>\n",
       "    <tr>\n",
       "      <th>4</th>\n",
       "      <td>20100105</td>\n",
       "      <td>2010-01-05</td>\n",
       "      <td>Tuesday</td>\n",
       "      <td>January</td>\n",
       "      <td>January</td>\n",
       "      <td>Tuesday</td>\n",
       "      <td>Tuesday</td>\n",
       "      <td>Q1</td>\n",
       "      <td>1</td>\n",
       "    </tr>\n",
       "  </tbody>\n",
       "</table>\n",
       "</div>"
      ],
      "text/plain": [
       "    DateKey    FullDate   DayName MonthNameDutch MonthNameEN DayNameDutch  \\\n",
       "0  20100101  2010-01-01    Friday        January     January       Friday   \n",
       "1  20100102  2010-01-02  Saturday        January     January     Saturday   \n",
       "2  20100103  2010-01-03    Sunday        January     January       Sunday   \n",
       "3  20100104  2010-01-04    Monday        January     January       Monday   \n",
       "4  20100105  2010-01-05   Tuesday        January     January      Tuesday   \n",
       "\n",
       "  DayNameEN QuarterName  QuarterNumber  \n",
       "0    Friday          Q1              1  \n",
       "1  Saturday          Q1              1  \n",
       "2    Sunday          Q1              1  \n",
       "3    Monday          Q1              1  \n",
       "4   Tuesday          Q1              1  "
      ]
     },
     "execution_count": 2,
     "metadata": {},
     "output_type": "execute_result"
    }
   ],
   "source": [
    "df_dimdate.head()"
   ]
  },
  {
   "cell_type": "markdown",
   "metadata": {},
   "source": [
    "2: DimTime Table"
   ]
  },
  {
   "cell_type": "code",
   "execution_count": null,
   "metadata": {},
   "outputs": [],
   "source": [
    "# Genereer tijdstippen van 00:00 tot 23:59 per minuut\n",
    "time_range = pd.date_range(\"00:00\", \"23:59\", freq=\"T\").time\n",
    "dim_time_df = pd.DataFrame(time_range, columns=['Time'])\n",
    "\n",
    "dim_time_df['TimeKey'] = dim_time_df['Time'].apply(lambda x: int(x.strftime('%H%M')))\n",
    "dim_time_df['Hour'] = dim_time_df['Time'].apply(lambda x: x.hour)\n",
    "dim_time_df['Minute'] = dim_time_df['Time'].apply(lambda x: x.minute)\n",
    "\n",
    "# Schrijf naar SQL Server\n",
    "dim_time_df.to_sql('DimTime', con=engine, if_exists='replace', index=False)\n"
   ]
  },
  {
   "cell_type": "markdown",
   "metadata": {},
   "source": [
    "3: DimWeatherStation Table"
   ]
  },
  {
   "cell_type": "code",
   "execution_count": null,
   "metadata": {},
   "outputs": [],
   "source": [
    "# Lees de CSV voor weerstations\n",
    "weather_station_df = pd.read_csv('weather_stations.csv')\n",
    "\n",
    "# Verwerk de kolommen\n",
    "weather_station_df = weather_station_df[['StationName', 'Latitude', 'Longitude', 'Altitude']]\n",
    "\n",
    "# Schrijf naar SQL Server\n",
    "weather_station_df.to_sql('DimWeatherStation', con=engine, if_exists='replace', index=False)\n"
   ]
  },
  {
   "cell_type": "markdown",
   "metadata": {},
   "source": [
    "4: FactWeather Table"
   ]
  },
  {
   "cell_type": "code",
   "execution_count": null,
   "metadata": {},
   "outputs": [],
   "source": [
    "# Lees de CSV voor weerdata\n",
    "weather_data_df = pd.read_csv('weather_data.csv')\n",
    "\n",
    "# Voeg de foreign keys toe\n",
    "weather_data_df['DateKey'] = pd.to_datetime(weather_data_df['Date']).dt.strftime('%Y%m%d')\n",
    "weather_data_df['TimeKey'] = pd.to_datetime(weather_data_df['Time']).dt.strftime('%H%M')\n",
    "\n",
    "# Voeg de WeatherStationKey toe (bijvoorbeeld door te matchen met de StationName)\n",
    "weather_data_df = weather_data_df.merge(weather_station_df[['StationName', 'WeatherStationKey']], on='StationName', how='left')\n",
    "\n",
    "# Schrijf naar SQL Server\n",
    "weather_data_df.to_sql('FactWeather', con=engine, if_exists='replace', index=False)\n"
   ]
  },
  {
   "cell_type": "markdown",
   "metadata": {},
   "source": [
    "5: FactBelpex Table"
   ]
  },
  {
   "cell_type": "code",
   "execution_count": null,
   "metadata": {},
   "outputs": [],
   "source": [
    "# Lees de CSV voor BELPEX\n",
    "belpex_df = pd.read_csv('belpex_data.csv')\n",
    "\n",
    "# Voeg de foreign keys toe\n",
    "belpex_df['DateKey'] = pd.to_datetime(belpex_df['Date']).dt.strftime('%Y%m%d')\n",
    "belpex_df['TimeKey'] = pd.to_datetime(belpex_df['Time']).dt.strftime('%H%M')\n",
    "\n",
    "# Schrijf naar SQL Server\n",
    "belpex_df.to_sql('FactBelpex', con=engine, if_exists='replace', index=False)\n"
   ]
  },
  {
   "cell_type": "markdown",
   "metadata": {},
   "source": [
    "6: Verbruikersdata\n",
    "\n",
    "- Verwerk de verbruikersdata naar het juiste formaat.\n",
    "- Gebruik SQL Server's bulk-insert om grote hoeveelheden data efficiënt te verwerken."
   ]
  },
  {
   "cell_type": "code",
   "execution_count": null,
   "metadata": {},
   "outputs": [],
   "source": []
  },
  {
   "cell_type": "markdown",
   "metadata": {},
   "source": [
    "7: Overige Tabellen\n",
    "\n",
    "- Voor de overige tabellen, volg dezelfde logica:\n",
    "    - Lees de CSV’s.\n",
    "    - Voeg de benodigde foreign keys toe.\n",
    "    - Schrijf de data weg naar de juiste tabellen via bulk-insert of andere batch methoden."
   ]
  },
  {
   "cell_type": "code",
   "execution_count": null,
   "metadata": {},
   "outputs": [],
   "source": []
  },
  {
   "cell_type": "markdown",
   "metadata": {},
   "source": [
    "Algemeen:\n",
    "Voor alle bulk-insert taken moet je zorgen voor een efficiënte schrijfmethode naar SQL Server, bijvoorbeeld:\n",
    "\n",
    "- to_sql() in combinatie met een SQLAlchemy engine.\n",
    "- Bulk-insert via pyodbc of tools zoals bcp.\n",
    "- Gebruik maken van BULK INSERT in SQL Server voor het snel inladen van grote datasets."
   ]
  }
 ],
 "metadata": {
  "kernelspec": {
   "display_name": "Python 3",
   "language": "python",
   "name": "python3"
  },
  "language_info": {
   "codemirror_mode": {
    "name": "ipython",
    "version": 3
   },
   "file_extension": ".py",
   "mimetype": "text/x-python",
   "name": "python",
   "nbconvert_exporter": "python",
   "pygments_lexer": "ipython3",
   "version": "3.13.2"
  }
 },
 "nbformat": 4,
 "nbformat_minor": 2
}
